{
  "nbformat": 4,
  "nbformat_minor": 0,
  "metadata": {
    "kernelspec": {
      "display_name": "Python 3",
      "language": "python",
      "name": "python3"
    },
    "language_info": {
      "codemirror_mode": {
        "name": "ipython",
        "version": 3
      },
      "file_extension": ".py",
      "mimetype": "text/x-python",
      "name": "python",
      "nbconvert_exporter": "python",
      "pygments_lexer": "ipython3",
      "version": "3.7.7"
    },
    "colab": {
      "provenance": [],
      "collapsed_sections": [
        "TIFwAtW1pc6h"
      ],
      "include_colab_link": true
    },
    "accelerator": "GPU"
  },
  "cells": [
    {
      "cell_type": "markdown",
      "metadata": {
        "id": "view-in-github",
        "colab_type": "text"
      },
      "source": [
        "<a href=\"https://colab.research.google.com/github/PosgradoMNA/actividades-de-aprendizaje-A01794299/blob/main/Actividad_semanal_7_Regresiones_y_K_means.ipynb\" target=\"_parent\"><img src=\"https://colab.research.google.com/assets/colab-badge.svg\" alt=\"Open In Colab\"/></a>"
      ]
    },
    {
      "cell_type": "markdown",
      "source": [
        "Ciencia y analítica de Datos\n",
        "\n",
        "Matrícula: A01794299\n",
        "\n",
        "Nombre: Eunice Ornelas Rodríguez\n",
        "\n",
        "Profesora: María de la Paz Rico\n",
        "\n",
        "09 de noviembre de 2022\n",
        "\n",
        "# **Actividad semanal 7 Regresiones y K-Means**"
      ],
      "metadata": {
        "id": "b1LrvG3qzrtZ"
      }
    },
    {
      "cell_type": "markdown",
      "metadata": {
        "id": "WUO-kdryVQwK"
      },
      "source": [
        "# Linear Models\n"
      ]
    },
    {
      "cell_type": "code",
      "source": [],
      "metadata": {
        "id": "Msm89naSzi21"
      },
      "execution_count": null,
      "outputs": []
    },
    {
      "cell_type": "markdown",
      "metadata": {
        "id": "u3ytB4LpVQwM"
      },
      "source": [
        "- In supervised learning, the training data fed to the algorithm includes the desired solutions, called labels. \n",
        "- In **regression**, the labels are continuous quantities.\n",
        "- Linear models predict by computing a weighted sum of input features plus a bias term."
      ]
    },
    {
      "cell_type": "code",
      "metadata": {
        "id": "HMp_I4Y6VQwN"
      },
      "source": [
        "import numpy as np\n",
        "%matplotlib inline\n",
        "import matplotlib\n",
        "import matplotlib.pyplot as plt\n",
        "import pandas as pd\n",
        "import seaborn as sns\n",
        "# to make this notebook's output stable across runs\n",
        "np.random.seed(42)"
      ],
      "execution_count": 7,
      "outputs": []
    },
    {
      "cell_type": "code",
      "source": [
        "import numpy as np\n",
        "%matplotlib inline\n",
        "import matplotlib\n",
        "import matplotlib.pyplot as plt\n",
        "import pandas as pd\n",
        "import seaborn as sns\n",
        "from sklearn import metrics\n",
        "from sklearn.metrics import r2_score\n",
        "from sklearn.linear_model import Ridge\n",
        "from sklearn.linear_model import LinearRegression, Lasso, Ridge, ElasticNet\n",
        "import pandas as pd\n",
        "from sklearn.preprocessing import PolynomialFeatures\n",
        "from sklearn import metrics\n",
        "from sklearn.metrics import r2_score\n",
        "from sklearn.metrics import mean_squared_error, mean_absolute_percentage_error,  make_scorer\n",
        "from sklearn.preprocessing import MinMaxScaler\n",
        "from sklearn.preprocessing import power_transform\n",
        "from sklearn.model_selection import RepeatedKFold, RepeatedStratifiedKFold\n",
        "from sklearn.model_selection import cross_val_score\n",
        "from sklearn.preprocessing import StandardScaler\n",
        "from sklearn.pipeline import Pipeline\n",
        "from sklearn.model_selection import train_test_split, GridSearchCV, train_test_split, RepeatedKFold, cross_validate"
      ],
      "metadata": {
        "id": "BpwTC-IqMxRD"
      },
      "execution_count": 22,
      "outputs": []
    },
    {
      "cell_type": "code",
      "source": [
        "5-2"
      ],
      "metadata": {
        "colab": {
          "base_uri": "https://localhost:8080/"
        },
        "id": "exg6xSYf3F5D",
        "outputId": "c32830b2-e2b9-44de-a05a-5fb14379b49a"
      },
      "execution_count": 2,
      "outputs": [
        {
          "output_type": "execute_result",
          "data": {
            "text/plain": [
              "3"
            ]
          },
          "metadata": {},
          "execution_count": 2
        }
      ]
    },
    {
      "cell_type": "markdown",
      "metadata": {
        "id": "szpzFXgiVQwN"
      },
      "source": [
        "## Simple Linear Regression\n",
        "\n",
        "Simple linear regression equation:\n",
        "\n",
        "$y = ax + b$\n",
        "<br>\n",
        "$a$: slope\n",
        "<br>\n",
        "$b$: intercept\n",
        "\n",
        "Generate linear-looking data with the equation:\n",
        "\n",
        "$y = 3X + 4 + noise$"
      ]
    },
    {
      "cell_type": "code",
      "metadata": {
        "colab": {
          "base_uri": "https://localhost:8080/"
        },
        "id": "mitJFYeiMQqD",
        "outputId": "616681ba-bbb1-465e-8fe7-55acf424944a"
      },
      "source": [
        "#genera 100 numeros aleatorios con limite máximo de 1 \n",
        "np.random.rand(100, 1)"
      ],
      "execution_count": 3,
      "outputs": [
        {
          "output_type": "execute_result",
          "data": {
            "text/plain": [
              "array([[0.37454012],\n",
              "       [0.95071431],\n",
              "       [0.73199394],\n",
              "       [0.59865848],\n",
              "       [0.15601864],\n",
              "       [0.15599452],\n",
              "       [0.05808361],\n",
              "       [0.86617615],\n",
              "       [0.60111501],\n",
              "       [0.70807258],\n",
              "       [0.02058449],\n",
              "       [0.96990985],\n",
              "       [0.83244264],\n",
              "       [0.21233911],\n",
              "       [0.18182497],\n",
              "       [0.18340451],\n",
              "       [0.30424224],\n",
              "       [0.52475643],\n",
              "       [0.43194502],\n",
              "       [0.29122914],\n",
              "       [0.61185289],\n",
              "       [0.13949386],\n",
              "       [0.29214465],\n",
              "       [0.36636184],\n",
              "       [0.45606998],\n",
              "       [0.78517596],\n",
              "       [0.19967378],\n",
              "       [0.51423444],\n",
              "       [0.59241457],\n",
              "       [0.04645041],\n",
              "       [0.60754485],\n",
              "       [0.17052412],\n",
              "       [0.06505159],\n",
              "       [0.94888554],\n",
              "       [0.96563203],\n",
              "       [0.80839735],\n",
              "       [0.30461377],\n",
              "       [0.09767211],\n",
              "       [0.68423303],\n",
              "       [0.44015249],\n",
              "       [0.12203823],\n",
              "       [0.49517691],\n",
              "       [0.03438852],\n",
              "       [0.9093204 ],\n",
              "       [0.25877998],\n",
              "       [0.66252228],\n",
              "       [0.31171108],\n",
              "       [0.52006802],\n",
              "       [0.54671028],\n",
              "       [0.18485446],\n",
              "       [0.96958463],\n",
              "       [0.77513282],\n",
              "       [0.93949894],\n",
              "       [0.89482735],\n",
              "       [0.59789998],\n",
              "       [0.92187424],\n",
              "       [0.0884925 ],\n",
              "       [0.19598286],\n",
              "       [0.04522729],\n",
              "       [0.32533033],\n",
              "       [0.38867729],\n",
              "       [0.27134903],\n",
              "       [0.82873751],\n",
              "       [0.35675333],\n",
              "       [0.28093451],\n",
              "       [0.54269608],\n",
              "       [0.14092422],\n",
              "       [0.80219698],\n",
              "       [0.07455064],\n",
              "       [0.98688694],\n",
              "       [0.77224477],\n",
              "       [0.19871568],\n",
              "       [0.00552212],\n",
              "       [0.81546143],\n",
              "       [0.70685734],\n",
              "       [0.72900717],\n",
              "       [0.77127035],\n",
              "       [0.07404465],\n",
              "       [0.35846573],\n",
              "       [0.11586906],\n",
              "       [0.86310343],\n",
              "       [0.62329813],\n",
              "       [0.33089802],\n",
              "       [0.06355835],\n",
              "       [0.31098232],\n",
              "       [0.32518332],\n",
              "       [0.72960618],\n",
              "       [0.63755747],\n",
              "       [0.88721274],\n",
              "       [0.47221493],\n",
              "       [0.11959425],\n",
              "       [0.71324479],\n",
              "       [0.76078505],\n",
              "       [0.5612772 ],\n",
              "       [0.77096718],\n",
              "       [0.4937956 ],\n",
              "       [0.52273283],\n",
              "       [0.42754102],\n",
              "       [0.02541913],\n",
              "       [0.10789143]])"
            ]
          },
          "metadata": {},
          "execution_count": 3
        }
      ]
    },
    {
      "cell_type": "code",
      "metadata": {
        "colab": {
          "base_uri": "https://localhost:8080/",
          "height": 265
        },
        "id": "QyubE1VEVQwN",
        "outputId": "4b22f0f3-65d2-495e-d8de-fb8370c3c34f"
      },
      "source": [
        "#generar datos juguete multiplicando 2 por los números random\n",
        "X = 2*np.random.rand(100, 1)\n",
        "#ecuacion anterior y=3X+4+noise, se agrega ruido pero poco para que sea mas realista\n",
        "y = 4 + 3 * X + np.random.randn(100, 1)\n",
        "plt.scatter(X, y);"
      ],
      "execution_count": 5,
      "outputs": [
        {
          "output_type": "display_data",
          "data": {
            "text/plain": [
              "<Figure size 432x288 with 1 Axes>"
            ],
            "image/png": "[encoded data removed]"
          },
          "metadata": {
            "needs_background": "light"
          }
        }
      ]
    },
    {
      "cell_type": "code",
      "source": [
        "import pandas as pd\n",
        "#puede crearse un dataset con pandas y usarlo\n",
        "pd.DataFrame(y)"
      ],
      "metadata": {
        "colab": {
          "base_uri": "https://localhost:8080/",
          "height": 424
        },
        "id": "M5kaENJ4bZY5",
        "outputId": "3850de4f-5c38-4023-b591-89684023a965"
      },
      "execution_count": 10,
      "outputs": [
        {
          "output_type": "execute_result",
          "data": {
            "text/plain": [
              "     Manufacturing Cost\n",
              "0             95.066056\n",
              "1             96.531750\n",
              "2             73.661311\n",
              "3             95.566843\n",
              "4             98.777013\n",
              "..                  ...\n",
              "995           23.855067\n",
              "996           27.536542\n",
              "997           25.973787\n",
              "998           25.138311\n",
              "999           21.547777\n",
              "\n",
              "[1000 rows x 1 columns]"
            ],
            "text/html": [
              "\n",
              "  <div id=\"df-ff5dbd48-fa07-430a-b090-c239b44b62ad\">\n",
              "    <div class=\"colab-df-container\">\n",
              "      <div>\n",
              "<style scoped>\n",
              "    .dataframe tbody tr th:only-of-type {\n",
              "        vertical-align: middle;\n",
              "    }\n",
              "\n",
              "    .dataframe tbody tr th {\n",
              "        vertical-align: top;\n",
              "    }\n",
              "\n",
              "    .dataframe thead th {\n",
              "        text-align: right;\n",
              "    }\n",
              "</style>\n",
              "<table border=\"1\" class=\"dataframe\">\n",
              "  <thead>\n",
              "    <tr style=\"text-align: right;\">\n",
              "      <th></th>\n",
              "      <th>Manufacturing Cost</th>\n",
              "    </tr>\n",
              "  </thead>\n",
              "  <tbody>\n",
              "    <tr>\n",
              "      <th>0</th>\n",
              "      <td>95.066056</td>\n",
              "    </tr>\n",
              "    <tr>\n",
              "      <th>1</th>\n",
              "      <td>96.531750</td>\n",
              "    </tr>\n",
              "    <tr>\n",
              "      <th>2</th>\n",
              "      <td>73.661311</td>\n",
              "    </tr>\n",
              "    <tr>\n",
              "      <th>3</th>\n",
              "      <td>95.566843</td>\n",
              "    </tr>\n",
              "    <tr>\n",
              "      <th>4</th>\n",
              "      <td>98.777013</td>\n",
              "    </tr>\n",
              "    <tr>\n",
              "      <th>...</th>\n",
              "      <td>...</td>\n",
              "    </tr>\n",
              "    <tr>\n",
              "      <th>995</th>\n",
              "      <td>23.855067</td>\n",
              "    </tr>\n",
              "    <tr>\n",
              "      <th>996</th>\n",
              "      <td>27.536542</td>\n",
              "    </tr>\n",
              "    <tr>\n",
              "      <th>997</th>\n",
              "      <td>25.973787</td>\n",
              "    </tr>\n",
              "    <tr>\n",
              "      <th>998</th>\n",
              "      <td>25.138311</td>\n",
              "    </tr>\n",
              "    <tr>\n",
              "      <th>999</th>\n",
              "      <td>21.547777</td>\n",
              "    </tr>\n",
              "  </tbody>\n",
              "</table>\n",
              "<p>1000 rows × 1 columns</p>\n",
              "</div>\n",
              "      <button class=\"colab-df-convert\" onclick=\"convertToInteractive('df-ff5dbd48-fa07-430a-b090-c239b44b62ad')\"\n",
              "              title=\"Convert this dataframe to an interactive table.\"\n",
              "              style=\"display:none;\">\n",
              "        \n",
              "  <svg xmlns=\"http://www.w3.org/2000/svg\" height=\"24px\"viewBox=\"0 0 24 24\"\n",
              "       width=\"24px\">\n",
              "    <path d=\"M0 0h24v24H0V0z\" fill=\"none\"/>\n",
              "    <path d=\"M18.56 5.44l.94 2.06.94-2.06 2.06-.94-2.06-.94-.94-2.06-.94 2.06-2.06.94zm-11 1L8.5 8.5l.94-2.06 2.06-.94-2.06-.94L8.5 2.5l-.94 2.06-2.06.94zm10 10l.94 2.06.94-2.06 2.06-.94-2.06-.94-.94-2.06-.94 2.06-2.06.94z\"/><path d=\"M17.41 7.96l-1.37-1.37c-.4-.4-.92-.59-1.43-.59-.52 0-1.04.2-1.43.59L10.3 9.45l-7.72 7.72c-.78.78-.78 2.05 0 2.83L4 21.41c.39.39.9.59 1.41.59.51 0 1.02-.2 1.41-.59l7.78-7.78 2.81-2.81c.8-.78.8-2.07 0-2.86zM5.41 20L4 18.59l7.72-7.72 1.47 1.35L5.41 20z\"/>\n",
              "  </svg>\n",
              "      </button>\n",
              "      \n",
              "  <style>\n",
              "    .colab-df-container {\n",
              "      display:flex;\n",
              "      flex-wrap:wrap;\n",
              "      gap: 12px;\n",
              "    }\n",
              "\n",
              "    .colab-df-convert {\n",
              "      background-color: #E8F0FE;\n",
              "      border: none;\n",
              "      border-radius: 50%;\n",
              "      cursor: pointer;\n",
              "      display: none;\n",
              "      fill: #1967D2;\n",
              "      height: 32px;\n",
              "      padding: 0 0 0 0;\n",
              "      width: 32px;\n",
              "    }\n",
              "\n",
              "    .colab-df-convert:hover {\n",
              "      background-color: #E2EBFA;\n",
              "      box-shadow: 0px 1px 2px rgba(60, 64, 67, 0.3), 0px 1px 3px 1px rgba(60, 64, 67, 0.15);\n",
              "      fill: #174EA6;\n",
              "    }\n",
              "\n",
              "    [theme=dark] .colab-df-convert {\n",
              "      background-color: #3B4455;\n",
              "      fill: #D2E3FC;\n",
              "    }\n",
              "\n",
              "    [theme=dark] .colab-df-convert:hover {\n",
              "      background-color: #434B5C;\n",
              "      box-shadow: 0px 1px 3px 1px rgba(0, 0, 0, 0.15);\n",
              "      filter: drop-shadow(0px 1px 2px rgba(0, 0, 0, 0.3));\n",
              "      fill: #FFFFFF;\n",
              "    }\n",
              "  </style>\n",
              "\n",
              "      <script>\n",
              "        const buttonEl =\n",
              "          document.querySelector('#df-ff5dbd48-fa07-430a-b090-c239b44b62ad button.colab-df-convert');\n",
              "        buttonEl.style.display =\n",
              "          google.colab.kernel.accessAllowed ? 'block' : 'none';\n",
              "\n",
              "        async function convertToInteractive(key) {\n",
              "          const element = document.querySelector('#df-ff5dbd48-fa07-430a-b090-c239b44b62ad');\n",
              "          const dataTable =\n",
              "            await google.colab.kernel.invokeFunction('convertToInteractive',\n",
              "                                                     [key], {});\n",
              "          if (!dataTable) return;\n",
              "\n",
              "          const docLinkHtml = 'Like what you see? Visit the ' +\n",
              "            '<a target=\"_blank\" href=https://colab.research.google.com/notebooks/data_table.ipynb>data table notebook</a>'\n",
              "            + ' to learn more about interactive tables.';\n",
              "          element.innerHTML = '';\n",
              "          dataTable['output_type'] = 'display_data';\n",
              "          await google.colab.output.renderOutput(dataTable, element);\n",
              "          const docLink = document.createElement('div');\n",
              "          docLink.innerHTML = docLinkHtml;\n",
              "          element.appendChild(docLink);\n",
              "        }\n",
              "      </script>\n",
              "    </div>\n",
              "  </div>\n",
              "  "
            ]
          },
          "metadata": {},
          "execution_count": 10
        }
      ]
    },
    {
      "cell_type": "code",
      "metadata": {
        "colab": {
          "base_uri": "https://localhost:8080/"
        },
        "id": "x6XGt_iAVQwO",
        "outputId": "63c2fc8f-2160-463f-c9c7-efce81ab4780"
      },
      "source": [
        "from sklearn.linear_model import LinearRegression\n",
        "#se basa en los mínimos cuadrados\n",
        "#se guarda el método de regresion lineal\n",
        "linear_reg = LinearRegression(fit_intercept=True)\n",
        "#estimar línea roja de la gráfica\n",
        "linear_reg.fit(X, y)"
      ],
      "execution_count": 9,
      "outputs": [
        {
          "output_type": "execute_result",
          "data": {
            "text/plain": [
              "LinearRegression()"
            ]
          },
          "metadata": {},
          "execution_count": 9
        }
      ]
    },
    {
      "cell_type": "markdown",
      "metadata": {
        "id": "Hnm9YgjbVQwO"
      },
      "source": [
        "Plot the model's predictions:"
      ]
    },
    {
      "cell_type": "code",
      "metadata": {
        "id": "9NtrLfGGVQwP"
      },
      "source": [
        "#X_fit[]"
      ],
      "execution_count": null,
      "outputs": []
    },
    {
      "cell_type": "code",
      "metadata": {
        "colab": {
          "base_uri": "https://localhost:8080/",
          "height": 287
        },
        "id": "1ZTT31igVQwP",
        "outputId": "6a9763a1-9c3d-4b60-9324-f47f9d00e26e"
      },
      "source": [
        "# construct best fit line\n",
        "#imprimir línea roja\n",
        "#la x irá desde el 0 hasta el 2\n",
        "X_fit = np.linspace(0, 2, 100)\n",
        "#ver que valor tendría y \n",
        "y_fit = linear_reg.predict(X_fit[:, np.newaxis])\n",
        "\n",
        "plt.scatter(X, y)\n",
        "#grafica\n",
        "plt.plot(X_fit, y_fit, \"r-\", linewidth=2, label=\"Predictions\")\n",
        "plt.xlabel(\"$X$\", fontsize=18)\n",
        "plt.ylabel(\"$y$\", rotation=0, fontsize=18)\n",
        "plt.legend(loc=\"upper left\", fontsize=14);\n",
        "\n",
        "#la  linea roja debe estar ajustada para ver si está correcta la predicción (no muy arrriba ni abajo)"
      ],
      "execution_count": 8,
      "outputs": [
        {
          "output_type": "display_data",
          "data": {
            "text/plain": [
              "<Figure size 432x288 with 1 Axes>"
            ],
            "image/png": "[encoded data removed]"
          },
          "metadata": {
            "needs_background": "light"
          }
        }
      ]
    },
    {
      "cell_type": "markdown",
      "metadata": {
        "id": "kIfOsEcWVQwP"
      },
      "source": [
        "Predictions are a good fit."
      ]
    },
    {
      "cell_type": "markdown",
      "metadata": {
        "id": "z2VYUeGrVQwQ"
      },
      "source": [
        "Generate new data to make predictions with the model:"
      ]
    },
    {
      "cell_type": "code",
      "metadata": {
        "colab": {
          "base_uri": "https://localhost:8080/"
        },
        "id": "FuEd0Wp0VQwQ",
        "outputId": "638fab4b-070b-4a71-c97e-ffc68535ac7c"
      },
      "source": [
        "X_new = np.array([[0], [2]])\n",
        "X_new"
      ],
      "execution_count": 9,
      "outputs": [
        {
          "output_type": "execute_result",
          "data": {
            "text/plain": [
              "array([[0],\n",
              "       [2]])"
            ]
          },
          "metadata": {},
          "execution_count": 9
        }
      ]
    },
    {
      "cell_type": "code",
      "metadata": {
        "colab": {
          "base_uri": "https://localhost:8080/"
        },
        "id": "lLCnLm7_VQwQ",
        "outputId": "3ee2a037-aef1-450c-a5f9-1920e48f9730"
      },
      "source": [
        "X_new.shape"
      ],
      "execution_count": 10,
      "outputs": [
        {
          "output_type": "execute_result",
          "data": {
            "text/plain": [
              "(2, 1)"
            ]
          },
          "metadata": {},
          "execution_count": 10
        }
      ]
    },
    {
      "cell_type": "code",
      "metadata": {
        "colab": {
          "base_uri": "https://localhost:8080/"
        },
        "id": "zJIzUfZsVQwQ",
        "outputId": "93715b49-3b95-4ce6-ec5c-fcb74bdca500"
      },
      "source": [
        "y_new = linear_reg.predict(X_new)\n",
        "y_new"
      ],
      "execution_count": 11,
      "outputs": [
        {
          "output_type": "execute_result",
          "data": {
            "text/plain": [
              "array([[ 3.92299009],\n",
              "       [10.16971985]])"
            ]
          },
          "metadata": {},
          "execution_count": 11
        }
      ]
    },
    {
      "cell_type": "code",
      "metadata": {
        "colab": {
          "base_uri": "https://localhost:8080/"
        },
        "id": "ICiEnkbdVQwQ",
        "outputId": "2720ce8f-7595-4260-d3e4-9882a5b7d554"
      },
      "source": [
        " #obtener coeficientes y el sesgo para formula, llamamos variable linear_reg donde se guardó el regresor que ya tiene el modelo adentro(por el fit)\n",
        " #coef multiplica a la x e intercept es el sesgo o b\n",
        " linear_reg.coef_, linear_reg.intercept_"
      ],
      "execution_count": 13,
      "outputs": [
        {
          "output_type": "execute_result",
          "data": {
            "text/plain": [
              "(array([[3.12336488]]), array([3.92299009]))"
            ]
          },
          "metadata": {},
          "execution_count": 13
        }
      ]
    },
    {
      "cell_type": "markdown",
      "metadata": {
        "id": "iBXzOecgVQwR"
      },
      "source": [
        "The model estimates:\n",
        "\n",
        "$\\hat{y} = 3.12X + 3.92$"
      ]
    },
    {
      "cell_type": "code",
      "metadata": {
        "id": "ZNvipq0wQYfj"
      },
      "source": [
        "#|VENTAS|GANANCIAS|\n",
        "#COEF*VENTAS+B\n",
        "#|VENTAS|COMPRAS|GANANCIAS|\n",
        "#COEF1*X1+COEF2*X2+B=Y"
      ],
      "execution_count": null,
      "outputs": []
    },
    {
      "cell_type": "markdown",
      "metadata": {
        "id": "_Rv-RJSnVQwR"
      },
      "source": [
        "## Polynomial Regression\n",
        "\n",
        "If data is more complex than a straight line, you can use a linear model ti fit non-linear data adding powers of each feature as new features and then train a linear model on the extended set of features. "
      ]
    },
    {
      "cell_type": "markdown",
      "metadata": {
        "id": "dPrpAVsZVQwR"
      },
      "source": [
        "$$y = a_0 + a_1x_1 + a_2x_2 + a_3x_3 + ...$$ to $$y = a_0 + a_1x + a_2x^2 + a_3x^3+ ...$$ "
      ]
    },
    {
      "cell_type": "markdown",
      "metadata": {
        "id": "9kjMWzEfVQwR"
      },
      "source": [
        "This is still a linear model, the linearity refers to the fact that the coefficients never multiply or divide each other."
      ]
    },
    {
      "cell_type": "markdown",
      "metadata": {
        "id": "2M3fp_CSVQwR"
      },
      "source": [
        "To generate polynomial data we use the function:\n",
        "\n",
        "$y = 0.50X^2 + X + 2 + noise$"
      ]
    },
    {
      "cell_type": "code",
      "metadata": {
        "id": "sSrueMnPVQwR"
      },
      "source": [
        "# generate non-linear data e.g. quadratic equation\n",
        "#si el grado es muy alto, se llega a hacer overfitting, solo funcionaría para los datos del entrenamiento\n",
        "#generar datos de juguete\n",
        "m = 100\n",
        "#número aleatorio\n",
        "X = 6 * np.random.rand(m, 1) - 3\n",
        "#aplicamos formula mas ruido\n",
        "y = 0.5 * X**2 + X + 2 + np.random.randn(m, 1)"
      ],
      "execution_count": 14,
      "outputs": []
    },
    {
      "cell_type": "code",
      "metadata": {
        "colab": {
          "base_uri": "https://localhost:8080/",
          "height": 291
        },
        "id": "GNQQoXkMVQwS",
        "outputId": "afdfbc2a-01d7-4303-d63e-d707258d005d"
      },
      "source": [
        "plt.plot(X, y, \"b.\")\n",
        "plt.xlabel(\"$x_1$\", fontsize=18)\n",
        "plt.ylabel(\"$y$\", rotation=0, fontsize=18)\n",
        "plt.axis([-3, 3, 0, 10]);\n",
        "#modelo polinomial para no dejar fuera los datos de la izquierda"
      ],
      "execution_count": 15,
      "outputs": [
        {
          "output_type": "display_data",
          "data": {
            "text/plain": [
              "<Figure size 432x288 with 1 Axes>"
            ],
            "image/png": "[encoded data removed]"
          },
          "metadata": {
            "needs_background": "light"
          }
        }
      ]
    },
    {
      "cell_type": "code",
      "source": [
        "import pandas as pd\n",
        "pd.DataFrame(y)"
      ],
      "metadata": {
        "id": "YtaK_dsidNcP",
        "outputId": "0c9b876e-29c0-4a7b-8fbe-3318836d94fd",
        "colab": {
          "base_uri": "https://localhost:8080/",
          "height": 424
        }
      },
      "execution_count": 16,
      "outputs": [
        {
          "output_type": "execute_result",
          "data": {
            "text/plain": [
              "           0\n",
              "0   6.772755\n",
              "1   0.640017\n",
              "2   2.135981\n",
              "3   4.319231\n",
              "4   1.842375\n",
              "..       ...\n",
              "95  0.744091\n",
              "96  3.334690\n",
              "97  3.441915\n",
              "98  2.050856\n",
              "99  3.913352\n",
              "\n",
              "[100 rows x 1 columns]"
            ],
            "text/html": [
              "\n",
              "  <div id=\"df-feeca254-6049-4c79-8c2e-8518a5169b3f\">\n",
              "    <div class=\"colab-df-container\">\n",
              "      <div>\n",
              "<style scoped>\n",
              "    .dataframe tbody tr th:only-of-type {\n",
              "        vertical-align: middle;\n",
              "    }\n",
              "\n",
              "    .dataframe tbody tr th {\n",
              "        vertical-align: top;\n",
              "    }\n",
              "\n",
              "    .dataframe thead th {\n",
              "        text-align: right;\n",
              "    }\n",
              "</style>\n",
              "<table border=\"1\" class=\"dataframe\">\n",
              "  <thead>\n",
              "    <tr style=\"text-align: right;\">\n",
              "      <th></th>\n",
              "      <th>0</th>\n",
              "    </tr>\n",
              "  </thead>\n",
              "  <tbody>\n",
              "    <tr>\n",
              "      <th>0</th>\n",
              "      <td>6.772755</td>\n",
              "    </tr>\n",
              "    <tr>\n",
              "      <th>1</th>\n",
              "      <td>0.640017</td>\n",
              "    </tr>\n",
              "    <tr>\n",
              "      <th>2</th>\n",
              "      <td>2.135981</td>\n",
              "    </tr>\n",
              "    <tr>\n",
              "      <th>3</th>\n",
              "      <td>4.319231</td>\n",
              "    </tr>\n",
              "    <tr>\n",
              "      <th>4</th>\n",
              "      <td>1.842375</td>\n",
              "    </tr>\n",
              "    <tr>\n",
              "      <th>...</th>\n",
              "      <td>...</td>\n",
              "    </tr>\n",
              "    <tr>\n",
              "      <th>95</th>\n",
              "      <td>0.744091</td>\n",
              "    </tr>\n",
              "    <tr>\n",
              "      <th>96</th>\n",
              "      <td>3.334690</td>\n",
              "    </tr>\n",
              "    <tr>\n",
              "      <th>97</th>\n",
              "      <td>3.441915</td>\n",
              "    </tr>\n",
              "    <tr>\n",
              "      <th>98</th>\n",
              "      <td>2.050856</td>\n",
              "    </tr>\n",
              "    <tr>\n",
              "      <th>99</th>\n",
              "      <td>3.913352</td>\n",
              "    </tr>\n",
              "  </tbody>\n",
              "</table>\n",
              "<p>100 rows × 1 columns</p>\n",
              "</div>\n",
              "      <button class=\"colab-df-convert\" onclick=\"convertToInteractive('df-feeca254-6049-4c79-8c2e-8518a5169b3f')\"\n",
              "              title=\"Convert this dataframe to an interactive table.\"\n",
              "              style=\"display:none;\">\n",
              "        \n",
              "  <svg xmlns=\"http://www.w3.org/2000/svg\" height=\"24px\"viewBox=\"0 0 24 24\"\n",
              "       width=\"24px\">\n",
              "    <path d=\"M0 0h24v24H0V0z\" fill=\"none\"/>\n",
              "    <path d=\"M18.56 5.44l.94 2.06.94-2.06 2.06-.94-2.06-.94-.94-2.06-.94 2.06-2.06.94zm-11 1L8.5 8.5l.94-2.06 2.06-.94-2.06-.94L8.5 2.5l-.94 2.06-2.06.94zm10 10l.94 2.06.94-2.06 2.06-.94-2.06-.94-.94-2.06-.94 2.06-2.06.94z\"/><path d=\"M17.41 7.96l-1.37-1.37c-.4-.4-.92-.59-1.43-.59-.52 0-1.04.2-1.43.59L10.3 9.45l-7.72 7.72c-.78.78-.78 2.05 0 2.83L4 21.41c.39.39.9.59 1.41.59.51 0 1.02-.2 1.41-.59l7.78-7.78 2.81-2.81c.8-.78.8-2.07 0-2.86zM5.41 20L4 18.59l7.72-7.72 1.47 1.35L5.41 20z\"/>\n",
              "  </svg>\n",
              "      </button>\n",
              "      \n",
              "  <style>\n",
              "    .colab-df-container {\n",
              "      display:flex;\n",
              "      flex-wrap:wrap;\n",
              "      gap: 12px;\n",
              "    }\n",
              "\n",
              "    .colab-df-convert {\n",
              "      background-color: #E8F0FE;\n",
              "      border: none;\n",
              "      border-radius: 50%;\n",
              "      cursor: pointer;\n",
              "      display: none;\n",
              "      fill: #1967D2;\n",
              "      height: 32px;\n",
              "      padding: 0 0 0 0;\n",
              "      width: 32px;\n",
              "    }\n",
              "\n",
              "    .colab-df-convert:hover {\n",
              "      background-color: #E2EBFA;\n",
              "      box-shadow: 0px 1px 2px rgba(60, 64, 67, 0.3), 0px 1px 3px 1px rgba(60, 64, 67, 0.15);\n",
              "      fill: #174EA6;\n",
              "    }\n",
              "\n",
              "    [theme=dark] .colab-df-convert {\n",
              "      background-color: #3B4455;\n",
              "      fill: #D2E3FC;\n",
              "    }\n",
              "\n",
              "    [theme=dark] .colab-df-convert:hover {\n",
              "      background-color: #434B5C;\n",
              "      box-shadow: 0px 1px 3px 1px rgba(0, 0, 0, 0.15);\n",
              "      filter: drop-shadow(0px 1px 2px rgba(0, 0, 0, 0.3));\n",
              "      fill: #FFFFFF;\n",
              "    }\n",
              "  </style>\n",
              "\n",
              "      <script>\n",
              "        const buttonEl =\n",
              "          document.querySelector('#df-feeca254-6049-4c79-8c2e-8518a5169b3f button.colab-df-convert');\n",
              "        buttonEl.style.display =\n",
              "          google.colab.kernel.accessAllowed ? 'block' : 'none';\n",
              "\n",
              "        async function convertToInteractive(key) {\n",
              "          const element = document.querySelector('#df-feeca254-6049-4c79-8c2e-8518a5169b3f');\n",
              "          const dataTable =\n",
              "            await google.colab.kernel.invokeFunction('convertToInteractive',\n",
              "                                                     [key], {});\n",
              "          if (!dataTable) return;\n",
              "\n",
              "          const docLinkHtml = 'Like what you see? Visit the ' +\n",
              "            '<a target=\"_blank\" href=https://colab.research.google.com/notebooks/data_table.ipynb>data table notebook</a>'\n",
              "            + ' to learn more about interactive tables.';\n",
              "          element.innerHTML = '';\n",
              "          dataTable['output_type'] = 'display_data';\n",
              "          await google.colab.output.renderOutput(dataTable, element);\n",
              "          const docLink = document.createElement('div');\n",
              "          docLink.innerHTML = docLinkHtml;\n",
              "          element.appendChild(docLink);\n",
              "        }\n",
              "      </script>\n",
              "    </div>\n",
              "  </div>\n",
              "  "
            ]
          },
          "metadata": {},
          "execution_count": 16
        }
      ]
    },
    {
      "cell_type": "markdown",
      "metadata": {
        "id": "vrZTRaLNVQwS"
      },
      "source": [
        "Now we can use `PolynomialFeatues` to transform training data adding the square of each feature as new features."
      ]
    },
    {
      "cell_type": "code",
      "metadata": {
        "id": "BXo0Hm56VQwS"
      },
      "source": [
        "# tomar x a tipo polinomial\n",
        "from sklearn.preprocessing import PolynomialFeatures\n",
        "#grado al que va a convertirse x\n",
        "poly_features = PolynomialFeatures(degree=2, include_bias=False)\n",
        "#transformación, tenemos x y su versión al cuadrado\n",
        "X_poly = poly_features.fit_transform(X)"
      ],
      "execution_count": 17,
      "outputs": []
    },
    {
      "cell_type": "code",
      "metadata": {
        "colab": {
          "base_uri": "https://localhost:8080/"
        },
        "id": "1FqY9-I4VQwS",
        "outputId": "d5d3ca46-6530-4848-96a2-2a9c61918fbc"
      },
      "source": [
        "X_poly"
      ],
      "execution_count": null,
      "outputs": [
        {
          "output_type": "execute_result",
          "data": {
            "text/plain": [
              "array([[-2.38324557e+00,  5.67985946e+00],\n",
              "       [ 4.25427011e-01,  1.80988142e-01],\n",
              "       [-2.88979418e+00,  8.35091039e+00],\n",
              "       [-1.05861711e-01,  1.12067018e-02],\n",
              "       [-1.73790252e+00,  3.02030517e+00],\n",
              "       [-9.23900594e-01,  8.53592308e-01],\n",
              "       [ 1.65482841e+00,  2.73845708e+00],\n",
              "       [ 2.64742503e+00,  7.00885927e+00],\n",
              "       [-2.56550237e+00,  6.58180240e+00],\n",
              "       [ 2.05453236e-01,  4.22110321e-02],\n",
              "       [ 2.29520091e+00,  5.26794724e+00],\n",
              "       [-2.50494879e+00,  6.27476846e+00],\n",
              "       [ 1.94708428e+00,  3.79113720e+00],\n",
              "       [-8.53191894e-01,  7.27936409e-01],\n",
              "       [-1.06743179e+00,  1.13941062e+00],\n",
              "       [ 2.86479832e+00,  8.20706940e+00],\n",
              "       [-1.79484546e+00,  3.22147023e+00],\n",
              "       [ 1.15916364e+00,  1.34366036e+00],\n",
              "       [ 1.92864437e+00,  3.71966910e+00],\n",
              "       [-2.75289903e+00,  7.57845306e+00],\n",
              "       [ 1.02231275e+00,  1.04512336e+00],\n",
              "       [ 2.70929985e+00,  7.34030566e+00],\n",
              "       [-2.25468020e+00,  5.08358280e+00],\n",
              "       [ 2.37732782e+00,  5.65168755e+00],\n",
              "       [ 5.68659824e-01,  3.23373996e-01],\n",
              "       [ 6.99627491e-01,  4.89478626e-01],\n",
              "       [ 6.77665049e-01,  4.59229919e-01],\n",
              "       [-1.20698468e+00,  1.45681202e+00],\n",
              "       [ 2.61121089e+00,  6.81842232e+00],\n",
              "       [ 2.68410278e+00,  7.20440771e+00],\n",
              "       [ 7.51827961e-01,  5.65245283e-01],\n",
              "       [ 1.70053636e+00,  2.89182390e+00],\n",
              "       [ 6.73547915e-01,  4.53666794e-01],\n",
              "       [-9.36093146e-02,  8.76270377e-03],\n",
              "       [ 9.64920710e-01,  9.31071976e-01],\n",
              "       [ 3.18008716e-01,  1.01129543e-01],\n",
              "       [ 5.84855176e-01,  3.42055577e-01],\n",
              "       [ 1.70299532e+00,  2.90019306e+00],\n",
              "       [-1.14577011e-01,  1.31278915e-02],\n",
              "       [-2.75547536e+00,  7.59264448e+00],\n",
              "       [-2.01600311e+00,  4.06426856e+00],\n",
              "       [-3.68356701e-01,  1.35686659e-01],\n",
              "       [ 1.34895936e+00,  1.81969135e+00],\n",
              "       [ 5.59671890e-01,  3.13232624e-01],\n",
              "       [ 9.01765115e-01,  8.13180323e-01],\n",
              "       [-1.24326429e-01,  1.54570608e-02],\n",
              "       [ 6.94452132e-01,  4.82263763e-01],\n",
              "       [-1.02589537e+00,  1.05246132e+00],\n",
              "       [-1.78904444e-01,  3.20068000e-02],\n",
              "       [ 1.46567439e+00,  2.14820143e+00],\n",
              "       [ 2.23099667e+00,  4.97734616e+00],\n",
              "       [-3.98067996e-01,  1.58458130e-01],\n",
              "       [-2.73803005e+00,  7.49680858e+00],\n",
              "       [-2.02996474e+00,  4.12075683e+00],\n",
              "       [-2.87483316e+00,  8.26466572e+00],\n",
              "       [ 9.19578115e-01,  8.45623910e-01],\n",
              "       [-1.00611225e+00,  1.01226186e+00],\n",
              "       [ 2.54871814e-01,  6.49596417e-02],\n",
              "       [-4.03389193e-02,  1.62722841e-03],\n",
              "       [-2.51084106e+00,  6.30432284e+00],\n",
              "       [-5.80431833e-01,  3.36901113e-01],\n",
              "       [-1.67663325e+00,  2.81109906e+00],\n",
              "       [-4.89601268e-01,  2.39709402e-01],\n",
              "       [-1.77853032e+00,  3.16317009e+00],\n",
              "       [ 2.04271444e+00,  4.17268227e+00],\n",
              "       [-1.95483998e+00,  3.82139935e+00],\n",
              "       [ 2.76468331e+00,  7.64347380e+00],\n",
              "       [-5.04555803e-01,  2.54576558e-01],\n",
              "       [ 2.07747175e+00,  4.31588888e+00],\n",
              "       [ 7.72588909e-01,  5.96893623e-01],\n",
              "       [ 1.41210179e+00,  1.99403147e+00],\n",
              "       [ 1.60634333e+00,  2.58033889e+00],\n",
              "       [ 2.90692914e-02,  8.45023700e-04],\n",
              "       [ 2.59803140e-01,  6.74976716e-02],\n",
              "       [ 8.39752069e-02,  7.05183537e-03],\n",
              "       [ 5.28350269e-01,  2.79154006e-01],\n",
              "       [-2.82363333e+00,  7.97290516e+00],\n",
              "       [-6.26908981e-01,  3.93014870e-01],\n",
              "       [ 6.37132281e-01,  4.05937544e-01],\n",
              "       [ 5.86341392e-01,  3.43796227e-01],\n",
              "       [ 1.75773657e+00,  3.08963784e+00],\n",
              "       [ 9.30056033e-01,  8.65004225e-01],\n",
              "       [ 2.95279990e+00,  8.71902724e+00],\n",
              "       [-1.29687283e+00,  1.68187913e+00],\n",
              "       [-8.45093822e-01,  7.14183568e-01],\n",
              "       [-6.96917089e-01,  4.85693429e-01],\n",
              "       [-2.05123158e-01,  4.20755099e-02],\n",
              "       [ 2.01598838e+00,  4.06420916e+00],\n",
              "       [-1.58524744e+00,  2.51300943e+00],\n",
              "       [ 1.65600124e+00,  2.74234011e+00],\n",
              "       [-5.68138901e-01,  3.22781811e-01],\n",
              "       [ 6.11132302e-01,  3.73482691e-01],\n",
              "       [ 7.95243199e-01,  6.32411746e-01],\n",
              "       [-7.62908177e-01,  5.82028886e-01],\n",
              "       [ 7.56912312e-02,  5.72916249e-03],\n",
              "       [-5.21812952e-01,  2.72288757e-01],\n",
              "       [-2.58520328e+00,  6.68327601e+00],\n",
              "       [-3.77007667e-01,  1.42134781e-01],\n",
              "       [-2.41563964e+00,  5.83531489e+00],\n",
              "       [-5.69875206e-01,  3.24757750e-01]])"
            ]
          },
          "metadata": {},
          "execution_count": 78
        }
      ]
    },
    {
      "cell_type": "markdown",
      "metadata": {
        "id": "GrFMRU_eVQwS"
      },
      "source": [
        "`X_poly` now contains the original feature of X plus the square of the feature:"
      ]
    },
    {
      "cell_type": "code",
      "metadata": {
        "colab": {
          "base_uri": "https://localhost:8080/"
        },
        "id": "M8FH1dY2UwgN",
        "outputId": "b1ab252f-15be-4663-8014-d7420047017e"
      },
      "source": [
        "#comprobar que es x y su cuadrado\n",
        "print(X[0])\n",
        "print(X[0]*X[0])\n"
      ],
      "execution_count": null,
      "outputs": [
        {
          "output_type": "stream",
          "name": "stdout",
          "text": [
            "[-2.38324557]\n",
            "[5.67985946]\n"
          ]
        }
      ]
    },
    {
      "cell_type": "code",
      "metadata": {
        "colab": {
          "base_uri": "https://localhost:8080/"
        },
        "id": "PSflPniWVQwT",
        "outputId": "5c8dc768-8e52-42f9-e790-5ba1ce7d5816"
      },
      "source": [
        "#arreglo de cuadrados en posición 0\n",
        "X_poly[0]"
      ],
      "execution_count": null,
      "outputs": [
        {
          "output_type": "execute_result",
          "data": {
            "text/plain": [
              "array([-2.38324557,  5.67985946])"
            ]
          },
          "metadata": {},
          "execution_count": 80
        }
      ]
    },
    {
      "cell_type": "markdown",
      "metadata": {
        "id": "HaXjXg7FVQwT"
      },
      "source": [
        "Fit the model to this extended training data:"
      ]
    },
    {
      "cell_type": "code",
      "metadata": {
        "colab": {
          "base_uri": "https://localhost:8080/"
        },
        "id": "c0Qu93dgVQwT",
        "outputId": "7689be82-0fc1-481e-bdcd-3cac745e9a21"
      },
      "source": [
        "lin_reg = LinearRegression(fit_intercept=True)\n",
        "#entrenamiento de datos polinomiales\n",
        "lin_reg.fit(X_poly, y)\n",
        "\n",
        "lin_reg.coef_, lin_reg.intercept_"
      ],
      "execution_count": 18,
      "outputs": [
        {
          "output_type": "execute_result",
          "data": {
            "text/plain": [
              "(array([[1.03780025, 0.49597826]]), array([1.94702036]))"
            ]
          },
          "metadata": {},
          "execution_count": 18
        }
      ]
    },
    {
      "cell_type": "markdown",
      "metadata": {
        "id": "rKOSwvnmVQwT"
      },
      "source": [
        "The model estimates:\n",
        "\n",
        "$\\hat{y} = 1.03X +0.49X^2 + 1.94$"
      ]
    },
    {
      "cell_type": "markdown",
      "metadata": {
        "id": "_EtZEKz5VQwT"
      },
      "source": [
        "Plot the data and the predictions:"
      ]
    },
    {
      "cell_type": "code",
      "metadata": {
        "colab": {
          "base_uri": "https://localhost:8080/",
          "height": 291
        },
        "id": "6Q8dHRgdVQwT",
        "outputId": "eeb2ed3a-bcc3-4f4d-b052-65f07a498a05"
      },
      "source": [
        "#linea roja\n",
        "X_new=np.linspace(-3, 3, 100).reshape(100, 1)\n",
        "#generar x a grado 1 y 2\n",
        "X_new_poly = poly_features.transform(X_new)\n",
        "#y\n",
        "y_new = lin_reg.predict(X_new_poly)\n",
        "plt.plot(X, y, \"b.\")\n",
        "plt.plot(X_new, y_new, \"r-\", linewidth=2, label=\"Predictions\")\n",
        "plt.xlabel(\"$x_1$\", fontsize=18)\n",
        "plt.ylabel(\"$y$\", rotation=0, fontsize=18)\n",
        "plt.legend(loc=\"upper left\", fontsize=14)\n",
        "plt.axis([-3, 3, 0, 10]);"
      ],
      "execution_count": null,
      "outputs": [
        {
          "output_type": "display_data",
          "data": {
            "text/plain": [
              "<Figure size 432x288 with 1 Axes>"
            ],
            "image/png": "[encoded data removed]"
          },
          "metadata": {
            "needs_background": "light"
          }
        }
      ]
    },
    {
      "cell_type": "code",
      "source": [],
      "metadata": {
        "id": "vyq0o8f2pcqa"
      },
      "execution_count": null,
      "outputs": []
    },
    {
      "cell_type": "markdown",
      "source": [
        "**medidas de error**"
      ],
      "metadata": {
        "id": "chMipuQRxVDr"
      }
    },
    {
      "cell_type": "markdown",
      "source": [
        "## R square\n",
        "\n",
        "R² es una medida estadística de qué tan cerca están los datos de la línea de regresión ajustada. También se conoce como el coeficiente de determinación o el coeficiente de determinación múltiple para la regresión múltiple. Para decirlo en un lenguaje más simple, R² es una medida de ajuste para los modelos de regresión lineal.\n",
        "\n",
        "\n",
        "\n",
        "R² no indica si un modelo de regresión se ajusta adecuadamente a sus datos. Un buen modelo puede tener un valor R² bajo. Por otro lado, un modelo sesgado puede tener un valor alto de R².\n",
        "\n",
        " SSres + SSreg = SStot, R² = Explained variation / Total Variation\n",
        " \n",
        " ![image.png](https://i.stack.imgur.com/xb1VY.png)\n",
        " \n",
        "![image.png](https://3.bp.blogspot.com/-MFqQLwbGwd4/WMO7tz39beI/AAAAAAAAF9I/Bjpfohgv_5E4lu7HzHJBQtXsBM--byqPwCLcB/s1600/rsquared.png)\n",
        " \n",
        "\n",
        " dice que tan lejos quedaron los datos puntos del modelo que se estimó, para saber si el modelo se adaptó bien a los datos o no, r cuadrada ajustada para situaciones complicadas o con muchas variables"
      ],
      "metadata": {
        "id": "TIFwAtW1pc6h"
      }
    },
    {
      "cell_type": "markdown",
      "metadata": {
        "id": "nTKFj4x9LMXm"
      },
      "source": [
        "# Ejercicio 1\n",
        "\n",
        "Utiliza la base de datos de \n",
        "https://www.kaggle.com/vinicius150987/manufacturing-cost\n",
        "\n",
        "Suponga que trabaja como consultor de una empresa de nueva creación que busca desarrollar un modelo para estimar el costo de los bienes vendidos a medida que varían el volumen de producción (número de unidades producidas). La startup recopiló datos y le pidió que desarrollara un modelo para predecir su costo frente a la cantidad de unidades vendidas."
      ]
    },
    {
      "cell_type": "code",
      "metadata": {
        "colab": {
          "base_uri": "https://localhost:8080/",
          "height": 363
        },
        "id": "oTnErQOkL3oa",
        "outputId": "9901f4a7-d3e4-4d94-f8e2-528caf946a54"
      },
      "source": [
        "import pandas as pd\n",
        "df = pd.read_csv('https://raw.githubusercontent.com/marypazrf/bdd/main/EconomiesOfScale.csv')\n",
        "df.sample(10)"
      ],
      "execution_count": 80,
      "outputs": [
        {
          "output_type": "execute_result",
          "data": {
            "text/plain": [
              "     Number of Units  Manufacturing Cost\n",
              "379         4.087006           45.036840\n",
              "130         3.006915           58.642098\n",
              "470         4.325755           38.136724\n",
              "419         4.200602           29.119848\n",
              "189         3.278806           30.119867\n",
              "630         4.939657           29.173452\n",
              "634         4.950786           33.223241\n",
              "878         5.980289           37.426675\n",
              "981         7.503608           24.799148\n",
              "431         4.229363           44.151539"
            ],
            "text/html": [
              "\n",
              "  <div id=\"df-5f72c1eb-f4e7-452f-ba38-dba8af7b69d0\">\n",
              "    <div class=\"colab-df-container\">\n",
              "      <div>\n",
              "<style scoped>\n",
              "    .dataframe tbody tr th:only-of-type {\n",
              "        vertical-align: middle;\n",
              "    }\n",
              "\n",
              "    .dataframe tbody tr th {\n",
              "        vertical-align: top;\n",
              "    }\n",
              "\n",
              "    .dataframe thead th {\n",
              "        text-align: right;\n",
              "    }\n",
              "</style>\n",
              "<table border=\"1\" class=\"dataframe\">\n",
              "  <thead>\n",
              "    <tr style=\"text-align: right;\">\n",
              "      <th></th>\n",
              "      <th>Number of Units</th>\n",
              "      <th>Manufacturing Cost</th>\n",
              "    </tr>\n",
              "  </thead>\n",
              "  <tbody>\n",
              "    <tr>\n",
              "      <th>379</th>\n",
              "      <td>4.087006</td>\n",
              "      <td>45.036840</td>\n",
              "    </tr>\n",
              "    <tr>\n",
              "      <th>130</th>\n",
              "      <td>3.006915</td>\n",
              "      <td>58.642098</td>\n",
              "    </tr>\n",
              "    <tr>\n",
              "      <th>470</th>\n",
              "      <td>4.325755</td>\n",
              "      <td>38.136724</td>\n",
              "    </tr>\n",
              "    <tr>\n",
              "      <th>419</th>\n",
              "      <td>4.200602</td>\n",
              "      <td>29.119848</td>\n",
              "    </tr>\n",
              "    <tr>\n",
              "      <th>189</th>\n",
              "      <td>3.278806</td>\n",
              "      <td>30.119867</td>\n",
              "    </tr>\n",
              "    <tr>\n",
              "      <th>630</th>\n",
              "      <td>4.939657</td>\n",
              "      <td>29.173452</td>\n",
              "    </tr>\n",
              "    <tr>\n",
              "      <th>634</th>\n",
              "      <td>4.950786</td>\n",
              "      <td>33.223241</td>\n",
              "    </tr>\n",
              "    <tr>\n",
              "      <th>878</th>\n",
              "      <td>5.980289</td>\n",
              "      <td>37.426675</td>\n",
              "    </tr>\n",
              "    <tr>\n",
              "      <th>981</th>\n",
              "      <td>7.503608</td>\n",
              "      <td>24.799148</td>\n",
              "    </tr>\n",
              "    <tr>\n",
              "      <th>431</th>\n",
              "      <td>4.229363</td>\n",
              "      <td>44.151539</td>\n",
              "    </tr>\n",
              "  </tbody>\n",
              "</table>\n",
              "</div>\n",
              "      <button class=\"colab-df-convert\" onclick=\"convertToInteractive('df-5f72c1eb-f4e7-452f-ba38-dba8af7b69d0')\"\n",
              "              title=\"Convert this dataframe to an interactive table.\"\n",
              "              style=\"display:none;\">\n",
              "        \n",
              "  <svg xmlns=\"http://www.w3.org/2000/svg\" height=\"24px\"viewBox=\"0 0 24 24\"\n",
              "       width=\"24px\">\n",
              "    <path d=\"M0 0h24v24H0V0z\" fill=\"none\"/>\n",
              "    <path d=\"M18.56 5.44l.94 2.06.94-2.06 2.06-.94-2.06-.94-.94-2.06-.94 2.06-2.06.94zm-11 1L8.5 8.5l.94-2.06 2.06-.94-2.06-.94L8.5 2.5l-.94 2.06-2.06.94zm10 10l.94 2.06.94-2.06 2.06-.94-2.06-.94-.94-2.06-.94 2.06-2.06.94z\"/><path d=\"M17.41 7.96l-1.37-1.37c-.4-.4-.92-.59-1.43-.59-.52 0-1.04.2-1.43.59L10.3 9.45l-7.72 7.72c-.78.78-.78 2.05 0 2.83L4 21.41c.39.39.9.59 1.41.59.51 0 1.02-.2 1.41-.59l7.78-7.78 2.81-2.81c.8-.78.8-2.07 0-2.86zM5.41 20L4 18.59l7.72-7.72 1.47 1.35L5.41 20z\"/>\n",
              "  </svg>\n",
              "      </button>\n",
              "      \n",
              "  <style>\n",
              "    .colab-df-container {\n",
              "      display:flex;\n",
              "      flex-wrap:wrap;\n",
              "      gap: 12px;\n",
              "    }\n",
              "\n",
              "    .colab-df-convert {\n",
              "      background-color: #E8F0FE;\n",
              "      border: none;\n",
              "      border-radius: 50%;\n",
              "      cursor: pointer;\n",
              "      display: none;\n",
              "      fill: #1967D2;\n",
              "      height: 32px;\n",
              "      padding: 0 0 0 0;\n",
              "      width: 32px;\n",
              "    }\n",
              "\n",
              "    .colab-df-convert:hover {\n",
              "      background-color: #E2EBFA;\n",
              "      box-shadow: 0px 1px 2px rgba(60, 64, 67, 0.3), 0px 1px 3px 1px rgba(60, 64, 67, 0.15);\n",
              "      fill: #174EA6;\n",
              "    }\n",
              "\n",
              "    [theme=dark] .colab-df-convert {\n",
              "      background-color: #3B4455;\n",
              "      fill: #D2E3FC;\n",
              "    }\n",
              "\n",
              "    [theme=dark] .colab-df-convert:hover {\n",
              "      background-color: #434B5C;\n",
              "      box-shadow: 0px 1px 3px 1px rgba(0, 0, 0, 0.15);\n",
              "      filter: drop-shadow(0px 1px 2px rgba(0, 0, 0, 0.3));\n",
              "      fill: #FFFFFF;\n",
              "    }\n",
              "  </style>\n",
              "\n",
              "      <script>\n",
              "        const buttonEl =\n",
              "          document.querySelector('#df-5f72c1eb-f4e7-452f-ba38-dba8af7b69d0 button.colab-df-convert');\n",
              "        buttonEl.style.display =\n",
              "          google.colab.kernel.accessAllowed ? 'block' : 'none';\n",
              "\n",
              "        async function convertToInteractive(key) {\n",
              "          const element = document.querySelector('#df-5f72c1eb-f4e7-452f-ba38-dba8af7b69d0');\n",
              "          const dataTable =\n",
              "            await google.colab.kernel.invokeFunction('convertToInteractive',\n",
              "                                                     [key], {});\n",
              "          if (!dataTable) return;\n",
              "\n",
              "          const docLinkHtml = 'Like what you see? Visit the ' +\n",
              "            '<a target=\"_blank\" href=https://colab.research.google.com/notebooks/data_table.ipynb>data table notebook</a>'\n",
              "            + ' to learn more about interactive tables.';\n",
              "          element.innerHTML = '';\n",
              "          dataTable['output_type'] = 'display_data';\n",
              "          await google.colab.output.renderOutput(dataTable, element);\n",
              "          const docLink = document.createElement('div');\n",
              "          docLink.innerHTML = docLinkHtml;\n",
              "          element.appendChild(docLink);\n",
              "        }\n",
              "      </script>\n",
              "    </div>\n",
              "  </div>\n",
              "  "
            ]
          },
          "metadata": {},
          "execution_count": 80
        }
      ]
    },
    {
      "cell_type": "code",
      "metadata": {
        "id": "14kGO5nkMGlV"
      },
      "source": [
        "X = df[['Number of Units']]\n",
        "y = df['Manufacturing Cost']"
      ],
      "execution_count": 81,
      "outputs": []
    },
    {
      "cell_type": "code",
      "source": [
        "len(X)"
      ],
      "metadata": {
        "id": "ksh_OrkjY3GW",
        "outputId": "ddb954fc-c4b6-4966-a1b0-768500b55c41",
        "colab": {
          "base_uri": "https://localhost:8080/"
        }
      },
      "execution_count": 82,
      "outputs": [
        {
          "output_type": "execute_result",
          "data": {
            "text/plain": [
              "1000"
            ]
          },
          "metadata": {},
          "execution_count": 82
        }
      ]
    },
    {
      "cell_type": "code",
      "source": [
        "y.describe"
      ],
      "metadata": {
        "colab": {
          "base_uri": "https://localhost:8080/"
        },
        "id": "bwR6SSqQDfC2",
        "outputId": "0241ffe2-b00b-41e9-8aaf-3f8147b18098"
      },
      "execution_count": 83,
      "outputs": [
        {
          "output_type": "execute_result",
          "data": {
            "text/plain": [
              "<bound method NDFrame.describe of 0      95.066056\n",
              "1      96.531750\n",
              "2      73.661311\n",
              "3      95.566843\n",
              "4      98.777013\n",
              "         ...    \n",
              "995    23.855067\n",
              "996    27.536542\n",
              "997    25.973787\n",
              "998    25.138311\n",
              "999    21.547777\n",
              "Name: Manufacturing Cost, Length: 1000, dtype: float64>"
            ]
          },
          "metadata": {},
          "execution_count": 83
        }
      ]
    },
    {
      "cell_type": "code",
      "metadata": {
        "colab": {
          "base_uri": "https://localhost:8080/",
          "height": 282
        },
        "id": "idoEjfEhMoxk",
        "outputId": "d8a69cee-376f-4336-bcaa-5a3847592b84"
      },
      "source": [
        "plt.plot(X,y,'b.')"
      ],
      "execution_count": 84,
      "outputs": [
        {
          "output_type": "execute_result",
          "data": {
            "text/plain": [
              "[<matplotlib.lines.Line2D at 0x7f225998c0d0>]"
            ]
          },
          "metadata": {},
          "execution_count": 84
        },
        {
          "output_type": "display_data",
          "data": {
            "text/plain": [
              "<Figure size 432x288 with 1 Axes>"
            ],
            "image/png": "[encoded data removed]"
          },
          "metadata": {
            "needs_background": "light"
          }
        }
      ]
    },
    {
      "cell_type": "markdown",
      "source": [
        "# **Regresión lineal simple**"
      ],
      "metadata": {
        "id": "aiYkVd9Qq9nc"
      }
    },
    {
      "cell_type": "code",
      "source": [
        "#simple lineal regression\n",
        "#y=ax+b\n",
        "from sklearn.model_selection import train_test_split\n",
        "X_train, X_test, y_train, y_test = train_test_split(X, y, test_size = 0.3, random_state = 101)\n"
      ],
      "metadata": {
        "id": "kMmOy97puOLE"
      },
      "execution_count": 87,
      "outputs": []
    },
    {
      "cell_type": "code",
      "source": [
        "#regresión lineal simple\n",
        "linear_reg = LinearRegression(fit_intercept=True)\n",
        "linear_reg.fit(X_train, y_train)\n",
        "#grafica\n",
        "X_reg = X_test \n",
        "y_reg = linear_reg.predict(X_reg)\n",
        "plt.scatter(X_train, y_train)\n",
        "plt.plot(X_reg, y_reg, \"r-\", linewidth=2, label=\"Regresión\")\n",
        "plt.ylabel(\"$y$\", rotation=0, fontsize=14)\n",
        "plt.xlabel(\"$X$\", fontsize=14)\n",
        "plt.legend(loc=\"upper right\", fontsize=12);"
      ],
      "metadata": {
        "colab": {
          "base_uri": "https://localhost:8080/",
          "height": 283
        },
        "id": "cVp3ISOcKiay",
        "outputId": "a6234dba-9fdb-43af-9e16-8140d7798df8"
      },
      "execution_count": 88,
      "outputs": [
        {
          "output_type": "display_data",
          "data": {
            "text/plain": [
              "<Figure size 432x288 with 1 Axes>"
            ],
            "image/png": "[encoded data removed]"
          },
          "metadata": {
            "needs_background": "light"
          }
        }
      ]
    },
    {
      "cell_type": "code",
      "source": [
        "#Ecuación\n",
        "linear_reg.coef_, linear_reg.intercept_\n",
        "print('Y =', linear_reg.coef_,'X +', linear_reg.intercept_)"
      ],
      "metadata": {
        "colab": {
          "base_uri": "https://localhost:8080/"
        },
        "id": "6kPCokSyL6t6",
        "outputId": "5caa27f1-825f-4f0c-c2b1-446f7f2afe57"
      },
      "execution_count": 89,
      "outputs": [
        {
          "output_type": "stream",
          "name": "stdout",
          "text": [
            "Y = [-5.98980103] X + 66.89748040122576\n"
          ]
        }
      ]
    },
    {
      "cell_type": "code",
      "source": [
        "#arreglos para grafica de mae y r2\n",
        "mae_list =[] \n",
        "r2_list =[] "
      ],
      "metadata": {
        "id": "UcWMeCg-KkXD"
      },
      "execution_count": 90,
      "outputs": []
    },
    {
      "cell_type": "code",
      "source": [
        "#MAE\n",
        "mae_reg = metrics.mean_absolute_error(y_test,y_reg)\n",
        "mae_list.append(mae_reg) \n",
        "#R2\n",
        "r2_reg = r2_score(y_test,y_reg)\n",
        "r2_list.append(r2_reg)\n",
        "#errores\n",
        "print('MAE:', metrics.mean_absolute_error(y_test,y_reg))\n",
        "print('RMSE:', np.sqrt(metrics.mean_squared_error(y_test, y_reg)))\n",
        "#r2\n",
        "print('R2:', r2_score(y_test,y_reg))"
      ],
      "metadata": {
        "colab": {
          "base_uri": "https://localhost:8080/"
        },
        "id": "1MG8uXHwMURB",
        "outputId": "c6b31eb5-6659-4e4e-c29e-82718be381ea"
      },
      "execution_count": 91,
      "outputs": [
        {
          "output_type": "stream",
          "name": "stdout",
          "text": [
            "MAE: 4.848701594938563\n",
            "RMSE: 6.73635897582296\n",
            "R2: 0.6056489925064351\n"
          ]
        }
      ]
    },
    {
      "cell_type": "markdown",
      "source": [
        "# **Regresión polinomial**"
      ],
      "metadata": {
        "id": "O8II8_J-q45T"
      }
    },
    {
      "cell_type": "code",
      "source": [
        "# regresión polinomial\n",
        "\n",
        "poly_ft = PolynomialFeatures(degree=2, include_bias=False)\n",
        "X_poly = poly_ft.fit_transform(X_train)\n",
        "X_poly"
      ],
      "metadata": {
        "id": "LWvfEDGKuoLJ",
        "colab": {
          "base_uri": "https://localhost:8080/"
        },
        "outputId": "ffa1e369-2170-46ad-d7d9-5583294b87af"
      },
      "execution_count": 92,
      "outputs": [
        {
          "output_type": "execute_result",
          "data": {
            "text/plain": [
              "array([[ 3.74792469, 14.04693946],\n",
              "       [ 3.17819194, 10.10090401],\n",
              "       [ 4.39899419, 19.35114987],\n",
              "       ...,\n",
              "       [ 3.94046305, 15.52724904],\n",
              "       [ 4.52448429, 20.4709581 ],\n",
              "       [ 5.86814353, 34.43510849]])"
            ]
          },
          "metadata": {},
          "execution_count": 92
        }
      ]
    },
    {
      "cell_type": "code",
      "source": [
        "poly_reg = LinearRegression(fit_intercept=True)\n",
        "poly_reg.fit(X_poly, y_train)\n",
        "poly_reg.coef_, poly_reg.intercept_"
      ],
      "metadata": {
        "colab": {
          "base_uri": "https://localhost:8080/"
        },
        "id": "-1yOil1fQPh4",
        "outputId": "7e4d5a53-7e87-4323-fb0c-b22cd76f16c0"
      },
      "execution_count": 93,
      "outputs": [
        {
          "output_type": "execute_result",
          "data": {
            "text/plain": [
              "(array([-16.31070656,   1.12220051]), 88.6430234056414)"
            ]
          },
          "metadata": {},
          "execution_count": 93
        }
      ]
    },
    {
      "cell_type": "code",
      "source": [
        "X_poly.shape"
      ],
      "metadata": {
        "colab": {
          "base_uri": "https://localhost:8080/"
        },
        "id": "bNQO_Qb4ROmg",
        "outputId": "510e5ef7-f4ff-45e4-c308-3ea76c95567a"
      },
      "execution_count": 94,
      "outputs": [
        {
          "output_type": "execute_result",
          "data": {
            "text/plain": [
              "(700, 2)"
            ]
          },
          "metadata": {},
          "execution_count": 94
        }
      ]
    },
    {
      "cell_type": "code",
      "source": [
        "X_poly_test = poly_ft.fit_transform(X_test)\n",
        "X_poly_test.shape"
      ],
      "metadata": {
        "colab": {
          "base_uri": "https://localhost:8080/"
        },
        "id": "bW-gh0ZURQrQ",
        "outputId": "2c1f8218-b575-459e-9ece-638d5ae38aed"
      },
      "execution_count": 95,
      "outputs": [
        {
          "output_type": "execute_result",
          "data": {
            "text/plain": [
              "(300, 2)"
            ]
          },
          "metadata": {},
          "execution_count": 95
        }
      ]
    },
    {
      "cell_type": "code",
      "source": [
        "y_reg_poly = poly_reg.predict(X_poly_test)\n",
        "y_reg_poly.shape"
      ],
      "metadata": {
        "colab": {
          "base_uri": "https://localhost:8080/"
        },
        "id": "qktRc8vzRWLH",
        "outputId": "f45e4130-6ffa-45f5-e842-2531f1127489"
      },
      "execution_count": 96,
      "outputs": [
        {
          "output_type": "execute_result",
          "data": {
            "text/plain": [
              "(300,)"
            ]
          },
          "metadata": {},
          "execution_count": 96
        }
      ]
    },
    {
      "cell_type": "code",
      "source": [
        "order = np.argsort(X_test.values.ravel()) \n",
        "\n",
        "sortedX = X_test.values.ravel()[order] #Ordenamos los en un orden ordenado\n",
        "sortedY = y_test.values.ravel()[order]\n",
        "sorted_poly = y_reg_poly[order]\n",
        "\n",
        "plt.plot(X, y, \"b.\")  #Aqui es para que veamos mas a detalle la linea de regresion, todo es cuestion de perspectiva\n",
        "plt.plot(sortedX, sorted_poly, \"r-\", linewidth=2, label=\"Predictions\")\n",
        "plt.xlabel(\"$x_1$\", fontsize=14)\n",
        "plt.ylabel(\"$y$\", rotation=0, fontsize=14)\n",
        "plt.legend(loc=\"upper right\", fontsize=12)\n",
        "plt.axis([0, 10, 0, 90]);"
      ],
      "metadata": {
        "colab": {
          "base_uri": "https://localhost:8080/",
          "height": 288
        },
        "id": "kR3qxu-uQe0A",
        "outputId": "98df5a16-c1b3-4e42-da05-713189d518f1"
      },
      "execution_count": 97,
      "outputs": [
        {
          "output_type": "display_data",
          "data": {
            "text/plain": [
              "<Figure size 432x288 with 1 Axes>"
            ],
            "image/png": "[encoded data removed]"
          },
          "metadata": {
            "needs_background": "light"
          }
        }
      ]
    },
    {
      "cell_type": "code",
      "source": [
        "print('Y =', poly_reg.coef_[1],'X^2 +', poly_reg.coef_[0],'X +',poly_reg.intercept_)\n",
        "\n",
        "mae_regresion_lineal_multiple = metrics.mean_absolute_error(y_test,y_reg_poly)\n",
        "mae_list.append(mae_regresion_lineal_multiple) #Ojo con los corchetes y los parentesis, en el ppend debe de ser con parentesis, pero en la deficnion es con corchetes para no hacer tuplas, \n",
        "r2_regresion_lineal_multiple = r2_score(y_test,y_reg_poly)\n",
        "r2_list.append(r2_regresion_lineal_multiple)\n",
        "\n",
        "mae_poly = metrics.mean_absolute_error(y_test, y_reg_poly)\n",
        "r2Score = r2_score(y_test, y_reg_poly)\n",
        "\n",
        "print('MAE:', mae_poly)\n",
        "print('Root Mean Squared Error:', np.sqrt(metrics.mean_squared_error(y_test, y_reg_poly)))\n",
        "print('R2',r2Score)"
      ],
      "metadata": {
        "colab": {
          "base_uri": "https://localhost:8080/"
        },
        "id": "WuU8leU4SOwg",
        "outputId": "df601e19-d0e1-444d-cd49-cfd94373aa6f"
      },
      "execution_count": 98,
      "outputs": [
        {
          "output_type": "stream",
          "name": "stdout",
          "text": [
            "Y = 1.1222005144772753 X^2 + -16.310706562434078 X + 88.6430234056414\n",
            "MAE: 4.312234249307489\n",
            "Root Mean Squared Error: 5.778833048851249\n",
            "R2 0.7097897110152587\n"
          ]
        }
      ]
    },
    {
      "cell_type": "markdown",
      "source": [
        "# **Ridge**"
      ],
      "metadata": {
        "id": "rS646EKprA4j"
      }
    },
    {
      "cell_type": "code",
      "source": [
        "#ridge\n",
        "ridge_reg = Ridge(alpha=5.0,fit_intercept=True)\n",
        "ridge_reg.fit(X_train, y_train)\n",
        "X_ridge = X_test  \n",
        "y_ridge = ridge_reg.predict(X_ridge)\n",
        "plt.scatter(X_train, y_train)\n",
        "plt.plot(X_ridge, y_ridge, \"r-\", linewidth=2, label=\"Predicciones\")\n",
        "plt.xlabel(\"$X$\", fontsize=14)\n",
        "plt.ylabel(\"$y$\", rotation=0, fontsize=14)\n",
        "plt.legend(loc=\"upper right\", fontsize=12);"
      ],
      "metadata": {
        "colab": {
          "base_uri": "https://localhost:8080/",
          "height": 283
        },
        "id": "Gu8T9yuTTR-E",
        "outputId": "f313293a-7b43-4633-a049-d47c8d07e09b"
      },
      "execution_count": 99,
      "outputs": [
        {
          "output_type": "display_data",
          "data": {
            "text/plain": [
              "<Figure size 432x288 with 1 Axes>"
            ],
            "image/png": "[encoded data removed]"
          },
          "metadata": {
            "needs_background": "light"
          }
        }
      ]
    },
    {
      "cell_type": "code",
      "source": [
        "#formula\n",
        "print('Y =', ridge_reg.coef_,'X +', ridge_reg.intercept_)\n",
        "mae_ridge = metrics.mean_absolute_error(y_test,y_ridge)\n",
        "mae_list.append(mae_ridge) #Ojo con los corchetes y los parentesis, en el ppend debe de ser con parentesis, pero en la deficnion es con corchetes para no hacer tuplas, \n",
        "r2_ridge= r2_score(y_test,y_ridge)\n",
        "r2_list.append(r2_ridge)\n",
        "\n",
        "#errores\n",
        "mae_ridge = metrics.mean_absolute_error(y_test, y_ridge)\n",
        "r2Score = r2_score(y_test, y_ridge)\n",
        "print('MAE:', mae_ridge)\n",
        "print('Root Mean Squared Error:', np.sqrt(metrics.mean_squared_error(y_test, y_ridge)))\n",
        "#r2\n",
        "print('R2',r2Score)\n",
        "\n"
      ],
      "metadata": {
        "colab": {
          "base_uri": "https://localhost:8080/"
        },
        "id": "p55lrhEAT_MW",
        "outputId": "8863e4ac-0eac-401b-edab-9f64915378c4"
      },
      "execution_count": 100,
      "outputs": [
        {
          "output_type": "stream",
          "name": "stdout",
          "text": [
            "Y = [-5.96548298] X + 66.78877749985897\n",
            "MAE: 4.848960238465538\n",
            "Root Mean Squared Error: 6.737377332113401\n",
            "R2 0.6055297529631285\n"
          ]
        }
      ]
    },
    {
      "cell_type": "markdown",
      "source": [
        "# **Lasso**"
      ],
      "metadata": {
        "id": "FAnH--FOrC-L"
      }
    },
    {
      "cell_type": "code",
      "source": [
        "#lasso\n",
        "lasso = Lasso(alpha=0.001,fit_intercept=True) \n",
        "lasso.fit(X_train, y_train)\n",
        "X_lasso = X_test  \n",
        "y_lasso = lasso.predict(X_lasso)\n",
        "plt.scatter(X_train, y_train)\n",
        "plt.plot(X_lasso, y_lasso, \"r-\", linewidth=2, label=\"Predicciones\")\n",
        "plt.xlabel(\"$X$\", fontsize=14)\n",
        "plt.ylabel(\"$y$\", rotation=0, fontsize=14)\n",
        "plt.legend(loc=\"upper right\", fontsize=12);"
      ],
      "metadata": {
        "colab": {
          "base_uri": "https://localhost:8080/",
          "height": 283
        },
        "id": "trWD5WjLWs71",
        "outputId": "025f5c06-64e7-4700-b90d-c7f96e9afb71"
      },
      "execution_count": 101,
      "outputs": [
        {
          "output_type": "display_data",
          "data": {
            "text/plain": [
              "<Figure size 432x288 with 1 Axes>"
            ],
            "image/png": "[encoded data removed]"
          },
          "metadata": {
            "needs_background": "light"
          }
        }
      ]
    },
    {
      "cell_type": "code",
      "source": [
        "#ecuacion\n",
        "print('Y =', lasso.coef_,'X +', lasso.intercept_)\n",
        "mae_lasso = metrics.mean_absolute_error(y_test,y_lasso)\n",
        "mae_list.append(mae_lasso) \n",
        "r2_lasso= r2_score(y_test,y_lasso)\n",
        "r2_list.append(r2_lasso)\n",
        "\n",
        "\n",
        "mae_lasso = metrics.mean_absolute_error(y_test, y_lasso)\n",
        "r2Score = r2_score(y_test, y_lasso)\n",
        "\n",
        "#errores\n",
        "print('MAE:', mae_lasso)\n",
        "print('Root Mean Squared Error:', np.sqrt(metrics.mean_squared_error(y_test, y_lasso)))\n",
        "\n",
        "#r2\n",
        "print('r2_score',r2Score)\n",
        "\n",
        "\n"
      ],
      "metadata": {
        "colab": {
          "base_uri": "https://localhost:8080/"
        },
        "id": "AOjBGmE4Ws31",
        "outputId": "23e6f3e9-536a-4910-96a6-f127647ee19b"
      },
      "execution_count": 102,
      "outputs": [
        {
          "output_type": "stream",
          "name": "stdout",
          "text": [
            "Y = [-5.98923033] X + 66.89492932426366\n",
            "MAE: 4.848707664873539\n",
            "Root Mean Squared Error: 6.736381008337338\n",
            "r2_score 0.60564641290565\n"
          ]
        }
      ]
    },
    {
      "cell_type": "markdown",
      "source": [
        "# **Gráficas**"
      ],
      "metadata": {
        "id": "p5PP2lRvrGbT"
      }
    },
    {
      "cell_type": "code",
      "source": [
        "print(mae_list)\n",
        "print(r2_list)"
      ],
      "metadata": {
        "colab": {
          "base_uri": "https://localhost:8080/"
        },
        "id": "AofDJLa_XwG0",
        "outputId": "f0cd2868-9c27-456b-b2eb-5835ec9bc4d5"
      },
      "execution_count": 103,
      "outputs": [
        {
          "output_type": "stream",
          "name": "stdout",
          "text": [
            "[4.848701594938563, 4.312234249307489, 4.848960238465538, 4.848707664873539]\n",
            "[0.6056489925064351, 0.7097897110152587, 0.6055297529631285, 0.60564641290565]\n"
          ]
        }
      ]
    },
    {
      "cell_type": "code",
      "source": [
        "names=list()\n",
        "names.append('Linear Reg')\n",
        "names.append('Polynomial Reg')\n",
        "names.append('Ridge')\n",
        "names.append('Lasso')\n",
        "\n",
        "plt.bar(names, mae_list)\n",
        "plt.show()"
      ],
      "metadata": {
        "colab": {
          "base_uri": "https://localhost:8080/",
          "height": 265
        },
        "id": "oxXe5649YMLq",
        "outputId": "8f7c2d43-96bf-4a80-fdf8-b209f9525801"
      },
      "execution_count": 104,
      "outputs": [
        {
          "output_type": "display_data",
          "data": {
            "text/plain": [
              "<Figure size 432x288 with 1 Axes>"
            ],
            "image/png": "[encoded data removed]"
          },
          "metadata": {
            "needs_background": "light"
          }
        }
      ]
    },
    {
      "cell_type": "code",
      "source": [
        "namesr2=list()\n",
        "namesr2.append('Linear Reg')\n",
        "namesr2.append('Polynomial Reg')\n",
        "namesr2.append('Ridge')\n",
        "namesr2.append('Lasso')\n",
        "\n",
        "plt.bar(namesr2, r2_list)\n",
        "plt.show()"
      ],
      "metadata": {
        "colab": {
          "base_uri": "https://localhost:8080/",
          "height": 265
        },
        "id": "MN1K68SkYd-8",
        "outputId": "8d4f743e-91df-494c-ee7e-816bc125a55f"
      },
      "execution_count": 105,
      "outputs": [
        {
          "output_type": "display_data",
          "data": {
            "text/plain": [
              "<Figure size 432x288 with 1 Axes>"
            ],
            "image/png": "[encoded data removed]"
          },
          "metadata": {
            "needs_background": "light"
          }
        }
      ]
    },
    {
      "cell_type": "markdown",
      "source": [
        "\n",
        "**¿Qué método conviene más a la empresa?, ¿por qué?**\n",
        "\n",
        "En mi opinión sería regresión polinomial, ya que es más preciso y no deja por fuera los datos de la esquina superior izquierda al formar una curva, también tiene un valor r2 de 0.70, mientras los demás tienen un aproximado de 0.6.\n",
        "\n",
        "**¿Qué porcentajes de entrenamiento y evaluación usaste?**\n",
        "\n",
        "Utilice 70% de entrenamiento y 30% de evaluación para evitar el sobreajuste y comprobar la eficiencia del modelo generado con una mayor cantidad de datos.\n",
        "\n",
        "**¿Qué error tienes?, ¿es bueno?, ¿cómo lo sabes?**\n",
        "\n",
        "Podemos notar en los resultados de nuestro modelo de regresión lineal polinomial, que el MAE es menor al RMSE ya que es menos sensible a los valores atípicos, aún así la diferencia no es mucha entre los dos errores y considerando el resultado de r2 podría decirse que el modelo no necesitaría ajustes tan drásticos. Es importante tener en cuenta en donde hay una mayor concentración de datos que están causando el error para mejorar el modelo.\n",
        "\n",
        "- MAE: 4.31\n",
        "\n",
        "\n",
        "- RMSE: 5.77\n",
        "\n",
        "\n",
        "- r2: 0.7097 \n",
        "\n"
      ],
      "metadata": {
        "id": "-ZAAiifYgf74"
      }
    },
    {
      "cell_type": "markdown",
      "source": [
        "## Ejercicio 2"
      ],
      "metadata": {
        "id": "0GuNmQCCanyc"
      }
    },
    {
      "cell_type": "code",
      "source": [
        "df = pd.read_csv('https://raw.githubusercontent.com/marypazrf/bdd/main/kc_house_data.csv')\n",
        "df.sample(10)"
      ],
      "metadata": {
        "colab": {
          "base_uri": "https://localhost:8080/",
          "height": 456
        },
        "id": "yky0tmpVS1GK",
        "outputId": "3a5afaaf-19e6-42dc-daa9-657b6de2b4db"
      },
      "execution_count": 106,
      "outputs": [
        {
          "output_type": "execute_result",
          "data": {
            "text/plain": [
              "               id             date     price  bedrooms  bathrooms  \\\n",
              "8455   4343800100  20141021T000000  315000.0         3       1.75   \n",
              "18738  2660500283  20140624T000000  210000.0         2       1.00   \n",
              "21131  6928000605  20140626T000000  525000.0         4       2.75   \n",
              "1673   7697920060  20140630T000000  285000.0         4       2.25   \n",
              "18140  5706202070  20140930T000000  511100.0         4       2.50   \n",
              "19050  3526039019  20140702T000000  811000.0         3       3.00   \n",
              "9670   8861000210  20150408T000000  865000.0         3       1.75   \n",
              "5266   5561000010  20150223T000000  605000.0         3       2.50   \n",
              "6319   2807100095  20140908T000000  402000.0         4       1.75   \n",
              "15128  8944460020  20150305T000000  340000.0         4       2.50   \n",
              "\n",
              "       sqft_living  sqft_lot  floors  waterfront  view  ...  grade  \\\n",
              "8455          1680      7250     1.0           0     0  ...      7   \n",
              "18738          970      5500     1.0           0     0  ...      7   \n",
              "21131         3030      6625     2.0           0     0  ...      8   \n",
              "1673          1830      8734     2.0           0     0  ...      7   \n",
              "18140         1560     12220     1.5           0     0  ...      7   \n",
              "19050         2470      7410     2.0           0     0  ...      8   \n",
              "9670          1480      8163     1.0           0     0  ...      7   \n",
              "5266          3200     35012     1.5           0     0  ...      8   \n",
              "6319          1510      9176     1.0           0     0  ...      7   \n",
              "15128         2665      5868     2.0           0     0  ...      9   \n",
              "\n",
              "       sqft_above  sqft_basement  yr_built  yr_renovated  zipcode      lat  \\\n",
              "8455          930            750      1952             0    98133  47.7201   \n",
              "18738         970              0      1956             0    98118  47.5560   \n",
              "21131        3030              0      2011             0    98059  47.4815   \n",
              "1673         1830              0      1991             0    98030  47.3679   \n",
              "18140        1560              0      1965             0    98027  47.5287   \n",
              "19050        1860            610      1977             0    98117  47.6937   \n",
              "9670         1040            440      1953             0    98004  47.6380   \n",
              "5266         2100           1100      1965             0    98027  47.4651   \n",
              "6319         1510              0      1957             0    98133  47.7651   \n",
              "15128        2665              0      2006             0    98030  47.3831   \n",
              "\n",
              "          long  sqft_living15  sqft_lot15  \n",
              "8455  -122.350           1340        7250  \n",
              "18738 -122.291           1180        6000  \n",
              "21131 -122.152           3030        9620  \n",
              "1673  -122.179           1870        7212  \n",
              "18140 -122.053           1920       12220  \n",
              "19050 -122.392           2390        7800  \n",
              "9670  -122.206           2170       11124  \n",
              "5266  -121.993           2690       35100  \n",
              "6319  -122.339           1480        9176  \n",
              "15128 -122.185           2665        6092  \n",
              "\n",
              "[10 rows x 21 columns]"
            ],
            "text/html": [
              "\n",
              "  <div id=\"df-9488f7db-809a-4e7f-b3f0-c687c431be39\">\n",
              "    <div class=\"colab-df-container\">\n",
              "      <div>\n",
              "<style scoped>\n",
              "    .dataframe tbody tr th:only-of-type {\n",
              "        vertical-align: middle;\n",
              "    }\n",
              "\n",
              "    .dataframe tbody tr th {\n",
              "        vertical-align: top;\n",
              "    }\n",
              "\n",
              "    .dataframe thead th {\n",
              "        text-align: right;\n",
              "    }\n",
              "</style>\n",
              "<table border=\"1\" class=\"dataframe\">\n",
              "  <thead>\n",
              "    <tr style=\"text-align: right;\">\n",
              "      <th></th>\n",
              "      <th>id</th>\n",
              "      <th>date</th>\n",
              "      <th>price</th>\n",
              "      <th>bedrooms</th>\n",
              "      <th>bathrooms</th>\n",
              "      <th>sqft_living</th>\n",
              "      <th>sqft_lot</th>\n",
              "      <th>floors</th>\n",
              "      <th>waterfront</th>\n",
              "      <th>view</th>\n",
              "      <th>...</th>\n",
              "      <th>grade</th>\n",
              "      <th>sqft_above</th>\n",
              "      <th>sqft_basement</th>\n",
              "      <th>yr_built</th>\n",
              "      <th>yr_renovated</th>\n",
              "      <th>zipcode</th>\n",
              "      <th>lat</th>\n",
              "      <th>long</th>\n",
              "      <th>sqft_living15</th>\n",
              "      <th>sqft_lot15</th>\n",
              "    </tr>\n",
              "  </thead>\n",
              "  <tbody>\n",
              "    <tr>\n",
              "      <th>8455</th>\n",
              "      <td>4343800100</td>\n",
              "      <td>20141021T000000</td>\n",
              "      <td>315000.0</td>\n",
              "      <td>3</td>\n",
              "      <td>1.75</td>\n",
              "      <td>1680</td>\n",
              "      <td>7250</td>\n",
              "      <td>1.0</td>\n",
              "      <td>0</td>\n",
              "      <td>0</td>\n",
              "      <td>...</td>\n",
              "      <td>7</td>\n",
              "      <td>930</td>\n",
              "      <td>750</td>\n",
              "      <td>1952</td>\n",
              "      <td>0</td>\n",
              "      <td>98133</td>\n",
              "      <td>47.7201</td>\n",
              "      <td>-122.350</td>\n",
              "      <td>1340</td>\n",
              "      <td>7250</td>\n",
              "    </tr>\n",
              "    <tr>\n",
              "      <th>18738</th>\n",
              "      <td>2660500283</td>\n",
              "      <td>20140624T000000</td>\n",
              "      <td>210000.0</td>\n",
              "      <td>2</td>\n",
              "      <td>1.00</td>\n",
              "      <td>970</td>\n",
              "      <td>5500</td>\n",
              "      <td>1.0</td>\n",
              "      <td>0</td>\n",
              "      <td>0</td>\n",
              "      <td>...</td>\n",
              "      <td>7</td>\n",
              "      <td>970</td>\n",
              "      <td>0</td>\n",
              "      <td>1956</td>\n",
              "      <td>0</td>\n",
              "      <td>98118</td>\n",
              "      <td>47.5560</td>\n",
              "      <td>-122.291</td>\n",
              "      <td>1180</td>\n",
              "      <td>6000</td>\n",
              "    </tr>\n",
              "    <tr>\n",
              "      <th>21131</th>\n",
              "      <td>6928000605</td>\n",
              "      <td>20140626T000000</td>\n",
              "      <td>525000.0</td>\n",
              "      <td>4</td>\n",
              "      <td>2.75</td>\n",
              "      <td>3030</td>\n",
              "      <td>6625</td>\n",
              "      <td>2.0</td>\n",
              "      <td>0</td>\n",
              "      <td>0</td>\n",
              "      <td>...</td>\n",
              "      <td>8</td>\n",
              "      <td>3030</td>\n",
              "      <td>0</td>\n",
              "      <td>2011</td>\n",
              "      <td>0</td>\n",
              "      <td>98059</td>\n",
              "      <td>47.4815</td>\n",
              "      <td>-122.152</td>\n",
              "      <td>3030</td>\n",
              "      <td>9620</td>\n",
              "    </tr>\n",
              "    <tr>\n",
              "      <th>1673</th>\n",
              "      <td>7697920060</td>\n",
              "      <td>20140630T000000</td>\n",
              "      <td>285000.0</td>\n",
              "      <td>4</td>\n",
              "      <td>2.25</td>\n",
              "      <td>1830</td>\n",
              "      <td>8734</td>\n",
              "      <td>2.0</td>\n",
              "      <td>0</td>\n",
              "      <td>0</td>\n",
              "      <td>...</td>\n",
              "      <td>7</td>\n",
              "      <td>1830</td>\n",
              "      <td>0</td>\n",
              "      <td>1991</td>\n",
              "      <td>0</td>\n",
              "      <td>98030</td>\n",
              "      <td>47.3679</td>\n",
              "      <td>-122.179</td>\n",
              "      <td>1870</td>\n",
              "      <td>7212</td>\n",
              "    </tr>\n",
              "    <tr>\n",
              "      <th>18140</th>\n",
              "      <td>5706202070</td>\n",
              "      <td>20140930T000000</td>\n",
              "      <td>511100.0</td>\n",
              "      <td>4</td>\n",
              "      <td>2.50</td>\n",
              "      <td>1560</td>\n",
              "      <td>12220</td>\n",
              "      <td>1.5</td>\n",
              "      <td>0</td>\n",
              "      <td>0</td>\n",
              "      <td>...</td>\n",
              "      <td>7</td>\n",
              "      <td>1560</td>\n",
              "      <td>0</td>\n",
              "      <td>1965</td>\n",
              "      <td>0</td>\n",
              "      <td>98027</td>\n",
              "      <td>47.5287</td>\n",
              "      <td>-122.053</td>\n",
              "      <td>1920</td>\n",
              "      <td>12220</td>\n",
              "    </tr>\n",
              "    <tr>\n",
              "      <th>19050</th>\n",
              "      <td>3526039019</td>\n",
              "      <td>20140702T000000</td>\n",
              "      <td>811000.0</td>\n",
              "      <td>3</td>\n",
              "      <td>3.00</td>\n",
              "      <td>2470</td>\n",
              "      <td>7410</td>\n",
              "      <td>2.0</td>\n",
              "      <td>0</td>\n",
              "      <td>0</td>\n",
              "      <td>...</td>\n",
              "      <td>8</td>\n",
              "      <td>1860</td>\n",
              "      <td>610</td>\n",
              "      <td>1977</td>\n",
              "      <td>0</td>\n",
              "      <td>98117</td>\n",
              "      <td>47.6937</td>\n",
              "      <td>-122.392</td>\n",
              "      <td>2390</td>\n",
              "      <td>7800</td>\n",
              "    </tr>\n",
              "    <tr>\n",
              "      <th>9670</th>\n",
              "      <td>8861000210</td>\n",
              "      <td>20150408T000000</td>\n",
              "      <td>865000.0</td>\n",
              "      <td>3</td>\n",
              "      <td>1.75</td>\n",
              "      <td>1480</td>\n",
              "      <td>8163</td>\n",
              "      <td>1.0</td>\n",
              "      <td>0</td>\n",
              "      <td>0</td>\n",
              "      <td>...</td>\n",
              "      <td>7</td>\n",
              "      <td>1040</td>\n",
              "      <td>440</td>\n",
              "      <td>1953</td>\n",
              "      <td>0</td>\n",
              "      <td>98004</td>\n",
              "      <td>47.6380</td>\n",
              "      <td>-122.206</td>\n",
              "      <td>2170</td>\n",
              "      <td>11124</td>\n",
              "    </tr>\n",
              "    <tr>\n",
              "      <th>5266</th>\n",
              "      <td>5561000010</td>\n",
              "      <td>20150223T000000</td>\n",
              "      <td>605000.0</td>\n",
              "      <td>3</td>\n",
              "      <td>2.50</td>\n",
              "      <td>3200</td>\n",
              "      <td>35012</td>\n",
              "      <td>1.5</td>\n",
              "      <td>0</td>\n",
              "      <td>0</td>\n",
              "      <td>...</td>\n",
              "      <td>8</td>\n",
              "      <td>2100</td>\n",
              "      <td>1100</td>\n",
              "      <td>1965</td>\n",
              "      <td>0</td>\n",
              "      <td>98027</td>\n",
              "      <td>47.4651</td>\n",
              "      <td>-121.993</td>\n",
              "      <td>2690</td>\n",
              "      <td>35100</td>\n",
              "    </tr>\n",
              "    <tr>\n",
              "      <th>6319</th>\n",
              "      <td>2807100095</td>\n",
              "      <td>20140908T000000</td>\n",
              "      <td>402000.0</td>\n",
              "      <td>4</td>\n",
              "      <td>1.75</td>\n",
              "      <td>1510</td>\n",
              "      <td>9176</td>\n",
              "      <td>1.0</td>\n",
              "      <td>0</td>\n",
              "      <td>0</td>\n",
              "      <td>...</td>\n",
              "      <td>7</td>\n",
              "      <td>1510</td>\n",
              "      <td>0</td>\n",
              "      <td>1957</td>\n",
              "      <td>0</td>\n",
              "      <td>98133</td>\n",
              "      <td>47.7651</td>\n",
              "      <td>-122.339</td>\n",
              "      <td>1480</td>\n",
              "      <td>9176</td>\n",
              "    </tr>\n",
              "    <tr>\n",
              "      <th>15128</th>\n",
              "      <td>8944460020</td>\n",
              "      <td>20150305T000000</td>\n",
              "      <td>340000.0</td>\n",
              "      <td>4</td>\n",
              "      <td>2.50</td>\n",
              "      <td>2665</td>\n",
              "      <td>5868</td>\n",
              "      <td>2.0</td>\n",
              "      <td>0</td>\n",
              "      <td>0</td>\n",
              "      <td>...</td>\n",
              "      <td>9</td>\n",
              "      <td>2665</td>\n",
              "      <td>0</td>\n",
              "      <td>2006</td>\n",
              "      <td>0</td>\n",
              "      <td>98030</td>\n",
              "      <td>47.3831</td>\n",
              "      <td>-122.185</td>\n",
              "      <td>2665</td>\n",
              "      <td>6092</td>\n",
              "    </tr>\n",
              "  </tbody>\n",
              "</table>\n",
              "<p>10 rows × 21 columns</p>\n",
              "</div>\n",
              "      <button class=\"colab-df-convert\" onclick=\"convertToInteractive('df-9488f7db-809a-4e7f-b3f0-c687c431be39')\"\n",
              "              title=\"Convert this dataframe to an interactive table.\"\n",
              "              style=\"display:none;\">\n",
              "        \n",
              "  <svg xmlns=\"http://www.w3.org/2000/svg\" height=\"24px\"viewBox=\"0 0 24 24\"\n",
              "       width=\"24px\">\n",
              "    <path d=\"M0 0h24v24H0V0z\" fill=\"none\"/>\n",
              "    <path d=\"M18.56 5.44l.94 2.06.94-2.06 2.06-.94-2.06-.94-.94-2.06-.94 2.06-2.06.94zm-11 1L8.5 8.5l.94-2.06 2.06-.94-2.06-.94L8.5 2.5l-.94 2.06-2.06.94zm10 10l.94 2.06.94-2.06 2.06-.94-2.06-.94-.94-2.06-.94 2.06-2.06.94z\"/><path d=\"M17.41 7.96l-1.37-1.37c-.4-.4-.92-.59-1.43-.59-.52 0-1.04.2-1.43.59L10.3 9.45l-7.72 7.72c-.78.78-.78 2.05 0 2.83L4 21.41c.39.39.9.59 1.41.59.51 0 1.02-.2 1.41-.59l7.78-7.78 2.81-2.81c.8-.78.8-2.07 0-2.86zM5.41 20L4 18.59l7.72-7.72 1.47 1.35L5.41 20z\"/>\n",
              "  </svg>\n",
              "      </button>\n",
              "      \n",
              "  <style>\n",
              "    .colab-df-container {\n",
              "      display:flex;\n",
              "      flex-wrap:wrap;\n",
              "      gap: 12px;\n",
              "    }\n",
              "\n",
              "    .colab-df-convert {\n",
              "      background-color: #E8F0FE;\n",
              "      border: none;\n",
              "      border-radius: 50%;\n",
              "      cursor: pointer;\n",
              "      display: none;\n",
              "      fill: #1967D2;\n",
              "      height: 32px;\n",
              "      padding: 0 0 0 0;\n",
              "      width: 32px;\n",
              "    }\n",
              "\n",
              "    .colab-df-convert:hover {\n",
              "      background-color: #E2EBFA;\n",
              "      box-shadow: 0px 1px 2px rgba(60, 64, 67, 0.3), 0px 1px 3px 1px rgba(60, 64, 67, 0.15);\n",
              "      fill: #174EA6;\n",
              "    }\n",
              "\n",
              "    [theme=dark] .colab-df-convert {\n",
              "      background-color: #3B4455;\n",
              "      fill: #D2E3FC;\n",
              "    }\n",
              "\n",
              "    [theme=dark] .colab-df-convert:hover {\n",
              "      background-color: #434B5C;\n",
              "      box-shadow: 0px 1px 3px 1px rgba(0, 0, 0, 0.15);\n",
              "      filter: drop-shadow(0px 1px 2px rgba(0, 0, 0, 0.3));\n",
              "      fill: #FFFFFF;\n",
              "    }\n",
              "  </style>\n",
              "\n",
              "      <script>\n",
              "        const buttonEl =\n",
              "          document.querySelector('#df-9488f7db-809a-4e7f-b3f0-c687c431be39 button.colab-df-convert');\n",
              "        buttonEl.style.display =\n",
              "          google.colab.kernel.accessAllowed ? 'block' : 'none';\n",
              "\n",
              "        async function convertToInteractive(key) {\n",
              "          const element = document.querySelector('#df-9488f7db-809a-4e7f-b3f0-c687c431be39');\n",
              "          const dataTable =\n",
              "            await google.colab.kernel.invokeFunction('convertToInteractive',\n",
              "                                                     [key], {});\n",
              "          if (!dataTable) return;\n",
              "\n",
              "          const docLinkHtml = 'Like what you see? Visit the ' +\n",
              "            '<a target=\"_blank\" href=https://colab.research.google.com/notebooks/data_table.ipynb>data table notebook</a>'\n",
              "            + ' to learn more about interactive tables.';\n",
              "          element.innerHTML = '';\n",
              "          dataTable['output_type'] = 'display_data';\n",
              "          await google.colab.output.renderOutput(dataTable, element);\n",
              "          const docLink = document.createElement('div');\n",
              "          docLink.innerHTML = docLinkHtml;\n",
              "          element.appendChild(docLink);\n",
              "        }\n",
              "      </script>\n",
              "    </div>\n",
              "  </div>\n",
              "  "
            ]
          },
          "metadata": {},
          "execution_count": 106
        }
      ]
    },
    {
      "cell_type": "code",
      "source": [
        "df.info()"
      ],
      "metadata": {
        "colab": {
          "base_uri": "https://localhost:8080/"
        },
        "id": "MDeOh3yTaqhj",
        "outputId": "5166c298-9848-481a-ce3b-2887406318b9"
      },
      "execution_count": 107,
      "outputs": [
        {
          "output_type": "stream",
          "name": "stdout",
          "text": [
            "<class 'pandas.core.frame.DataFrame'>\n",
            "RangeIndex: 21613 entries, 0 to 21612\n",
            "Data columns (total 21 columns):\n",
            " #   Column         Non-Null Count  Dtype  \n",
            "---  ------         --------------  -----  \n",
            " 0   id             21613 non-null  int64  \n",
            " 1   date           21613 non-null  object \n",
            " 2   price          21613 non-null  float64\n",
            " 3   bedrooms       21613 non-null  int64  \n",
            " 4   bathrooms      21613 non-null  float64\n",
            " 5   sqft_living    21613 non-null  int64  \n",
            " 6   sqft_lot       21613 non-null  int64  \n",
            " 7   floors         21613 non-null  float64\n",
            " 8   waterfront     21613 non-null  int64  \n",
            " 9   view           21613 non-null  int64  \n",
            " 10  condition      21613 non-null  int64  \n",
            " 11  grade          21613 non-null  int64  \n",
            " 12  sqft_above     21613 non-null  int64  \n",
            " 13  sqft_basement  21613 non-null  int64  \n",
            " 14  yr_built       21613 non-null  int64  \n",
            " 15  yr_renovated   21613 non-null  int64  \n",
            " 16  zipcode        21613 non-null  int64  \n",
            " 17  lat            21613 non-null  float64\n",
            " 18  long           21613 non-null  float64\n",
            " 19  sqft_living15  21613 non-null  int64  \n",
            " 20  sqft_lot15     21613 non-null  int64  \n",
            "dtypes: float64(5), int64(15), object(1)\n",
            "memory usage: 3.5+ MB\n"
          ]
        }
      ]
    },
    {
      "cell_type": "code",
      "source": [
        "df.describe().T"
      ],
      "metadata": {
        "colab": {
          "base_uri": "https://localhost:8080/",
          "height": 676
        },
        "id": "ZYjKjDjAauL4",
        "outputId": "219654f1-7c71-487a-949e-e478fdf5ea69"
      },
      "execution_count": 108,
      "outputs": [
        {
          "output_type": "execute_result",
          "data": {
            "text/plain": [
              "                 count          mean           std           min  \\\n",
              "id             21613.0  4.580302e+09  2.876566e+09  1.000102e+06   \n",
              "price          21613.0  5.400881e+05  3.671272e+05  7.500000e+04   \n",
              "bedrooms       21613.0  3.370842e+00  9.300618e-01  0.000000e+00   \n",
              "bathrooms      21613.0  2.114757e+00  7.701632e-01  0.000000e+00   \n",
              "sqft_living    21613.0  2.079900e+03  9.184409e+02  2.900000e+02   \n",
              "sqft_lot       21613.0  1.510697e+04  4.142051e+04  5.200000e+02   \n",
              "floors         21613.0  1.494309e+00  5.399889e-01  1.000000e+00   \n",
              "waterfront     21613.0  7.541757e-03  8.651720e-02  0.000000e+00   \n",
              "view           21613.0  2.343034e-01  7.663176e-01  0.000000e+00   \n",
              "condition      21613.0  3.409430e+00  6.507430e-01  1.000000e+00   \n",
              "grade          21613.0  7.656873e+00  1.175459e+00  1.000000e+00   \n",
              "sqft_above     21613.0  1.788391e+03  8.280910e+02  2.900000e+02   \n",
              "sqft_basement  21613.0  2.915090e+02  4.425750e+02  0.000000e+00   \n",
              "yr_built       21613.0  1.971005e+03  2.937341e+01  1.900000e+03   \n",
              "yr_renovated   21613.0  8.440226e+01  4.016792e+02  0.000000e+00   \n",
              "zipcode        21613.0  9.807794e+04  5.350503e+01  9.800100e+04   \n",
              "lat            21613.0  4.756005e+01  1.385637e-01  4.715590e+01   \n",
              "long           21613.0 -1.222139e+02  1.408283e-01 -1.225190e+02   \n",
              "sqft_living15  21613.0  1.986552e+03  6.853913e+02  3.990000e+02   \n",
              "sqft_lot15     21613.0  1.276846e+04  2.730418e+04  6.510000e+02   \n",
              "\n",
              "                        25%           50%           75%           max  \n",
              "id             2.123049e+09  3.904930e+09  7.308900e+09  9.900000e+09  \n",
              "price          3.219500e+05  4.500000e+05  6.450000e+05  7.700000e+06  \n",
              "bedrooms       3.000000e+00  3.000000e+00  4.000000e+00  3.300000e+01  \n",
              "bathrooms      1.750000e+00  2.250000e+00  2.500000e+00  8.000000e+00  \n",
              "sqft_living    1.427000e+03  1.910000e+03  2.550000e+03  1.354000e+04  \n",
              "sqft_lot       5.040000e+03  7.618000e+03  1.068800e+04  1.651359e+06  \n",
              "floors         1.000000e+00  1.500000e+00  2.000000e+00  3.500000e+00  \n",
              "waterfront     0.000000e+00  0.000000e+00  0.000000e+00  1.000000e+00  \n",
              "view           0.000000e+00  0.000000e+00  0.000000e+00  4.000000e+00  \n",
              "condition      3.000000e+00  3.000000e+00  4.000000e+00  5.000000e+00  \n",
              "grade          7.000000e+00  7.000000e+00  8.000000e+00  1.300000e+01  \n",
              "sqft_above     1.190000e+03  1.560000e+03  2.210000e+03  9.410000e+03  \n",
              "sqft_basement  0.000000e+00  0.000000e+00  5.600000e+02  4.820000e+03  \n",
              "yr_built       1.951000e+03  1.975000e+03  1.997000e+03  2.015000e+03  \n",
              "yr_renovated   0.000000e+00  0.000000e+00  0.000000e+00  2.015000e+03  \n",
              "zipcode        9.803300e+04  9.806500e+04  9.811800e+04  9.819900e+04  \n",
              "lat            4.747100e+01  4.757180e+01  4.767800e+01  4.777760e+01  \n",
              "long          -1.223280e+02 -1.222300e+02 -1.221250e+02 -1.213150e+02  \n",
              "sqft_living15  1.490000e+03  1.840000e+03  2.360000e+03  6.210000e+03  \n",
              "sqft_lot15     5.100000e+03  7.620000e+03  1.008300e+04  8.712000e+05  "
            ],
            "text/html": [
              "\n",
              "  <div id=\"df-92eb182d-99ec-4927-b5b9-64718db73f5b\">\n",
              "    <div class=\"colab-df-container\">\n",
              "      <div>\n",
              "<style scoped>\n",
              "    .dataframe tbody tr th:only-of-type {\n",
              "        vertical-align: middle;\n",
              "    }\n",
              "\n",
              "    .dataframe tbody tr th {\n",
              "        vertical-align: top;\n",
              "    }\n",
              "\n",
              "    .dataframe thead th {\n",
              "        text-align: right;\n",
              "    }\n",
              "</style>\n",
              "<table border=\"1\" class=\"dataframe\">\n",
              "  <thead>\n",
              "    <tr style=\"text-align: right;\">\n",
              "      <th></th>\n",
              "      <th>count</th>\n",
              "      <th>mean</th>\n",
              "      <th>std</th>\n",
              "      <th>min</th>\n",
              "      <th>25%</th>\n",
              "      <th>50%</th>\n",
              "      <th>75%</th>\n",
              "      <th>max</th>\n",
              "    </tr>\n",
              "  </thead>\n",
              "  <tbody>\n",
              "    <tr>\n",
              "      <th>id</th>\n",
              "      <td>21613.0</td>\n",
              "      <td>4.580302e+09</td>\n",
              "      <td>2.876566e+09</td>\n",
              "      <td>1.000102e+06</td>\n",
              "      <td>2.123049e+09</td>\n",
              "      <td>3.904930e+09</td>\n",
              "      <td>7.308900e+09</td>\n",
              "      <td>9.900000e+09</td>\n",
              "    </tr>\n",
              "    <tr>\n",
              "      <th>price</th>\n",
              "      <td>21613.0</td>\n",
              "      <td>5.400881e+05</td>\n",
              "      <td>3.671272e+05</td>\n",
              "      <td>7.500000e+04</td>\n",
              "      <td>3.219500e+05</td>\n",
              "      <td>4.500000e+05</td>\n",
              "      <td>6.450000e+05</td>\n",
              "      <td>7.700000e+06</td>\n",
              "    </tr>\n",
              "    <tr>\n",
              "      <th>bedrooms</th>\n",
              "      <td>21613.0</td>\n",
              "      <td>3.370842e+00</td>\n",
              "      <td>9.300618e-01</td>\n",
              "      <td>0.000000e+00</td>\n",
              "      <td>3.000000e+00</td>\n",
              "      <td>3.000000e+00</td>\n",
              "      <td>4.000000e+00</td>\n",
              "      <td>3.300000e+01</td>\n",
              "    </tr>\n",
              "    <tr>\n",
              "      <th>bathrooms</th>\n",
              "      <td>21613.0</td>\n",
              "      <td>2.114757e+00</td>\n",
              "      <td>7.701632e-01</td>\n",
              "      <td>0.000000e+00</td>\n",
              "      <td>1.750000e+00</td>\n",
              "      <td>2.250000e+00</td>\n",
              "      <td>2.500000e+00</td>\n",
              "      <td>8.000000e+00</td>\n",
              "    </tr>\n",
              "    <tr>\n",
              "      <th>sqft_living</th>\n",
              "      <td>21613.0</td>\n",
              "      <td>2.079900e+03</td>\n",
              "      <td>9.184409e+02</td>\n",
              "      <td>2.900000e+02</td>\n",
              "      <td>1.427000e+03</td>\n",
              "      <td>1.910000e+03</td>\n",
              "      <td>2.550000e+03</td>\n",
              "      <td>1.354000e+04</td>\n",
              "    </tr>\n",
              "    <tr>\n",
              "      <th>sqft_lot</th>\n",
              "      <td>21613.0</td>\n",
              "      <td>1.510697e+04</td>\n",
              "      <td>4.142051e+04</td>\n",
              "      <td>5.200000e+02</td>\n",
              "      <td>5.040000e+03</td>\n",
              "      <td>7.618000e+03</td>\n",
              "      <td>1.068800e+04</td>\n",
              "      <td>1.651359e+06</td>\n",
              "    </tr>\n",
              "    <tr>\n",
              "      <th>floors</th>\n",
              "      <td>21613.0</td>\n",
              "      <td>1.494309e+00</td>\n",
              "      <td>5.399889e-01</td>\n",
              "      <td>1.000000e+00</td>\n",
              "      <td>1.000000e+00</td>\n",
              "      <td>1.500000e+00</td>\n",
              "      <td>2.000000e+00</td>\n",
              "      <td>3.500000e+00</td>\n",
              "    </tr>\n",
              "    <tr>\n",
              "      <th>waterfront</th>\n",
              "      <td>21613.0</td>\n",
              "      <td>7.541757e-03</td>\n",
              "      <td>8.651720e-02</td>\n",
              "      <td>0.000000e+00</td>\n",
              "      <td>0.000000e+00</td>\n",
              "      <td>0.000000e+00</td>\n",
              "      <td>0.000000e+00</td>\n",
              "      <td>1.000000e+00</td>\n",
              "    </tr>\n",
              "    <tr>\n",
              "      <th>view</th>\n",
              "      <td>21613.0</td>\n",
              "      <td>2.343034e-01</td>\n",
              "      <td>7.663176e-01</td>\n",
              "      <td>0.000000e+00</td>\n",
              "      <td>0.000000e+00</td>\n",
              "      <td>0.000000e+00</td>\n",
              "      <td>0.000000e+00</td>\n",
              "      <td>4.000000e+00</td>\n",
              "    </tr>\n",
              "    <tr>\n",
              "      <th>condition</th>\n",
              "      <td>21613.0</td>\n",
              "      <td>3.409430e+00</td>\n",
              "      <td>6.507430e-01</td>\n",
              "      <td>1.000000e+00</td>\n",
              "      <td>3.000000e+00</td>\n",
              "      <td>3.000000e+00</td>\n",
              "      <td>4.000000e+00</td>\n",
              "      <td>5.000000e+00</td>\n",
              "    </tr>\n",
              "    <tr>\n",
              "      <th>grade</th>\n",
              "      <td>21613.0</td>\n",
              "      <td>7.656873e+00</td>\n",
              "      <td>1.175459e+00</td>\n",
              "      <td>1.000000e+00</td>\n",
              "      <td>7.000000e+00</td>\n",
              "      <td>7.000000e+00</td>\n",
              "      <td>8.000000e+00</td>\n",
              "      <td>1.300000e+01</td>\n",
              "    </tr>\n",
              "    <tr>\n",
              "      <th>sqft_above</th>\n",
              "      <td>21613.0</td>\n",
              "      <td>1.788391e+03</td>\n",
              "      <td>8.280910e+02</td>\n",
              "      <td>2.900000e+02</td>\n",
              "      <td>1.190000e+03</td>\n",
              "      <td>1.560000e+03</td>\n",
              "      <td>2.210000e+03</td>\n",
              "      <td>9.410000e+03</td>\n",
              "    </tr>\n",
              "    <tr>\n",
              "      <th>sqft_basement</th>\n",
              "      <td>21613.0</td>\n",
              "      <td>2.915090e+02</td>\n",
              "      <td>4.425750e+02</td>\n",
              "      <td>0.000000e+00</td>\n",
              "      <td>0.000000e+00</td>\n",
              "      <td>0.000000e+00</td>\n",
              "      <td>5.600000e+02</td>\n",
              "      <td>4.820000e+03</td>\n",
              "    </tr>\n",
              "    <tr>\n",
              "      <th>yr_built</th>\n",
              "      <td>21613.0</td>\n",
              "      <td>1.971005e+03</td>\n",
              "      <td>2.937341e+01</td>\n",
              "      <td>1.900000e+03</td>\n",
              "      <td>1.951000e+03</td>\n",
              "      <td>1.975000e+03</td>\n",
              "      <td>1.997000e+03</td>\n",
              "      <td>2.015000e+03</td>\n",
              "    </tr>\n",
              "    <tr>\n",
              "      <th>yr_renovated</th>\n",
              "      <td>21613.0</td>\n",
              "      <td>8.440226e+01</td>\n",
              "      <td>4.016792e+02</td>\n",
              "      <td>0.000000e+00</td>\n",
              "      <td>0.000000e+00</td>\n",
              "      <td>0.000000e+00</td>\n",
              "      <td>0.000000e+00</td>\n",
              "      <td>2.015000e+03</td>\n",
              "    </tr>\n",
              "    <tr>\n",
              "      <th>zipcode</th>\n",
              "      <td>21613.0</td>\n",
              "      <td>9.807794e+04</td>\n",
              "      <td>5.350503e+01</td>\n",
              "      <td>9.800100e+04</td>\n",
              "      <td>9.803300e+04</td>\n",
              "      <td>9.806500e+04</td>\n",
              "      <td>9.811800e+04</td>\n",
              "      <td>9.819900e+04</td>\n",
              "    </tr>\n",
              "    <tr>\n",
              "      <th>lat</th>\n",
              "      <td>21613.0</td>\n",
              "      <td>4.756005e+01</td>\n",
              "      <td>1.385637e-01</td>\n",
              "      <td>4.715590e+01</td>\n",
              "      <td>4.747100e+01</td>\n",
              "      <td>4.757180e+01</td>\n",
              "      <td>4.767800e+01</td>\n",
              "      <td>4.777760e+01</td>\n",
              "    </tr>\n",
              "    <tr>\n",
              "      <th>long</th>\n",
              "      <td>21613.0</td>\n",
              "      <td>-1.222139e+02</td>\n",
              "      <td>1.408283e-01</td>\n",
              "      <td>-1.225190e+02</td>\n",
              "      <td>-1.223280e+02</td>\n",
              "      <td>-1.222300e+02</td>\n",
              "      <td>-1.221250e+02</td>\n",
              "      <td>-1.213150e+02</td>\n",
              "    </tr>\n",
              "    <tr>\n",
              "      <th>sqft_living15</th>\n",
              "      <td>21613.0</td>\n",
              "      <td>1.986552e+03</td>\n",
              "      <td>6.853913e+02</td>\n",
              "      <td>3.990000e+02</td>\n",
              "      <td>1.490000e+03</td>\n",
              "      <td>1.840000e+03</td>\n",
              "      <td>2.360000e+03</td>\n",
              "      <td>6.210000e+03</td>\n",
              "    </tr>\n",
              "    <tr>\n",
              "      <th>sqft_lot15</th>\n",
              "      <td>21613.0</td>\n",
              "      <td>1.276846e+04</td>\n",
              "      <td>2.730418e+04</td>\n",
              "      <td>6.510000e+02</td>\n",
              "      <td>5.100000e+03</td>\n",
              "      <td>7.620000e+03</td>\n",
              "      <td>1.008300e+04</td>\n",
              "      <td>8.712000e+05</td>\n",
              "    </tr>\n",
              "  </tbody>\n",
              "</table>\n",
              "</div>\n",
              "      <button class=\"colab-df-convert\" onclick=\"convertToInteractive('df-92eb182d-99ec-4927-b5b9-64718db73f5b')\"\n",
              "              title=\"Convert this dataframe to an interactive table.\"\n",
              "              style=\"display:none;\">\n",
              "        \n",
              "  <svg xmlns=\"http://www.w3.org/2000/svg\" height=\"24px\"viewBox=\"0 0 24 24\"\n",
              "       width=\"24px\">\n",
              "    <path d=\"M0 0h24v24H0V0z\" fill=\"none\"/>\n",
              "    <path d=\"M18.56 5.44l.94 2.06.94-2.06 2.06-.94-2.06-.94-.94-2.06-.94 2.06-2.06.94zm-11 1L8.5 8.5l.94-2.06 2.06-.94-2.06-.94L8.5 2.5l-.94 2.06-2.06.94zm10 10l.94 2.06.94-2.06 2.06-.94-2.06-.94-.94-2.06-.94 2.06-2.06.94z\"/><path d=\"M17.41 7.96l-1.37-1.37c-.4-.4-.92-.59-1.43-.59-.52 0-1.04.2-1.43.59L10.3 9.45l-7.72 7.72c-.78.78-.78 2.05 0 2.83L4 21.41c.39.39.9.59 1.41.59.51 0 1.02-.2 1.41-.59l7.78-7.78 2.81-2.81c.8-.78.8-2.07 0-2.86zM5.41 20L4 18.59l7.72-7.72 1.47 1.35L5.41 20z\"/>\n",
              "  </svg>\n",
              "      </button>\n",
              "      \n",
              "  <style>\n",
              "    .colab-df-container {\n",
              "      display:flex;\n",
              "      flex-wrap:wrap;\n",
              "      gap: 12px;\n",
              "    }\n",
              "\n",
              "    .colab-df-convert {\n",
              "      background-color: #E8F0FE;\n",
              "      border: none;\n",
              "      border-radius: 50%;\n",
              "      cursor: pointer;\n",
              "      display: none;\n",
              "      fill: #1967D2;\n",
              "      height: 32px;\n",
              "      padding: 0 0 0 0;\n",
              "      width: 32px;\n",
              "    }\n",
              "\n",
              "    .colab-df-convert:hover {\n",
              "      background-color: #E2EBFA;\n",
              "      box-shadow: 0px 1px 2px rgba(60, 64, 67, 0.3), 0px 1px 3px 1px rgba(60, 64, 67, 0.15);\n",
              "      fill: #174EA6;\n",
              "    }\n",
              "\n",
              "    [theme=dark] .colab-df-convert {\n",
              "      background-color: #3B4455;\n",
              "      fill: #D2E3FC;\n",
              "    }\n",
              "\n",
              "    [theme=dark] .colab-df-convert:hover {\n",
              "      background-color: #434B5C;\n",
              "      box-shadow: 0px 1px 3px 1px rgba(0, 0, 0, 0.15);\n",
              "      filter: drop-shadow(0px 1px 2px rgba(0, 0, 0, 0.3));\n",
              "      fill: #FFFFFF;\n",
              "    }\n",
              "  </style>\n",
              "\n",
              "      <script>\n",
              "        const buttonEl =\n",
              "          document.querySelector('#df-92eb182d-99ec-4927-b5b9-64718db73f5b button.colab-df-convert');\n",
              "        buttonEl.style.display =\n",
              "          google.colab.kernel.accessAllowed ? 'block' : 'none';\n",
              "\n",
              "        async function convertToInteractive(key) {\n",
              "          const element = document.querySelector('#df-92eb182d-99ec-4927-b5b9-64718db73f5b');\n",
              "          const dataTable =\n",
              "            await google.colab.kernel.invokeFunction('convertToInteractive',\n",
              "                                                     [key], {});\n",
              "          if (!dataTable) return;\n",
              "\n",
              "          const docLinkHtml = 'Like what you see? Visit the ' +\n",
              "            '<a target=\"_blank\" href=https://colab.research.google.com/notebooks/data_table.ipynb>data table notebook</a>'\n",
              "            + ' to learn more about interactive tables.';\n",
              "          element.innerHTML = '';\n",
              "          dataTable['output_type'] = 'display_data';\n",
              "          await google.colab.output.renderOutput(dataTable, element);\n",
              "          const docLink = document.createElement('div');\n",
              "          docLink.innerHTML = docLinkHtml;\n",
              "          element.appendChild(docLink);\n",
              "        }\n",
              "      </script>\n",
              "    </div>\n",
              "  </div>\n",
              "  "
            ]
          },
          "metadata": {},
          "execution_count": 108
        }
      ]
    },
    {
      "cell_type": "code",
      "source": [
        "df.drop('id', axis = 1, inplace = True)\n",
        "df.drop('date', axis = 1, inplace = True)\n",
        "df.drop('zipcode', axis = 1, inplace = True)\n",
        "df.drop('lat', axis = 1, inplace = True)\n",
        "df.drop('long', axis = 1, inplace = True)\n"
      ],
      "metadata": {
        "id": "p0sPS_0TawX6"
      },
      "execution_count": 109,
      "outputs": []
    },
    {
      "cell_type": "code",
      "source": [
        "plt.figure(figsize=(12,8)) \n",
        "sns.heatmap(df.corr(), annot=True, cmap='Dark2_r', linewidths = 2)\n",
        "plt.show()"
      ],
      "metadata": {
        "colab": {
          "base_uri": "https://localhost:8080/",
          "height": 551
        },
        "id": "XJSDgYzPa1yx",
        "outputId": "a0375161-e690-417f-a22c-a67df61c1e43"
      },
      "execution_count": 110,
      "outputs": [
        {
          "output_type": "display_data",
          "data": {
            "text/plain": [
              "<Figure size 864x576 with 2 Axes>"
            ],
            "image/png": "[encoded data removed]"
          },
          "metadata": {
            "needs_background": "light"
          }
        }
      ]
    },
    {
      "cell_type": "code",
      "source": [
        "columns = df.columns.drop('price')\n",
        "\n",
        "features = columns\n",
        "label = ['price']\n",
        "\n",
        "X = df[features]\n",
        "y = df[label]"
      ],
      "metadata": {
        "id": "PwAbdwDCbB_Q"
      },
      "execution_count": 111,
      "outputs": []
    },
    {
      "cell_type": "code",
      "source": [
        "from sklearn.model_selection import train_test_split\n",
        "X_train, X_test, y_train, y_test = train_test_split(X, y, test_size = 0.2, random_state = 101)\n",
        "\n",
        "print(f'Numero total de registros en la bdd: {len(X)}')\n",
        "print(\"*****\"*10)\n",
        "print(f'Numero total de registros en el training set: {len(X_train)}')\n",
        "print(f'Tamaño de X_train: {X_train.shape}')\n",
        "print(\"*****\"*10)\n",
        "print(f'Mumero total de registros en el test dataset: {len(X_test)}')\n",
        "print(f'Tamaño del X_test: {X_test.shape}')"
      ],
      "metadata": {
        "colab": {
          "base_uri": "https://localhost:8080/"
        },
        "id": "lotc2PrqbEsM",
        "outputId": "9f66d887-3a71-4190-f97a-d23485d1531c"
      },
      "execution_count": 112,
      "outputs": [
        {
          "output_type": "stream",
          "name": "stdout",
          "text": [
            "Numero total de registros en la bdd: 21613\n",
            "**************************************************\n",
            "Numero total de registros en el training set: 17290\n",
            "Tamaño de X_train: (17290, 15)\n",
            "**************************************************\n",
            "Mumero total de registros en el test dataset: 4323\n",
            "Tamaño del X_test: (4323, 15)\n"
          ]
        }
      ]
    },
    {
      "cell_type": "code",
      "source": [
        "#regresion multiple\n",
        "mult_reg = LinearRegression(fit_intercept=True)\n",
        "mult_reg.fit(X_train, y_train)\n",
        "\n",
        "#variables de prueba\n",
        "X_mult_reg = X_test  \n",
        "y_mult_reg = mult_reg.predict(X_mult_reg)"
      ],
      "metadata": {
        "id": "zJxTu-4sgwPI"
      },
      "execution_count": 117,
      "outputs": []
    },
    {
      "cell_type": "code",
      "source": [
        "#ecuacion\n",
        "print(f' y=  {mult_reg.coef_}X + {mult_reg.intercept_}')"
      ],
      "metadata": {
        "colab": {
          "base_uri": "https://localhost:8080/"
        },
        "outputId": "2cdac75b-8113-4ff5-c853-b70e62fc1ba2",
        "id": "32IRfAYHgwPK"
      },
      "execution_count": 128,
      "outputs": [
        {
          "output_type": "stream",
          "name": "stdout",
          "text": [
            " y=  [[-3.71022526e+04  4.01418845e+04  1.09169906e+02  2.64378621e-02\n",
            "   2.95338523e+04  5.52048615e+05  4.22004055e+04  2.21281704e+04\n",
            "   1.21117318e+05  5.02818538e+01  5.88880527e+01 -3.52812693e+03\n",
            "   1.04703799e+01  2.60075557e+01 -5.66471373e-01]]X + [6093360.93532648]\n"
          ]
        }
      ]
    },
    {
      "cell_type": "code",
      "source": [
        "mae_reg_list = []\n",
        "r2_reg_list = []"
      ],
      "metadata": {
        "id": "UE69BbJVf693"
      },
      "execution_count": 113,
      "outputs": []
    },
    {
      "cell_type": "code",
      "source": [
        "def results(y_t, y_pred):\n",
        "  #mae \n",
        "  mae = metrics.mean_absolute_error(y_t,y_pred)\n",
        "  #r2\n",
        "  r2= r2_score(y_t,y_pred)\n",
        "\n",
        "  #Agregamos los valores a nuestras listas\n",
        "  mae_reg_list.append(mae) \n",
        "  r2_reg_list.append(r2)\n",
        "\n",
        "  #Los errores\n",
        "  print('MAE:', mae)\n",
        "  print('RMSE:', np.sqrt(metrics.mean_squared_error(y_t,y_pred)))\n",
        "\n",
        "  #La r cuadrada\n",
        "  print('r2', r2)"
      ],
      "metadata": {
        "id": "FFbQiPkPfXmR"
      },
      "execution_count": 115,
      "outputs": []
    },
    {
      "cell_type": "code",
      "source": [
        "results(y_test, y_mult_reg)"
      ],
      "metadata": {
        "colab": {
          "base_uri": "https://localhost:8080/"
        },
        "id": "svLMDVC-g3Cv",
        "outputId": "71b014bf-2dc4-4227-d6db-a8d333267f12"
      },
      "execution_count": 130,
      "outputs": [
        {
          "output_type": "stream",
          "name": "stdout",
          "text": [
            "MAE: 136332.19435816712\n",
            "RMSE: 213832.57523968935\n",
            "r2 0.6648546558345027\n"
          ]
        }
      ]
    },
    {
      "cell_type": "code",
      "source": [
        "#regresión polinomial\n",
        "poly_reg_mult = PolynomialFeatures(degree=2, include_bias=False)\n",
        "#modelo con datos de train\n",
        "feat = poly_reg_mult.fit_transform(X_train)\n",
        "poly_reg_mult_ = LinearRegression(fit_intercept=True)\n",
        "poly_reg_mult_.fit(feat, y_train)"
      ],
      "metadata": {
        "colab": {
          "base_uri": "https://localhost:8080/"
        },
        "outputId": "4f1aa37c-5a80-4cc8-d922-78466d0186d0",
        "id": "f2oKQSRpbdjB"
      },
      "execution_count": 133,
      "outputs": [
        {
          "output_type": "execute_result",
          "data": {
            "text/plain": [
              "LinearRegression()"
            ]
          },
          "metadata": {},
          "execution_count": 133
        }
      ]
    },
    {
      "cell_type": "code",
      "source": [
        "#fit a datos de prueba\n",
        "X_poly_reg_mult = poly_reg_mult.fit_transform(X_test)  \n",
        "y_poly_reg_mult = poly_reg_mult_.predict(X_poly_reg_mult)\n",
        "print(X_poly_reg_mult.shape)\n",
        "print(y_poly_reg_mult.shape)"
      ],
      "metadata": {
        "colab": {
          "base_uri": "https://localhost:8080/"
        },
        "outputId": "166c5a1a-d664-4a99-a54d-bf3c219c3f14",
        "id": "Q5rwVDP4bdjD"
      },
      "execution_count": 134,
      "outputs": [
        {
          "output_type": "stream",
          "name": "stdout",
          "text": [
            "(4323, 135)\n",
            "(4323, 1)\n"
          ]
        }
      ]
    },
    {
      "cell_type": "code",
      "source": [
        "#ecuacion\n",
        "print(f' y=  {poly_reg_mult_.coef_[0,1]} X^2 + {poly_reg_mult_.coef_[0,0]} X + {poly_reg_mult_.intercept_[0]}')"
      ],
      "metadata": {
        "colab": {
          "base_uri": "https://localhost:8080/"
        },
        "outputId": "cc907174-e427-4a26-d400-4bad84c83430",
        "id": "RGRA7Bz0bseh"
      },
      "execution_count": 135,
      "outputs": [
        {
          "output_type": "stream",
          "name": "stdout",
          "text": [
            " y=  -1174569.931612415 X^2 + 1015366.0084567207 X + 80866361.84177916\n"
          ]
        }
      ]
    },
    {
      "cell_type": "code",
      "source": [
        "results(y_test, y_poly_reg_mult)"
      ],
      "metadata": {
        "colab": {
          "base_uri": "https://localhost:8080/"
        },
        "id": "a7vDbTCZiCHH",
        "outputId": "fd704303-8a4b-46f4-c419-985397bc500f"
      },
      "execution_count": 136,
      "outputs": [
        {
          "output_type": "stream",
          "name": "stdout",
          "text": [
            "MAE: 122014.44620440701\n",
            "RMSE: 181467.03034941733\n",
            "r2 0.7586313161250828\n"
          ]
        }
      ]
    },
    {
      "cell_type": "code",
      "source": [
        "#Ridge\n",
        "ridge = Ridge(alpha=5.0, fit_intercept=True)\n",
        "#fit en variables train\n",
        "ridge.fit(X_train, y_train)\n",
        "X_ridge = X_test\n",
        "y_ridge = ridge.predict(X_ridge)"
      ],
      "metadata": {
        "id": "mxiaoC5ofNmg"
      },
      "execution_count": 137,
      "outputs": []
    },
    {
      "cell_type": "code",
      "source": [
        "#ecuacion\n",
        "print(f' y=  {ridge.coef_[0,0]} X + {ridge.intercept_[0]}')"
      ],
      "metadata": {
        "colab": {
          "base_uri": "https://localhost:8080/"
        },
        "outputId": "483e67c1-347a-4591-e5de-a9fad75870fc",
        "id": "zIeqUfDtfNmi"
      },
      "execution_count": 138,
      "outputs": [
        {
          "output_type": "stream",
          "name": "stdout",
          "text": [
            " y=  -37197.329079702984 X + 6090396.451460129\n"
          ]
        }
      ]
    },
    {
      "cell_type": "code",
      "source": [
        "results(y_test, y_ridge)"
      ],
      "metadata": {
        "colab": {
          "base_uri": "https://localhost:8080/"
        },
        "id": "yD7DqT4_fy15",
        "outputId": "596c2580-43ba-4d00-f9e9-888adf154b37"
      },
      "execution_count": 139,
      "outputs": [
        {
          "output_type": "stream",
          "name": "stdout",
          "text": [
            "MAE: 136362.00858177908\n",
            "RMSE: 213932.73613047396\n",
            "r2 0.6645406127749438\n"
          ]
        }
      ]
    },
    {
      "cell_type": "code",
      "source": [
        "#Lasso\n",
        "lasso = Lasso(alpha=0.001, fit_intercept=True)\n",
        "lasso.fit(X_train, y_train)\n",
        "X_lasso = X_test\n",
        "y_lasso = lasso.predict(X_lasso)"
      ],
      "metadata": {
        "colab": {
          "base_uri": "https://localhost:8080/"
        },
        "outputId": "ff689f29-0a13-4433-e128-ba30e9c85406",
        "id": "KACXWp7wgTi4"
      },
      "execution_count": 140,
      "outputs": [
        {
          "output_type": "stream",
          "name": "stderr",
          "text": [
            "/usr/local/lib/python3.7/dist-packages/sklearn/linear_model/_coordinate_descent.py:648: ConvergenceWarning: Objective did not converge. You might want to increase the number of iterations, check the scale of the features or consider increasing regularisation. Duality gap: 3.682e+14, tolerance: 2.323e+11\n",
            "  coef_, l1_reg, l2_reg, X, y, max_iter, tol, rng, random, positive\n"
          ]
        }
      ]
    },
    {
      "cell_type": "code",
      "source": [
        "#ecuación\n",
        "print(f' y=  {lasso.coef_[0]} X + {lasso.intercept_[0]}')"
      ],
      "metadata": {
        "colab": {
          "base_uri": "https://localhost:8080/"
        },
        "outputId": "63ae42c1-e06f-46a5-ac57-7074892407f8",
        "id": "QsPPYhPTgTi5"
      },
      "execution_count": 141,
      "outputs": [
        {
          "output_type": "stream",
          "name": "stdout",
          "text": [
            " y=  -37102.25131974928 X + 6093360.86011946\n"
          ]
        }
      ]
    },
    {
      "cell_type": "code",
      "source": [
        "results(y_test, y_lasso)"
      ],
      "metadata": {
        "colab": {
          "base_uri": "https://localhost:8080/"
        },
        "id": "OnYn6irEgZMM",
        "outputId": "e376602e-d316-455a-8fdb-1a8167ec3125"
      },
      "execution_count": 142,
      "outputs": [
        {
          "output_type": "stream",
          "name": "stdout",
          "text": [
            "MAE: 136332.19458947494\n",
            "RMSE: 213832.575898935\n",
            "r2 0.664854653767997\n"
          ]
        }
      ]
    },
    {
      "cell_type": "code",
      "source": [
        "mae_reg_list\n",
        "r2_reg_list"
      ],
      "metadata": {
        "colab": {
          "base_uri": "https://localhost:8080/"
        },
        "id": "fESElPaCh3_5",
        "outputId": "91ed0e41-2699-4115-99b6-b1d268637e2b"
      },
      "execution_count": 143,
      "outputs": [
        {
          "output_type": "execute_result",
          "data": {
            "text/plain": [
              "[0.6648546558345027, 0.7586313161250828, 0.6645406127749438, 0.664854653767997]"
            ]
          },
          "metadata": {},
          "execution_count": 143
        }
      ]
    },
    {
      "cell_type": "code",
      "source": [
        "#mae grafica\n",
        "names=list()\n",
        "names.append('Reg simple')\n",
        "names.append('Reg polinomial')\n",
        "names.append('Ridge')\n",
        "names.append('Lasso')\n",
        "\n",
        "plt.bar(names, mae_reg_list)\n",
        "plt.show()"
      ],
      "metadata": {
        "colab": {
          "base_uri": "https://localhost:8080/",
          "height": 265
        },
        "id": "8au_jOqojU19",
        "outputId": "d5db649b-9094-4646-9055-b88ff4681667"
      },
      "execution_count": 146,
      "outputs": [
        {
          "output_type": "display_data",
          "data": {
            "text/plain": [
              "<Figure size 432x288 with 1 Axes>"
            ],
            "image/png": "[encoded data removed]"
          },
          "metadata": {
            "needs_background": "light"
          }
        }
      ]
    },
    {
      "cell_type": "code",
      "source": [
        "#r2 grafica\n",
        "namesr2=list()\n",
        "namesr2.append('Reg Simple')\n",
        "namesr2.append('Reg Polinomial')\n",
        "namesr2.append('Ridge')\n",
        "namesr2.append('Lasso')\n",
        "\n",
        "plt.bar(namesr2, r2_reg_list)\n",
        "plt.show()\n"
      ],
      "metadata": {
        "colab": {
          "base_uri": "https://localhost:8080/",
          "height": 265
        },
        "id": "1Af5agmehefU",
        "outputId": "fda28842-8b23-48c4-f78f-5c0f90458a07"
      },
      "execution_count": 147,
      "outputs": [
        {
          "output_type": "display_data",
          "data": {
            "text/plain": [
              "<Figure size 432x288 with 1 Axes>"
            ],
            "image/png": "[encoded data removed]"
          },
          "metadata": {
            "needs_background": "light"
          }
        }
      ]
    },
    {
      "cell_type": "markdown",
      "source": [
        "\n",
        "**¿Qué método conviene más a la empresa?, ¿por qué?**\n",
        "\n",
        "En mi opinión sería regresión polinomial, ya que es más preciso, también tiene un valor r2 de 0.75, mientras los demás tienen un aproximado de 0.65.\n",
        "\n",
        "**¿Qué porcentajes de entrenamiento y evaluación usaste?**\n",
        "\n",
        "Utilice 80% de entrenamiento y 20% de evaluación para evitar el sobreajuste y comprobar la eficiencia del modelo generado con una mayor cantidad de datos.\n",
        "\n",
        "**¿Qué error tienes?, ¿es bueno?, ¿cómo lo sabes?**\n",
        "\n",
        "Podemos notar en los resultados de nuestro modelo de regresión lineal polinomial, que el MAE es menor al RMSE ya que es menos sensible a los valores atípicos, estos valores son bastantes altos lo cuál podría indicar que se necesita un ajuste, aunque considerando el resultado de r2 podría decirse que el modelo no necesitaría ajustes tan drásticos. \n",
        "\n",
        "- MAE: 122014.44\n",
        "\n",
        "\n",
        "- RMSE: 181467.03\n",
        "\n",
        "\n",
        "- r2: 0.7097 \n"
      ],
      "metadata": {
        "id": "wv5fEuwrxwoZ"
      }
    }
  ]
}
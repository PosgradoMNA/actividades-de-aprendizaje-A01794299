{
  "nbformat": 4,
  "nbformat_minor": 0,
  "metadata": {
    "colab": {
      "provenance": [],
      "authorship_tag": "ABX9TyNPrfYOpCVdj05mJgCPUxfA",
      "include_colab_link": true
    },
    "kernelspec": {
      "name": "python3",
      "display_name": "Python 3"
    },
    "language_info": {
      "name": "python"
    }
  },
  "cells": [
    {
      "cell_type": "markdown",
      "metadata": {
        "id": "view-in-github",
        "colab_type": "text"
      },
      "source": [
        "<a href=\"https://colab.research.google.com/github/PosgradoMNA/actividades-de-aprendizaje-A01794299/blob/main/Semana_1_Actividad_2_Python_for_Data_Science_(IBM).ipynb\" target=\"_parent\"><img src=\"https://colab.research.google.com/assets/colab-badge.svg\" alt=\"Open In Colab\"/></a>"
      ]
    },
    {
      "cell_type": "markdown",
      "source": [
        "# **¿Qué es Python?**\n",
        "Es un lenguaje de programación de propósito general, pero viene con miles de bibliotecas para trabajar con datos. El poder y la flexibilidad con miles de bibliotecas hicieron de Python el lenguaje elegido por científicos de datos, ingenieros de datos, analistas de datos e investigadores de IA en empresas líderes y nuevas empresas por igual."
      ],
      "metadata": {
        "id": "GnWmeD-FyWck"
      }
    },
    {
      "cell_type": "markdown",
      "source": [
        "\n",
        "# **Tu primer programa** "
      ],
      "metadata": {
        "id": "IcnKBt7CzqUk"
      }
    },
    {
      "cell_type": "code",
      "source": [
        "#versión de python\n",
        "import sys\n",
        "print(sys.version)"
      ],
      "metadata": {
        "colab": {
          "base_uri": "https://localhost:8080/"
        },
        "id": "WXfF3hbAAxlk",
        "outputId": "7c7207f2-64d8-47ab-dd74-b439f7ad8d2d"
      },
      "execution_count": null,
      "outputs": [
        {
          "output_type": "stream",
          "name": "stdout",
          "text": [
            "3.7.14 (default, Sep  8 2022, 00:06:44) \n",
            "[GCC 7.5.0]\n"
          ]
        }
      ]
    },
    {
      "cell_type": "code",
      "source": [
        "#se agrega un símbolo de gato para agregar comentarios, estos no aparecerán en el tiempo de ejecución\n",
        "print(\"Hello Python 101\")"
      ],
      "metadata": {
        "colab": {
          "base_uri": "https://localhost:8080/"
        },
        "id": "MMB1WpkxzTtc",
        "outputId": "f159a4cd-937d-4bbb-b76b-0e6e57e0b8ee"
      },
      "execution_count": null,
      "outputs": [
        {
          "output_type": "stream",
          "name": "stdout",
          "text": [
            "Hello Python 101\n"
          ]
        }
      ]
    },
    {
      "cell_type": "code",
      "source": [
        "#una mala sintaxis imprimirá un error de consola:\n",
        "#python es un lenguaje interpretado, interpreta el script línea por línea conforme se ejecuta\n",
        "frint(\"Hello Python 101\")"
      ],
      "metadata": {
        "colab": {
          "base_uri": "https://localhost:8080/",
          "height": 182
        },
        "id": "ymKhXbkDz-zt",
        "outputId": "047f23ab-6259-4e7c-a9d4-10f0fc8ed2f0"
      },
      "execution_count": null,
      "outputs": [
        {
          "output_type": "error",
          "ename": "NameError",
          "evalue": "ignored",
          "traceback": [
            "\u001b[0;31m---------------------------------------------------------------------------\u001b[0m",
            "\u001b[0;31mNameError\u001b[0m                                 Traceback (most recent call last)",
            "\u001b[0;32m<ipython-input-6-7180a8a7dc35>\u001b[0m in \u001b[0;36m<module>\u001b[0;34m\u001b[0m\n\u001b[1;32m      1\u001b[0m \u001b[0;31m#una mala sintaxis imprimirá un error de consola:\u001b[0m\u001b[0;34m\u001b[0m\u001b[0;34m\u001b[0m\u001b[0;34m\u001b[0m\u001b[0m\n\u001b[0;32m----> 2\u001b[0;31m \u001b[0mfrint\u001b[0m\u001b[0;34m(\u001b[0m\u001b[0;34m\"Hello Python 101\"\u001b[0m\u001b[0;34m)\u001b[0m\u001b[0;34m\u001b[0m\u001b[0;34m\u001b[0m\u001b[0m\n\u001b[0m",
            "\u001b[0;31mNameError\u001b[0m: name 'frint' is not defined"
          ]
        }
      ]
    },
    {
      "cell_type": "code",
      "source": [
        "#¿Cuál será el resultado de la siguiente línea?\n",
        "print(\"Hello\\nWorld!\")\n",
        "#Se producirá un salto de línea con el \\n\n",
        "\n",
        "#¿Cual será el resultado de la siguiente línea?\n",
        "# print('Hello World!')\n",
        "#Se genera un comentario, por lo que no hay output"
      ],
      "metadata": {
        "colab": {
          "base_uri": "https://localhost:8080/"
        },
        "id": "VXMLReCG0VGM",
        "outputId": "b483b853-3e7e-45d5-f6ab-7591781a03a3"
      },
      "execution_count": null,
      "outputs": [
        {
          "output_type": "stream",
          "name": "stdout",
          "text": [
            "Hello\n",
            "World!\n"
          ]
        }
      ]
    },
    {
      "cell_type": "markdown",
      "source": [
        "# **Tipos de datos**\n",
        "\n",
        "Python es un lenguaje orientado a objetos, algunos de los tipos de objetos son:\n",
        "\n",
        "1.   int: números enteros positivos o negativos\n",
        "2.   float: números con decimales\n",
        "\n",
        "1.   str: cadena de string\n",
        "2.   bool: True o False\n",
        "\n",
        "# **Type casting**\n",
        "Convertir un dato a otro tipo de dato\n",
        "\n",
        "\n"
      ],
      "metadata": {
        "id": "-bALVaut1V9b"
      }
    },
    {
      "cell_type": "code",
      "source": [
        "#configuraciones de los float\n",
        "sys.float_info"
      ],
      "metadata": {
        "colab": {
          "base_uri": "https://localhost:8080/"
        },
        "id": "WutpkdNgCBWg",
        "outputId": "0f33b64c-168c-4a76-a86d-9b40877559b3"
      },
      "execution_count": null,
      "outputs": [
        {
          "output_type": "execute_result",
          "data": {
            "text/plain": [
              "sys.float_info(max=1.7976931348623157e+308, max_exp=1024, max_10_exp=308, min=2.2250738585072014e-308, min_exp=-1021, min_10_exp=-307, dig=15, mant_dig=53, epsilon=2.220446049250313e-16, radix=2, rounds=1)"
            ]
          },
          "metadata": {},
          "execution_count": 44
        }
      ]
    },
    {
      "cell_type": "code",
      "source": [
        "float(2.0)"
      ],
      "metadata": {
        "colab": {
          "base_uri": "https://localhost:8080/"
        },
        "id": "t-0nWq6-2WVD",
        "outputId": "0d414c2f-fb2c-4fe3-e0b7-74f5edb4a732"
      },
      "execution_count": null,
      "outputs": [
        {
          "output_type": "execute_result",
          "data": {
            "text/plain": [
              "2.0"
            ]
          },
          "metadata": {},
          "execution_count": 16
        }
      ]
    },
    {
      "cell_type": "code",
      "source": [
        "int(1.1)"
      ],
      "metadata": {
        "colab": {
          "base_uri": "https://localhost:8080/"
        },
        "id": "USyXrK6Q23jU",
        "outputId": "89fe5d36-8125-4084-c819-c05c697240b5"
      },
      "execution_count": null,
      "outputs": [
        {
          "output_type": "execute_result",
          "data": {
            "text/plain": [
              "1"
            ]
          },
          "metadata": {},
          "execution_count": 17
        }
      ]
    },
    {
      "cell_type": "code",
      "source": [
        "int('1')"
      ],
      "metadata": {
        "colab": {
          "base_uri": "https://localhost:8080/"
        },
        "id": "RJt1nRge25DD",
        "outputId": "ffebcd45-59c3-4348-aaad-3eb7dada7b28"
      },
      "execution_count": null,
      "outputs": [
        {
          "output_type": "execute_result",
          "data": {
            "text/plain": [
              "1"
            ]
          },
          "metadata": {},
          "execution_count": 18
        }
      ]
    },
    {
      "cell_type": "code",
      "source": [
        "int('A')"
      ],
      "metadata": {
        "colab": {
          "base_uri": "https://localhost:8080/",
          "height": 165
        },
        "id": "tY_D_ZB127k7",
        "outputId": "8bdeb084-5652-47d6-d938-909b93f9c75a"
      },
      "execution_count": null,
      "outputs": [
        {
          "output_type": "error",
          "ename": "ValueError",
          "evalue": "ignored",
          "traceback": [
            "\u001b[0;31m---------------------------------------------------------------------------\u001b[0m",
            "\u001b[0;31mValueError\u001b[0m                                Traceback (most recent call last)",
            "\u001b[0;32m<ipython-input-19-58e5992d18f7>\u001b[0m in \u001b[0;36m<module>\u001b[0;34m\u001b[0m\n\u001b[0;32m----> 1\u001b[0;31m \u001b[0mint\u001b[0m\u001b[0;34m(\u001b[0m\u001b[0;34m'A'\u001b[0m\u001b[0;34m)\u001b[0m\u001b[0;34m\u001b[0m\u001b[0;34m\u001b[0m\u001b[0m\n\u001b[0m",
            "\u001b[0;31mValueError\u001b[0m: invalid literal for int() with base 10: 'A'"
          ]
        }
      ]
    },
    {
      "cell_type": "code",
      "source": [
        "str(1)"
      ],
      "metadata": {
        "colab": {
          "base_uri": "https://localhost:8080/",
          "height": 36
        },
        "id": "6ldvlO_q3CR1",
        "outputId": "6ff9b0c7-87c9-4f25-e156-4a7f47f160a3"
      },
      "execution_count": null,
      "outputs": [
        {
          "output_type": "execute_result",
          "data": {
            "text/plain": [
              "'1'"
            ],
            "application/vnd.google.colaboratory.intrinsic+json": {
              "type": "string"
            }
          },
          "metadata": {},
          "execution_count": 20
        }
      ]
    },
    {
      "cell_type": "code",
      "source": [
        "str(4.5)"
      ],
      "metadata": {
        "colab": {
          "base_uri": "https://localhost:8080/",
          "height": 36
        },
        "id": "9YELmoKr3EWb",
        "outputId": "3f968829-a255-4d88-dcfc-3505bb74f186"
      },
      "execution_count": null,
      "outputs": [
        {
          "output_type": "execute_result",
          "data": {
            "text/plain": [
              "'4.5'"
            ],
            "application/vnd.google.colaboratory.intrinsic+json": {
              "type": "string"
            }
          },
          "metadata": {},
          "execution_count": 21
        }
      ]
    },
    {
      "cell_type": "code",
      "source": [
        "#tipo de dato\n",
        "type(True)"
      ],
      "metadata": {
        "colab": {
          "base_uri": "https://localhost:8080/"
        },
        "id": "zT_tHlL93IpD",
        "outputId": "685e7ac2-8116-4a9b-8ff7-21b886578f05"
      },
      "execution_count": null,
      "outputs": [
        {
          "output_type": "execute_result",
          "data": {
            "text/plain": [
              "bool"
            ]
          },
          "metadata": {},
          "execution_count": 22
        }
      ]
    },
    {
      "cell_type": "code",
      "source": [
        "#tipo de dato\n",
        "type(10.5)"
      ],
      "metadata": {
        "colab": {
          "base_uri": "https://localhost:8080/"
        },
        "outputId": "595c629f-52b7-4333-9b02-32a414dd71a6",
        "id": "CZh4C9a14GHw"
      },
      "execution_count": null,
      "outputs": [
        {
          "output_type": "execute_result",
          "data": {
            "text/plain": [
              "float"
            ]
          },
          "metadata": {},
          "execution_count": 25
        }
      ]
    },
    {
      "cell_type": "code",
      "source": [
        "#Si hacemos un cast de un boolean true a un integer o float, obtendremos un 1\n",
        "int(True)"
      ],
      "metadata": {
        "colab": {
          "base_uri": "https://localhost:8080/"
        },
        "id": "TACsVF5g3a3C",
        "outputId": "5d44f72a-1c99-4edf-9dba-c6f1fb6b5907"
      },
      "execution_count": null,
      "outputs": [
        {
          "output_type": "execute_result",
          "data": {
            "text/plain": [
              "1"
            ]
          },
          "metadata": {},
          "execution_count": 23
        }
      ]
    },
    {
      "cell_type": "code",
      "source": [
        "#Si hacemos un cast de un boolean false a un integer o float, obtendremos un 0\n",
        "int(False)"
      ],
      "metadata": {
        "colab": {
          "base_uri": "https://localhost:8080/"
        },
        "outputId": "c4e91655-6166-45ce-92f2-e99547821411",
        "id": "wJAKKBF439rJ"
      },
      "execution_count": null,
      "outputs": [
        {
          "output_type": "execute_result",
          "data": {
            "text/plain": [
              "0"
            ]
          },
          "metadata": {},
          "execution_count": 24
        }
      ]
    },
    {
      "cell_type": "code",
      "source": [
        "#ingresa el codigo para convertir el número 1 a boolean\n",
        "bool(1)"
      ],
      "metadata": {
        "colab": {
          "base_uri": "https://localhost:8080/"
        },
        "id": "ePZ5xvui4hvM",
        "outputId": "36418d6e-add3-4af6-d4ee-a5c5d84656ba"
      },
      "execution_count": null,
      "outputs": [
        {
          "output_type": "execute_result",
          "data": {
            "text/plain": [
              "True"
            ]
          },
          "metadata": {},
          "execution_count": 26
        }
      ]
    },
    {
      "cell_type": "markdown",
      "source": [
        "# **Expresiones**\n",
        "Las expresiones describen un tipo de operación que ejecuta python, por ejemplo operaciones aritméticas básicas como sumar varios números.\n",
        "Llamamos a los números operandos y a los símbolos operadores.\n",
        "\n",
        "**Operadores**\n",
        "\n",
        "**+** suma, **-** resta, **asterísco** multiplicación, **/** división, **//** división con resultado redondeado\n",
        "\n",
        "Python sigue las jerarquías de operaciones al ejecutar expresiones matemáticas"
      ],
      "metadata": {
        "id": "gWM6gC0t44mE"
      }
    },
    {
      "cell_type": "code",
      "source": [
        "2*60+30"
      ],
      "metadata": {
        "colab": {
          "base_uri": "https://localhost:8080/"
        },
        "id": "MKHOrjoG77cj",
        "outputId": "ed8a64b9-65e1-4ee5-a627-48b2b1043404"
      },
      "execution_count": null,
      "outputs": [
        {
          "output_type": "execute_result",
          "data": {
            "text/plain": [
              "150"
            ]
          },
          "metadata": {},
          "execution_count": 27
        }
      ]
    },
    {
      "cell_type": "code",
      "source": [
        "#aunque se utilice un orden diferente, python ejecuta las operaciones en el mismo orden, primero multiplicación y luego suma\n",
        "30+2*60"
      ],
      "metadata": {
        "colab": {
          "base_uri": "https://localhost:8080/"
        },
        "id": "KnPK0_Zx7_Hq",
        "outputId": "718c2c17-5af7-4748-8234-a84e9a99d6d2"
      },
      "execution_count": null,
      "outputs": [
        {
          "output_type": "execute_result",
          "data": {
            "text/plain": [
              "150"
            ]
          },
          "metadata": {},
          "execution_count": 28
        }
      ]
    },
    {
      "cell_type": "code",
      "source": [
        "#las operaciones dentro de paréntesis se ejecutan primero\n",
        "(30+2)*60"
      ],
      "metadata": {
        "colab": {
          "base_uri": "https://localhost:8080/"
        },
        "id": "h9zx-6Kq8RU9",
        "outputId": "84fbbbd4-2219-4e53-9bb0-90651250cecd"
      },
      "execution_count": null,
      "outputs": [
        {
          "output_type": "execute_result",
          "data": {
            "text/plain": [
              "1920"
            ]
          },
          "metadata": {},
          "execution_count": 29
        }
      ]
    },
    {
      "cell_type": "markdown",
      "source": [
        "# **Variables**\n",
        "Se utilizan para almacenar valores\n"
      ],
      "metadata": {
        "id": "nBhBW3SD8jep"
      }
    },
    {
      "cell_type": "code",
      "source": [
        "variable=1\n",
        "#imprime 1\n",
        "variable\n",
        "variable=10\n",
        "#imprime 10\n",
        "variable"
      ],
      "metadata": {
        "colab": {
          "base_uri": "https://localhost:8080/"
        },
        "id": "_J1VvGCL9EjY",
        "outputId": "42da0852-4806-44e5-df4b-ba39d2ae9861"
      },
      "execution_count": null,
      "outputs": [
        {
          "output_type": "execute_result",
          "data": {
            "text/plain": [
              "10"
            ]
          },
          "metadata": {},
          "execution_count": 36
        }
      ]
    },
    {
      "cell_type": "code",
      "source": [
        "x= 43+60+16+41\n",
        "x\n",
        "#operaciones con variables\n",
        "y=x/60\n",
        "y\n",
        "x=x/60\n",
        "x\n",
        "#se puede saber el tipo de valor de variables\n",
        "type(x)"
      ],
      "metadata": {
        "colab": {
          "base_uri": "https://localhost:8080/"
        },
        "id": "E8jm6zs6_tBr",
        "outputId": "db869d04-ad40-4e6f-82ce-5edc98141579"
      },
      "execution_count": null,
      "outputs": [
        {
          "output_type": "execute_result",
          "data": {
            "text/plain": [
              "float"
            ]
          },
          "metadata": {},
          "execution_count": 42
        }
      ]
    },
    {
      "cell_type": "markdown",
      "source": [
        "# **Operaciones de strings**"
      ],
      "metadata": {
        "id": "_O8mQ5X3D-Eg"
      }
    },
    {
      "cell_type": "code",
      "source": [
        "Name=\" Michael Jackson\"\n",
        "#Acceder a un index específico del string\n",
        "Name[0]\n",
        "Name[6]\n",
        "Name[13]\n",
        "#index negativos empiezan del último lugar al primero y empiezan en -1\n",
        "Name[-2]"
      ],
      "metadata": {
        "colab": {
          "base_uri": "https://localhost:8080/",
          "height": 36
        },
        "id": "UgUrFOVkEEsI",
        "outputId": "c78cc01c-3751-4f4f-86f7-947c4759c2c5"
      },
      "execution_count": null,
      "outputs": [
        {
          "output_type": "execute_result",
          "data": {
            "text/plain": [
              "'o'"
            ],
            "application/vnd.google.colaboratory.intrinsic+json": {
              "type": "string"
            }
          },
          "metadata": {},
          "execution_count": 63
        }
      ]
    },
    {
      "cell_type": "markdown",
      "source": [
        "**Slicing**"
      ],
      "metadata": {
        "id": "mb31-tvqEvaP"
      }
    },
    {
      "cell_type": "code",
      "source": [
        "Name[8:12]"
      ],
      "metadata": {
        "colab": {
          "base_uri": "https://localhost:8080/",
          "height": 36
        },
        "id": "K8VJ-NLiE57X",
        "outputId": "020d1282-6d48-414a-f89d-8c8a844fe666"
      },
      "execution_count": null,
      "outputs": [
        {
          "output_type": "execute_result",
          "data": {
            "text/plain": [
              "'Jack'"
            ],
            "application/vnd.google.colaboratory.intrinsic+json": {
              "type": "string"
            }
          },
          "metadata": {},
          "execution_count": 52
        }
      ]
    },
    {
      "cell_type": "code",
      "source": [
        "Name[0:4]"
      ],
      "metadata": {
        "colab": {
          "base_uri": "https://localhost:8080/",
          "height": 36
        },
        "id": "yivd9HFnExg3",
        "outputId": "86883518-0fdd-4bbe-b092-9d490da0922d"
      },
      "execution_count": null,
      "outputs": [
        {
          "output_type": "execute_result",
          "data": {
            "text/plain": [
              "'Mich'"
            ],
            "application/vnd.google.colaboratory.intrinsic+json": {
              "type": "string"
            }
          },
          "metadata": {},
          "execution_count": 51
        }
      ]
    },
    {
      "cell_type": "markdown",
      "source": [
        "**Stride**"
      ],
      "metadata": {
        "id": "JVA9glirFAH_"
      }
    },
    {
      "cell_type": "code",
      "source": [
        "#se muestran los valores cada dos espacios (uno si, uno no)\n",
        "Name[::2]"
      ],
      "metadata": {
        "colab": {
          "base_uri": "https://localhost:8080/",
          "height": 36
        },
        "id": "p72B0tHpFCEA",
        "outputId": "68adcb11-f278-483a-d6f8-60bc09f303c4"
      },
      "execution_count": null,
      "outputs": [
        {
          "output_type": "execute_result",
          "data": {
            "text/plain": [
              "'McalJcsn'"
            ],
            "application/vnd.google.colaboratory.intrinsic+json": {
              "type": "string"
            }
          },
          "metadata": {},
          "execution_count": 53
        }
      ]
    },
    {
      "cell_type": "code",
      "source": [
        "#se muestran los valores cada dos espacios, sólo hasta el espacio 5\n",
        "Name[0:5:2]"
      ],
      "metadata": {
        "colab": {
          "base_uri": "https://localhost:8080/",
          "height": 36
        },
        "id": "j6ntuEUuFRSv",
        "outputId": "a053cd44-819f-431d-dbc5-5c2a2b8d8631"
      },
      "execution_count": null,
      "outputs": [
        {
          "output_type": "execute_result",
          "data": {
            "text/plain": [
              "'Mca'"
            ],
            "application/vnd.google.colaboratory.intrinsic+json": {
              "type": "string"
            }
          },
          "metadata": {},
          "execution_count": 54
        }
      ]
    },
    {
      "cell_type": "code",
      "source": [
        "#cantidad de caracteres\n",
        "len(Name)"
      ],
      "metadata": {
        "colab": {
          "base_uri": "https://localhost:8080/"
        },
        "id": "n_gNxPOtFsyH",
        "outputId": "6db4f1f6-03e2-4b1d-f1f0-d037810147d6"
      },
      "execution_count": null,
      "outputs": [
        {
          "output_type": "execute_result",
          "data": {
            "text/plain": [
              "15"
            ]
          },
          "metadata": {},
          "execution_count": 55
        }
      ]
    },
    {
      "cell_type": "markdown",
      "source": [
        "**Concatenar strings**"
      ],
      "metadata": {
        "id": "1sHzpvM3F4DY"
      }
    },
    {
      "cell_type": "code",
      "source": [
        "Statement = Name + \" is the best\"\n",
        "Statement"
      ],
      "metadata": {
        "colab": {
          "base_uri": "https://localhost:8080/",
          "height": 36
        },
        "id": "JVtg4PHwF6fh",
        "outputId": "e339133d-ebac-407f-dcb0-c917f99d67cd"
      },
      "execution_count": null,
      "outputs": [
        {
          "output_type": "execute_result",
          "data": {
            "text/plain": [
              "'Michael Jackson is the best'"
            ],
            "application/vnd.google.colaboratory.intrinsic+json": {
              "type": "string"
            }
          },
          "metadata": {},
          "execution_count": 58
        }
      ]
    },
    {
      "cell_type": "markdown",
      "source": [
        "**Multiplicar texto de string**"
      ],
      "metadata": {
        "id": "44q8FfxjIY6C"
      }
    },
    {
      "cell_type": "code",
      "source": [
        "DuplicatedName= Name * 3\n",
        "DuplicatedName"
      ],
      "metadata": {
        "colab": {
          "base_uri": "https://localhost:8080/",
          "height": 36
        },
        "id": "2-xW9ZeuIcvh",
        "outputId": "dd3cc05e-4298-499d-dab2-ae40ad024ee4"
      },
      "execution_count": null,
      "outputs": [
        {
          "output_type": "execute_result",
          "data": {
            "text/plain": [
              "' Michael Jackson Michael Jackson Michael Jackson'"
            ],
            "application/vnd.google.colaboratory.intrinsic+json": {
              "type": "string"
            }
          },
          "metadata": {},
          "execution_count": 64
        }
      ]
    },
    {
      "cell_type": "markdown",
      "source": [
        "**Escape sequences**"
      ],
      "metadata": {
        "id": "qkSrgA1LJOEa"
      }
    },
    {
      "cell_type": "code",
      "source": [
        "#salto de linea\n",
        "print(\"Michael Jackson \\nis the best\")"
      ],
      "metadata": {
        "colab": {
          "base_uri": "https://localhost:8080/"
        },
        "id": "KoAwNrUkJQfa",
        "outputId": "19fa3408-d9f6-4c34-807c-aba815fdd150"
      },
      "execution_count": null,
      "outputs": [
        {
          "output_type": "stream",
          "name": "stdout",
          "text": [
            "Michael Jackson \n",
            "is the best\n"
          ]
        }
      ]
    },
    {
      "cell_type": "code",
      "source": [
        "#tabulador\n",
        "print(\"Michael Jackson \\tis the best\")"
      ],
      "metadata": {
        "colab": {
          "base_uri": "https://localhost:8080/"
        },
        "outputId": "98451269-d667-453d-e021-860b25f5109a",
        "id": "k44d32SPJcQb"
      },
      "execution_count": null,
      "outputs": [
        {
          "output_type": "stream",
          "name": "stdout",
          "text": [
            "Michael Jackson \tis the best\n"
          ]
        }
      ]
    },
    {
      "cell_type": "code",
      "source": [
        "#para una diagonal invertida, se usa doble diagonal\n",
        "print(\"Michael Jackson \\\\ is the best\")\n",
        "#también puede ponerse una r antes del string\n",
        "print(r\"Michael Jackson \\ is the best\")"
      ],
      "metadata": {
        "colab": {
          "base_uri": "https://localhost:8080/"
        },
        "outputId": "31e3076d-75bc-4a0f-8035-c33aceb97fc9",
        "id": "3vqQZ9CWJiye"
      },
      "execution_count": null,
      "outputs": [
        {
          "output_type": "stream",
          "name": "stdout",
          "text": [
            "Michael Jackson \\ is the best\n",
            "Michael Jackson \\ is the best\n"
          ]
        }
      ]
    },
    {
      "cell_type": "markdown",
      "source": [
        "# **Métodos de strings**"
      ],
      "metadata": {
        "id": "mW2NUjrOKJ_6"
      }
    },
    {
      "cell_type": "markdown",
      "source": [
        "**Uppercase**"
      ],
      "metadata": {
        "id": "cr-mKGYZKdXh"
      }
    },
    {
      "cell_type": "code",
      "source": [
        "A=\"Thriller is the sixth studio album\"\n",
        "B=A.upper()\n",
        "B"
      ],
      "metadata": {
        "colab": {
          "base_uri": "https://localhost:8080/",
          "height": 36
        },
        "id": "DX7Hgzd1KM64",
        "outputId": "549120dd-9b06-49d5-eb58-8032af942422"
      },
      "execution_count": null,
      "outputs": [
        {
          "output_type": "execute_result",
          "data": {
            "text/plain": [
              "'THRILLER IS THE SIXTH STUDIO ALBUM'"
            ],
            "application/vnd.google.colaboratory.intrinsic+json": {
              "type": "string"
            }
          },
          "metadata": {},
          "execution_count": 72
        }
      ]
    },
    {
      "cell_type": "markdown",
      "source": [
        "**Replace**"
      ],
      "metadata": {
        "id": "nZ2PVzT_Klhx"
      }
    },
    {
      "cell_type": "code",
      "source": [
        "B=Name.replace('Michael','Janet')\n",
        "B"
      ],
      "metadata": {
        "colab": {
          "base_uri": "https://localhost:8080/",
          "height": 36
        },
        "id": "UoPFcjEwKomy",
        "outputId": "51f55adf-cff1-4cf0-a4b4-ed64bc1b7b84"
      },
      "execution_count": null,
      "outputs": [
        {
          "output_type": "execute_result",
          "data": {
            "text/plain": [
              "' Janet Jackson'"
            ],
            "application/vnd.google.colaboratory.intrinsic+json": {
              "type": "string"
            }
          },
          "metadata": {},
          "execution_count": 74
        }
      ]
    },
    {
      "cell_type": "markdown",
      "source": [
        "**Find**"
      ],
      "metadata": {
        "id": "CMeDsLbBK19x"
      }
    },
    {
      "cell_type": "code",
      "source": [
        "#imprime el index donde se encuentra el valor, si no existe, regresa -1\n",
        "Name.find('Jack')"
      ],
      "metadata": {
        "colab": {
          "base_uri": "https://localhost:8080/"
        },
        "id": "RA4DdCsOK3Sh",
        "outputId": "d7672406-dc26-417e-a440-ca27030fb972"
      },
      "execution_count": null,
      "outputs": [
        {
          "output_type": "execute_result",
          "data": {
            "text/plain": [
              "9"
            ]
          },
          "metadata": {},
          "execution_count": 78
        }
      ]
    },
    {
      "cell_type": "code",
      "source": [
        "\"013456\".find('1')"
      ],
      "metadata": {
        "colab": {
          "base_uri": "https://localhost:8080/"
        },
        "id": "3x-mhN8xLotS",
        "outputId": "49e25858-4885-4560-c30f-59e58a311ef8"
      },
      "execution_count": null,
      "outputs": [
        {
          "output_type": "execute_result",
          "data": {
            "text/plain": [
              "1"
            ]
          },
          "metadata": {},
          "execution_count": 79
        }
      ]
    },
    {
      "cell_type": "code",
      "source": [
        "'1'+'2'"
      ],
      "metadata": {
        "colab": {
          "base_uri": "https://localhost:8080/",
          "height": 36
        },
        "id": "pqytmdFML1ih",
        "outputId": "3009f3cb-77b6-42dd-86d4-0ded90d29796"
      },
      "execution_count": null,
      "outputs": [
        {
          "output_type": "execute_result",
          "data": {
            "text/plain": [
              "'12'"
            ],
            "application/vnd.google.colaboratory.intrinsic+json": {
              "type": "string"
            }
          },
          "metadata": {},
          "execution_count": 83
        }
      ]
    },
    {
      "cell_type": "markdown",
      "source": [
        "# **Listas y tuplas**\n",
        "Estos son llamados tipos de datos compuestos, y son unos de los tipos clave de estructuras de datos en Python\n",
        "\n",
        "**Tuplas**\n",
        "Las tuplas son secuencias ordenadas, son escritas separadas por comas y están entre paréntesis:\n",
        "tupla=(1,2,3,4,5)\n",
        "\n",
        "Una tupla puede contener strings, ints y float al mismo tiempo, pero el tipo de dato será tuple"
      ],
      "metadata": {
        "id": "rXQsDGxyMk6p"
      }
    },
    {
      "cell_type": "code",
      "source": [
        "tuple1=(\"disco\",10,1.2)\n",
        "type(tuple1)"
      ],
      "metadata": {
        "colab": {
          "base_uri": "https://localhost:8080/"
        },
        "id": "STrxogkXNb40",
        "outputId": "97946259-8b4e-4065-fa03-a5787309a199"
      },
      "execution_count": null,
      "outputs": [
        {
          "output_type": "execute_result",
          "data": {
            "text/plain": [
              "tuple"
            ]
          },
          "metadata": {},
          "execution_count": 88
        }
      ]
    },
    {
      "cell_type": "code",
      "source": [
        "#acceder a un index especifico, es igual que con el string\n",
        "tuple1[0]"
      ],
      "metadata": {
        "colab": {
          "base_uri": "https://localhost:8080/",
          "height": 36
        },
        "id": "NaLnC_EJNlhJ",
        "outputId": "027a2a32-0670-4669-cec4-63ddc9df1749"
      },
      "execution_count": null,
      "outputs": [
        {
          "output_type": "execute_result",
          "data": {
            "text/plain": [
              "'disco'"
            ],
            "application/vnd.google.colaboratory.intrinsic+json": {
              "type": "string"
            }
          },
          "metadata": {},
          "execution_count": 86
        }
      ]
    },
    {
      "cell_type": "code",
      "source": [
        "#concatenar, igual que con strings\n",
        "tuple2=tuple1+(\"hard rock\", 10)\n",
        "tuple2"
      ],
      "metadata": {
        "colab": {
          "base_uri": "https://localhost:8080/"
        },
        "id": "W3aiun3PN33S",
        "outputId": "fa88e111-134f-4aa3-d46f-8a4b62b150f1"
      },
      "execution_count": null,
      "outputs": [
        {
          "output_type": "execute_result",
          "data": {
            "text/plain": [
              "('disco', 10, 1.2, 'hard rock', 10)"
            ]
          },
          "metadata": {},
          "execution_count": 89
        }
      ]
    },
    {
      "cell_type": "code",
      "source": [
        "#slicing, igual que en strings, el ultimo index es un numero mas que el numero que deseas\n",
        "tuple2[0:3]"
      ],
      "metadata": {
        "colab": {
          "base_uri": "https://localhost:8080/"
        },
        "id": "9EAz5ByeOERB",
        "outputId": "2705fb87-4955-4b4a-e7a3-eab557d9ac5e"
      },
      "execution_count": null,
      "outputs": [
        {
          "output_type": "execute_result",
          "data": {
            "text/plain": [
              "('disco', 10, 1.2)"
            ]
          },
          "metadata": {},
          "execution_count": 90
        }
      ]
    },
    {
      "cell_type": "code",
      "source": [
        "#saber longitud de tupla\n",
        "len(tuple2)"
      ],
      "metadata": {
        "colab": {
          "base_uri": "https://localhost:8080/"
        },
        "id": "tLinYTMGOVbh",
        "outputId": "b6dec6d7-3afc-490f-d28a-0fd8ab7995c0"
      },
      "execution_count": null,
      "outputs": [
        {
          "output_type": "execute_result",
          "data": {
            "text/plain": [
              "5"
            ]
          },
          "metadata": {},
          "execution_count": 91
        }
      ]
    },
    {
      "cell_type": "markdown",
      "source": [
        "**Las tuplas son inmutables al igual que los strings, no pueden cambiarse valores en index específicos**"
      ],
      "metadata": {
        "id": "WgSt1rfFOg6H"
      }
    },
    {
      "cell_type": "markdown",
      "source": [
        "**Ordenar una tupla**"
      ],
      "metadata": {
        "id": "u87_dOgGOuSY"
      }
    },
    {
      "cell_type": "code",
      "source": [
        "Ratings=(10,9,6,5,10,8,9,6,2)\n",
        "RatingsSorted=sorted(Ratings)\n",
        "RatingsSorted"
      ],
      "metadata": {
        "colab": {
          "base_uri": "https://localhost:8080/"
        },
        "id": "WzmIISuaOxVh",
        "outputId": "88517aa2-e025-4eb7-b136-64edb48cf184"
      },
      "execution_count": null,
      "outputs": [
        {
          "output_type": "execute_result",
          "data": {
            "text/plain": [
              "[2, 5, 6, 6, 8, 9, 9, 10, 10]"
            ]
          },
          "metadata": {},
          "execution_count": 93
        }
      ]
    },
    {
      "cell_type": "markdown",
      "source": [
        "**Nesting**\n",
        "Una tupla que puede contener otras tuplas, y otros tipos de datos complejos"
      ],
      "metadata": {
        "id": "Tn1KITBcPDnY"
      }
    },
    {
      "cell_type": "code",
      "source": [
        "NT=(1,2,(\"pop\",\"rock\"),(3,4),(\"disco\",(1,2)))\n",
        "NT\n",
        "#Acceder a un elemento dentro de un index\n",
        "NT[2][1]"
      ],
      "metadata": {
        "colab": {
          "base_uri": "https://localhost:8080/",
          "height": 36
        },
        "id": "8JqPpEwNPMzo",
        "outputId": "bf83b183-97a0-4160-844b-5073ea336ee8"
      },
      "execution_count": null,
      "outputs": [
        {
          "output_type": "execute_result",
          "data": {
            "text/plain": [
              "'rock'"
            ],
            "application/vnd.google.colaboratory.intrinsic+json": {
              "type": "string"
            }
          },
          "metadata": {},
          "execution_count": 96
        }
      ]
    },
    {
      "cell_type": "markdown",
      "source": [
        "**Listas**\n",
        "\n",
        "La diferencia entre las listas y las tuplas, es que las listas son mutables."
      ],
      "metadata": {
        "id": "n62Y643XP2aS"
      }
    },
    {
      "cell_type": "code",
      "source": [
        "B=[\"a\",\"b\",\"c\"]\n",
        "B[1:]"
      ],
      "metadata": {
        "colab": {
          "base_uri": "https://localhost:8080/"
        },
        "id": "U2zCqdYyT4Lv",
        "outputId": "1039ef42-95e4-4aa3-bc96-265b0ee70fa0"
      },
      "execution_count": null,
      "outputs": [
        {
          "output_type": "execute_result",
          "data": {
            "text/plain": [
              "['b', 'c']"
            ]
          },
          "metadata": {},
          "execution_count": 119
        }
      ]
    },
    {
      "cell_type": "code",
      "source": [
        "L=[\"Michael Jackson\",10.1,1982]\n",
        "L"
      ],
      "metadata": {
        "colab": {
          "base_uri": "https://localhost:8080/"
        },
        "id": "FHYr_41wP6ng",
        "outputId": "6bfcf4b7-cfb0-495e-8b82-0495e9498f2e"
      },
      "execution_count": null,
      "outputs": [
        {
          "output_type": "execute_result",
          "data": {
            "text/plain": [
              "['Michael Jackson', 10.1, 1982]"
            ]
          },
          "metadata": {},
          "execution_count": 109
        }
      ]
    },
    {
      "cell_type": "code",
      "source": [
        "#extend para mutar las listas, agregar elementos a la lista original y extenderla, los elementos se agregan separados\n",
        "L.extend([\"pop\",10])\n",
        "L"
      ],
      "metadata": {
        "colab": {
          "base_uri": "https://localhost:8080/"
        },
        "id": "DigLblkcQx1Q",
        "outputId": "6444453b-93c9-40b4-d2ec-f9018ec851fa"
      },
      "execution_count": null,
      "outputs": [
        {
          "output_type": "execute_result",
          "data": {
            "text/plain": [
              "['Michael Jackson', 10.1, 1982, 'pop', 10]"
            ]
          },
          "metadata": {},
          "execution_count": 110
        }
      ]
    },
    {
      "cell_type": "code",
      "source": [
        "#append para agregar un elemento a la lista, este elemento puede obtener varios datos adentro\n",
        "L.append([\"rock\",30])\n",
        "L"
      ],
      "metadata": {
        "colab": {
          "base_uri": "https://localhost:8080/"
        },
        "outputId": "8c304cd9-8dda-4116-b565-2855474026c6",
        "id": "bC2smuzsROjs"
      },
      "execution_count": null,
      "outputs": [
        {
          "output_type": "execute_result",
          "data": {
            "text/plain": [
              "['hard rock', 1982, 'pop', 10, ['rock', 30], ['rock', 30], ['rock', 30]]"
            ]
          },
          "metadata": {},
          "execution_count": 123
        }
      ]
    },
    {
      "cell_type": "code",
      "source": [
        "#se puede modificar un index especifico de la lista\n",
        "L[0]=\"hard rock\"\n",
        "L"
      ],
      "metadata": {
        "colab": {
          "base_uri": "https://localhost:8080/"
        },
        "id": "WceZMG_xRz6J",
        "outputId": "903cc3f3-7a5d-4c45-fb2d-683e171ee40c"
      },
      "execution_count": null,
      "outputs": [
        {
          "output_type": "execute_result",
          "data": {
            "text/plain": [
              "['hard rock', 10.1, 1982, 'pop', 10, ['rock', 30]]"
            ]
          },
          "metadata": {},
          "execution_count": 113
        }
      ]
    },
    {
      "cell_type": "code",
      "source": [
        "#eliminar elementos de la lista por index\n",
        "del(L[1])\n",
        "L"
      ],
      "metadata": {
        "colab": {
          "base_uri": "https://localhost:8080/"
        },
        "id": "SwwaO_8zSCEo",
        "outputId": "873c1802-8cf5-41e2-dbfe-65e4019eb140"
      },
      "execution_count": null,
      "outputs": [
        {
          "output_type": "execute_result",
          "data": {
            "text/plain": [
              "['hard rock', 1982, 'pop', 10, ['rock', 30]]"
            ]
          },
          "metadata": {},
          "execution_count": 114
        }
      ]
    },
    {
      "cell_type": "markdown",
      "source": [
        "**Nestings, se puede hacer con otras listas o tuplas**"
      ],
      "metadata": {
        "id": "b0rcwxs6QNm5"
      }
    },
    {
      "cell_type": "code",
      "source": [
        "L=[\"Michael Jackson\",10.1,1982,[1,2],(\"A\",1)]\n",
        "L"
      ],
      "metadata": {
        "colab": {
          "base_uri": "https://localhost:8080/"
        },
        "id": "nbVyk9EoQMwQ",
        "outputId": "131d8df5-b6f9-448c-a037-27c58e2ce8c5"
      },
      "execution_count": null,
      "outputs": [
        {
          "output_type": "execute_result",
          "data": {
            "text/plain": [
              "['Michael Jackson', 10.1, 1982, [1, 2], ('A', 1)]"
            ]
          },
          "metadata": {},
          "execution_count": 99
        }
      ]
    },
    {
      "cell_type": "markdown",
      "source": [
        "**Se puede acceder a los index de igual manera que en las tuplas, también el slicing y la concatenación**\n",
        "\n",
        "**Convertir string a lista:**"
      ],
      "metadata": {
        "id": "CVQ41jU1QfTo"
      }
    },
    {
      "cell_type": "code",
      "source": [
        "\"hard rock\".split()"
      ],
      "metadata": {
        "colab": {
          "base_uri": "https://localhost:8080/"
        },
        "id": "Br0MKjF4QtpK",
        "outputId": "fd050ece-0e35-4818-8529-2bcc1c359f85"
      },
      "execution_count": null,
      "outputs": [
        {
          "output_type": "execute_result",
          "data": {
            "text/plain": [
              "['hard', 'rock']"
            ]
          },
          "metadata": {},
          "execution_count": 115
        }
      ]
    },
    {
      "cell_type": "code",
      "source": [
        "#crear lista separando los valores en base a un caracter específico\n",
        "\"A,B,C,D\".split(\",\")"
      ],
      "metadata": {
        "colab": {
          "base_uri": "https://localhost:8080/"
        },
        "outputId": "219dba85-6400-4f87-d422-6bf27624b8c3",
        "id": "CkDkZ8-_Sda7"
      },
      "execution_count": null,
      "outputs": [
        {
          "output_type": "execute_result",
          "data": {
            "text/plain": [
              "['A', 'B', 'C', 'D']"
            ]
          },
          "metadata": {},
          "execution_count": 116
        }
      ]
    },
    {
      "cell_type": "markdown",
      "source": [
        "**Aliasing: si dos variables refieren a la misma lista, y un valor de una de las variables cambian, en la otra variable también cambiarán**"
      ],
      "metadata": {
        "id": "IBwh-qYqS4FI"
      }
    },
    {
      "cell_type": "code",
      "source": [
        "B=L\n",
        "B"
      ],
      "metadata": {
        "colab": {
          "base_uri": "https://localhost:8080/"
        },
        "id": "f6Jmf8ILTe4v",
        "outputId": "29d5dc87-5e3c-4159-f6f0-4e5893fc1f6f"
      },
      "execution_count": null,
      "outputs": [
        {
          "output_type": "execute_result",
          "data": {
            "text/plain": [
              "['hard rock', 1982, 'pop', 10, ['rock', 30]]"
            ]
          },
          "metadata": {},
          "execution_count": 118
        }
      ]
    },
    {
      "cell_type": "markdown",
      "source": [
        "**Clonar una lista: (si se cambia el valor de una, no afecta a la otra)**"
      ],
      "metadata": {
        "id": "kaI1GRAwTfUG"
      }
    },
    {
      "cell_type": "code",
      "source": [
        "B=L[:]\n",
        "B"
      ],
      "metadata": {
        "colab": {
          "base_uri": "https://localhost:8080/"
        },
        "id": "kVBm8r_uTH9Y",
        "outputId": "571949d7-b506-4d89-ac26-40abf86d26b3"
      },
      "execution_count": null,
      "outputs": [
        {
          "output_type": "execute_result",
          "data": {
            "text/plain": [
              "['hard rock', 1982, 'pop', 10, ['rock', 30]]"
            ]
          },
          "metadata": {},
          "execution_count": 117
        }
      ]
    },
    {
      "cell_type": "markdown",
      "source": [
        "# **Sets**\n",
        "\n",
        "A diferencia de las listas y tuplas, no son ordenados, no guardan posición de elementos, solo tienen elementos únicos, no tiene elementos duplicados"
      ],
      "metadata": {
        "id": "-6-Va5IDUIPf"
      }
    },
    {
      "cell_type": "code",
      "source": [
        "set1={\"pop\",\"rock\",\"soul\",\"rock\",\"r&b\",\"disco\",\"rock\"}\n",
        "set1"
      ],
      "metadata": {
        "colab": {
          "base_uri": "https://localhost:8080/"
        },
        "id": "XgfNBZ-PUaWY",
        "outputId": "e3f18a7b-5d00-4f1f-b377-1621f052fe42"
      },
      "execution_count": null,
      "outputs": [
        {
          "output_type": "execute_result",
          "data": {
            "text/plain": [
              "{'disco', 'pop', 'r&b', 'rock', 'soul'}"
            ]
          },
          "metadata": {},
          "execution_count": 120
        }
      ]
    },
    {
      "cell_type": "markdown",
      "source": [
        "**Convertir una list a un set con type-casting (función set())**"
      ],
      "metadata": {
        "id": "uu4bbulXUrAw"
      }
    },
    {
      "cell_type": "code",
      "source": [
        "album=[\"Michael\",\"Thriller\",\"Thriller\",1982]\n",
        "cast_set=set(album)\n",
        "cast_set"
      ],
      "metadata": {
        "colab": {
          "base_uri": "https://localhost:8080/"
        },
        "id": "r695TK8OU03Q",
        "outputId": "8c53079c-d7c5-4ae5-bd5c-aed493cf5ce0"
      },
      "execution_count": null,
      "outputs": [
        {
          "output_type": "execute_result",
          "data": {
            "text/plain": [
              "{1982, 'Michael', 'Thriller'}"
            ]
          },
          "metadata": {},
          "execution_count": 125
        }
      ]
    },
    {
      "cell_type": "markdown",
      "source": [
        "**Añadir elemento a set**"
      ],
      "metadata": {
        "id": "TIIQkqiqVeJw"
      }
    },
    {
      "cell_type": "code",
      "source": [
        "cast_set.add(\"NSYNC\")\n",
        "cast_set"
      ],
      "metadata": {
        "colab": {
          "base_uri": "https://localhost:8080/"
        },
        "id": "q1ZszUjMVd05",
        "outputId": "dfa653ae-446b-4b73-df8e-a94f6e77ac80"
      },
      "execution_count": null,
      "outputs": [
        {
          "output_type": "execute_result",
          "data": {
            "text/plain": [
              "{1982, 'Michael', 'NSYNC', 'Thriller'}"
            ]
          },
          "metadata": {},
          "execution_count": 126
        }
      ]
    },
    {
      "cell_type": "markdown",
      "source": [
        "**Eliminar elemento de set**"
      ],
      "metadata": {
        "id": "f9kdIdawVpLH"
      }
    },
    {
      "cell_type": "code",
      "source": [
        "cast_set.remove(\"NSYNC\")\n",
        "cast_set"
      ],
      "metadata": {
        "colab": {
          "base_uri": "https://localhost:8080/"
        },
        "outputId": "1b59c122-3e2c-4966-af8e-422079346feb",
        "id": "UBQ6tRH6VtfN"
      },
      "execution_count": null,
      "outputs": [
        {
          "output_type": "execute_result",
          "data": {
            "text/plain": [
              "{1982, 'Michael', 'Thriller'}"
            ]
          },
          "metadata": {},
          "execution_count": 127
        }
      ]
    },
    {
      "cell_type": "markdown",
      "source": [
        "**Comprobar si existe un elemento en set**"
      ],
      "metadata": {
        "id": "ZeDZUT8mV5iH"
      }
    },
    {
      "cell_type": "code",
      "source": [
        "\"Michael\" in cast_set"
      ],
      "metadata": {
        "colab": {
          "base_uri": "https://localhost:8080/"
        },
        "id": "PIBY1mxuV_EZ",
        "outputId": "95b0b58e-eeec-4146-faa1-15ee90c0d0a3"
      },
      "execution_count": null,
      "outputs": [
        {
          "output_type": "execute_result",
          "data": {
            "text/plain": [
              "True"
            ]
          },
          "metadata": {},
          "execution_count": 128
        }
      ]
    },
    {
      "cell_type": "code",
      "source": [
        "\"Who\" in cast_set"
      ],
      "metadata": {
        "outputId": "b5849a78-80d1-4891-fa57-60c6a5c00e01",
        "colab": {
          "base_uri": "https://localhost:8080/"
        },
        "id": "nBDxUgw9WD0T"
      },
      "execution_count": null,
      "outputs": [
        {
          "output_type": "execute_result",
          "data": {
            "text/plain": [
              "False"
            ]
          },
          "metadata": {},
          "execution_count": 129
        }
      ]
    },
    {
      "cell_type": "markdown",
      "source": [
        "**Intersección entre dos sets, elementos en común**"
      ],
      "metadata": {
        "id": "NaSybgfSWYlf"
      }
    },
    {
      "cell_type": "code",
      "source": [
        "album_set_1={\"AC\",\"Back\",\"Thriller\"}\n",
        "album_set_2={\"AC\",\"Thriller\",\"Dark\"}\n",
        "album_set_3=album_set_1 & album_set_2\n",
        "album_set_3"
      ],
      "metadata": {
        "colab": {
          "base_uri": "https://localhost:8080/"
        },
        "id": "hkR2hIHMWe1h",
        "outputId": "2c3fbff5-fc8b-4731-a767-09bb22369a59"
      },
      "execution_count": 1,
      "outputs": [
        {
          "output_type": "execute_result",
          "data": {
            "text/plain": [
              "{'AC', 'Thriller'}"
            ]
          },
          "metadata": {},
          "execution_count": 1
        }
      ]
    },
    {
      "cell_type": "markdown",
      "source": [
        "**La unión de dos sets crea un nuevo set que contiene los elementos de los dos anteriores**"
      ],
      "metadata": {
        "id": "2PUOHC0gu4_b"
      }
    },
    {
      "cell_type": "code",
      "source": [
        "#unión de dos sets\n",
        "album_set_1.union(album_set_2)"
      ],
      "metadata": {
        "colab": {
          "base_uri": "https://localhost:8080/"
        },
        "id": "jbKPzqJ6vECc",
        "outputId": "7d8fb2de-588f-4a79-c2e5-7ff0750d7844"
      },
      "execution_count": 2,
      "outputs": [
        {
          "output_type": "execute_result",
          "data": {
            "text/plain": [
              "{'AC', 'Back', 'Dark', 'Thriller'}"
            ]
          },
          "metadata": {},
          "execution_count": 2
        }
      ]
    },
    {
      "cell_type": "markdown",
      "source": [
        "**Método subset**"
      ],
      "metadata": {
        "id": "IEGMM4bMwNm-"
      }
    },
    {
      "cell_type": "code",
      "source": [
        "album_set_3.issubset(album_set_1)"
      ],
      "metadata": {
        "colab": {
          "base_uri": "https://localhost:8080/"
        },
        "id": "MYHYkDsuwXwb",
        "outputId": "5bd14fba-f6e7-4815-c04b-8690aa3d13cb"
      },
      "execution_count": 3,
      "outputs": [
        {
          "output_type": "execute_result",
          "data": {
            "text/plain": [
              "True"
            ]
          },
          "metadata": {},
          "execution_count": 3
        }
      ]
    },
    {
      "cell_type": "code",
      "source": [
        "album_set_1.issubset(album_set_3)"
      ],
      "metadata": {
        "colab": {
          "base_uri": "https://localhost:8080/"
        },
        "outputId": "353b748c-56ca-47fb-ac4d-2f927f23b8fe",
        "id": "EPC_nXXgwnxb"
      },
      "execution_count": 4,
      "outputs": [
        {
          "output_type": "execute_result",
          "data": {
            "text/plain": [
              "False"
            ]
          },
          "metadata": {},
          "execution_count": 4
        }
      ]
    },
    {
      "cell_type": "code",
      "source": [
        "S={'A','B','C'}\n",
        "U={'A','Z','C'}\n",
        "U.union(S)"
      ],
      "metadata": {
        "colab": {
          "base_uri": "https://localhost:8080/"
        },
        "id": "xoF_u2g6wuVc",
        "outputId": "b10f78cb-1e20-4f1e-9983-735d62bdd222"
      },
      "execution_count": 6,
      "outputs": [
        {
          "output_type": "execute_result",
          "data": {
            "text/plain": [
              "{'A', 'B', 'C', 'Z'}"
            ]
          },
          "metadata": {},
          "execution_count": 6
        }
      ]
    },
    {
      "cell_type": "markdown",
      "source": [
        "# **Diccionarios**\n",
        "\n",
        "Son un tipo de colección en Python, a diferencia de las listas, en vez de utilizar index, los diccionarios tienen keys y valores.\n",
        "Las keys no tienen que ser numericas obligatoriamente como los index, normalmente suelen ser caracteres.\n",
        "Los valores pueden ser inmutables, mutables y duplicados."
      ],
      "metadata": {
        "id": "i87j1CABxqZU"
      }
    },
    {
      "cell_type": "code",
      "source": [
        "#crear un diccionario\n",
        "{\"key1\":1,\"key2\":\"2\",\"key3\":[3,3,3],\"key4\":(4,4,4),('key5'):5}"
      ],
      "metadata": {
        "colab": {
          "base_uri": "https://localhost:8080/"
        },
        "id": "htZ7jvory2YN",
        "outputId": "ba5b3bcf-4165-487c-ba8b-0608d4b38eed"
      },
      "execution_count": 7,
      "outputs": [
        {
          "output_type": "execute_result",
          "data": {
            "text/plain": [
              "{'key1': 1, 'key2': '2', 'key3': [3, 3, 3], 'key4': (4, 4, 4), 'key5': 5}"
            ]
          },
          "metadata": {},
          "execution_count": 7
        }
      ]
    },
    {
      "cell_type": "code",
      "source": [
        "DICT={\"Thriller\":\"1982\",\"Back in Black\": \"1980\",\"The dark side of the moon\":\"1973\",\"The BodyGuard\":\"1992\"}\n",
        "DICT"
      ],
      "metadata": {
        "colab": {
          "base_uri": "https://localhost:8080/"
        },
        "id": "zBf4sKwzzVzD",
        "outputId": "20a653be-dada-4f32-8f81-f0bc5884c1b1"
      },
      "execution_count": 18,
      "outputs": [
        {
          "output_type": "execute_result",
          "data": {
            "text/plain": [
              "{'Thriller': '1982',\n",
              " 'Back in Black': '1980',\n",
              " 'The dark side of the moon': '1973',\n",
              " 'The BodyGuard': '1992'}"
            ]
          },
          "metadata": {},
          "execution_count": 18
        }
      ]
    },
    {
      "cell_type": "code",
      "source": [
        "#ver valor de una key específica\n",
        "DICT[\"Thriller\"]"
      ],
      "metadata": {
        "colab": {
          "base_uri": "https://localhost:8080/",
          "height": 36
        },
        "id": "tZincegLz3WK",
        "outputId": "093e801b-7527-459e-a801-2456851292b2"
      },
      "execution_count": 19,
      "outputs": [
        {
          "output_type": "execute_result",
          "data": {
            "text/plain": [
              "'1982'"
            ],
            "application/vnd.google.colaboratory.intrinsic+json": {
              "type": "string"
            }
          },
          "metadata": {},
          "execution_count": 19
        }
      ]
    },
    {
      "cell_type": "code",
      "source": [
        "#Agregar una nueva entrada al diccionario\n",
        "DICT['Graduation']=\"2007\"\n",
        "DICT"
      ],
      "metadata": {
        "colab": {
          "base_uri": "https://localhost:8080/"
        },
        "id": "Vso5dlHf0hE9",
        "outputId": "f8d67c98-ca61-4162-b7de-5a97c4d37eef"
      },
      "execution_count": 20,
      "outputs": [
        {
          "output_type": "execute_result",
          "data": {
            "text/plain": [
              "{'Thriller': '1982',\n",
              " 'Back in Black': '1980',\n",
              " 'The dark side of the moon': '1973',\n",
              " 'The BodyGuard': '1992',\n",
              " 'Graduation': '2007'}"
            ]
          },
          "metadata": {},
          "execution_count": 20
        }
      ]
    },
    {
      "cell_type": "code",
      "source": [
        "#Eliminar entrada del diccionario\n",
        "del(DICT['Thriller'])\n",
        "DICT"
      ],
      "metadata": {
        "colab": {
          "base_uri": "https://localhost:8080/"
        },
        "id": "LytVSmgs00AE",
        "outputId": "53a903df-9b0a-4865-ea20-7fbe20ac66a9"
      },
      "execution_count": 21,
      "outputs": [
        {
          "output_type": "execute_result",
          "data": {
            "text/plain": [
              "{'Back in Black': '1980',\n",
              " 'The dark side of the moon': '1973',\n",
              " 'The BodyGuard': '1992',\n",
              " 'Graduation': '2007'}"
            ]
          },
          "metadata": {},
          "execution_count": 21
        }
      ]
    },
    {
      "cell_type": "code",
      "source": [
        "#Verificar si un elemento está en el diccionario\n",
        "'The BodyGuard' in DICT"
      ],
      "metadata": {
        "colab": {
          "base_uri": "https://localhost:8080/"
        },
        "id": "AdQE00Am1Dsr",
        "outputId": "bdcf1e48-76bf-4427-8897-7f14864411db"
      },
      "execution_count": 22,
      "outputs": [
        {
          "output_type": "execute_result",
          "data": {
            "text/plain": [
              "True"
            ]
          },
          "metadata": {},
          "execution_count": 22
        }
      ]
    },
    {
      "cell_type": "code",
      "source": [
        "#Ver todos los keys de un diccionario\n",
        "DICT.keys()"
      ],
      "metadata": {
        "colab": {
          "base_uri": "https://localhost:8080/"
        },
        "id": "QDuaczDW1nVL",
        "outputId": "d12c7259-680e-4bec-ba03-1d22f137706d"
      },
      "execution_count": 23,
      "outputs": [
        {
          "output_type": "execute_result",
          "data": {
            "text/plain": [
              "dict_keys(['Back in Black', 'The dark side of the moon', 'The BodyGuard', 'Graduation'])"
            ]
          },
          "metadata": {},
          "execution_count": 23
        }
      ]
    },
    {
      "cell_type": "code",
      "source": [
        "#obtener valores de diccionario\n",
        "DICT.values()"
      ],
      "metadata": {
        "colab": {
          "base_uri": "https://localhost:8080/"
        },
        "id": "D-lUgZ7x6gj9",
        "outputId": "592ba41d-9820-4c35-b2a9-d2055403c8f6"
      },
      "execution_count": 24,
      "outputs": [
        {
          "output_type": "execute_result",
          "data": {
            "text/plain": [
              "dict_values(['1980', '1973', '1992', '2007'])"
            ]
          },
          "metadata": {},
          "execution_count": 24
        }
      ]
    },
    {
      "cell_type": "markdown",
      "source": [
        "# **Condiciones y derivaciones (branching)**\n"
      ],
      "metadata": {
        "id": "2NJlMd8B724M"
      }
    },
    {
      "cell_type": "markdown",
      "source": [
        "**Condiciones**\n",
        "\n",
        "Las operaciones de comparación, comparan algunos valores y operandos, y basados en una condición regresan un boolean."
      ],
      "metadata": {
        "id": "68-1JUM1_Kn4"
      }
    },
    {
      "cell_type": "code",
      "source": [
        "a=6\n",
        "#Comparación de dos valores, regresa un boolean\n",
        "a==6"
      ],
      "metadata": {
        "colab": {
          "base_uri": "https://localhost:8080/"
        },
        "id": "G7kqNtox8TTc",
        "outputId": "c9009099-22b9-4e1c-8f2a-8968b855dd06"
      },
      "execution_count": 26,
      "outputs": [
        {
          "output_type": "execute_result",
          "data": {
            "text/plain": [
              "True"
            ]
          },
          "metadata": {},
          "execution_count": 26
        }
      ]
    },
    {
      "cell_type": "code",
      "source": [
        "#Si a es mayor a 5\n",
        "a>5\n",
        "#si es menor a 5\n",
        "a<5"
      ],
      "metadata": {
        "colab": {
          "base_uri": "https://localhost:8080/"
        },
        "id": "sHQVzKNx8mEc",
        "outputId": "c142ace9-9ba4-4c5c-95fb-17a1edea3a20"
      },
      "execution_count": 30,
      "outputs": [
        {
          "output_type": "execute_result",
          "data": {
            "text/plain": [
              "False"
            ]
          },
          "metadata": {},
          "execution_count": 30
        }
      ]
    },
    {
      "cell_type": "code",
      "source": [
        "#Si a es mayor o igual a 6\n",
        "a>=6"
      ],
      "metadata": {
        "colab": {
          "base_uri": "https://localhost:8080/"
        },
        "outputId": "c003eeff-5c20-4cc3-d99e-e202dbb763b6",
        "id": "7oOVni198xcR"
      },
      "execution_count": 29,
      "outputs": [
        {
          "output_type": "execute_result",
          "data": {
            "text/plain": [
              "True"
            ]
          },
          "metadata": {},
          "execution_count": 29
        }
      ]
    },
    {
      "cell_type": "code",
      "source": [
        "#si a es diferente a 6\n",
        "a!=6"
      ],
      "metadata": {
        "colab": {
          "base_uri": "https://localhost:8080/"
        },
        "id": "kW-oc24o9HWz",
        "outputId": "10230aed-5d6b-4ad6-cb9c-92c19db0d519"
      },
      "execution_count": 31,
      "outputs": [
        {
          "output_type": "execute_result",
          "data": {
            "text/plain": [
              "False"
            ]
          },
          "metadata": {},
          "execution_count": 31
        }
      ]
    },
    {
      "cell_type": "markdown",
      "source": [
        "**Branching**\n",
        "\n",
        "Nos permite correr diferentes declaraciones para un input diferente"
      ],
      "metadata": {
        "id": "qY_XUWjZ_ONB"
      }
    },
    {
      "cell_type": "markdown",
      "source": [
        "**If statement**"
      ],
      "metadata": {
        "id": "yefnVXi9_i9f"
      }
    },
    {
      "cell_type": "code",
      "source": [
        "age=18\n",
        "if(age>18):\n",
        "  print(\"you can enter\")\n",
        "#elif significa else if\n",
        "elif(age==18):\n",
        "  print(\"go see Pink Floyd\")\n",
        "else:\n",
        "  print(\"go see Meat Loaf\")\n",
        "print(\"move on\")"
      ],
      "metadata": {
        "colab": {
          "base_uri": "https://localhost:8080/"
        },
        "id": "yj0hA4sZ_lsv",
        "outputId": "85357089-ac06-41ff-a5b9-929219aa98f5"
      },
      "execution_count": 37,
      "outputs": [
        {
          "output_type": "stream",
          "name": "stdout",
          "text": [
            "go see Pink Floyd\n",
            "move on\n"
          ]
        }
      ]
    },
    {
      "cell_type": "markdown",
      "source": [
        "**Operadores lógicos**\n",
        "\n",
        "Los operadores lógicos toman valores boolean y produce diferentes valores boolean"
      ],
      "metadata": {
        "id": "gRLWgaddBkrA"
      }
    },
    {
      "cell_type": "code",
      "source": [
        "#Regresa el valor contrario al valor actual del boolean, equivalente a !variable\n",
        "not(True)"
      ],
      "metadata": {
        "colab": {
          "base_uri": "https://localhost:8080/"
        },
        "id": "V4TKGUGqB1mF",
        "outputId": "5602536a-0496-4534-ef29-c0e85355a6ea"
      },
      "execution_count": 38,
      "outputs": [
        {
          "output_type": "execute_result",
          "data": {
            "text/plain": [
              "False"
            ]
          },
          "metadata": {},
          "execution_count": 38
        }
      ]
    },
    {
      "cell_type": "markdown",
      "source": [
        "**Operador or**\n",
        "\n",
        "Solo regresa un False si todas las condiciones son falsas"
      ],
      "metadata": {
        "id": "pBV9U74WCeDF"
      }
    },
    {
      "cell_type": "code",
      "source": [
        "album_year=1990\n",
        "if(album_year<1980)or(album_year>1989):\n",
        "  print(\"The album was made in the 70's or the 90's\")\n",
        "else:\n",
        "  print(\"The album was made in the 80's\")"
      ],
      "metadata": {
        "colab": {
          "base_uri": "https://localhost:8080/"
        },
        "id": "PbRdRt10CgY2",
        "outputId": "429ddb5c-a649-462f-962a-b84cbe1d7cda"
      },
      "execution_count": 41,
      "outputs": [
        {
          "output_type": "stream",
          "name": "stdout",
          "text": [
            "The album was made in the 70's or the 90's\n"
          ]
        }
      ]
    },
    {
      "cell_type": "markdown",
      "source": [
        "**Operador and**\n",
        "\n",
        "Solo regresa un True si todas las condiciones son True"
      ],
      "metadata": {
        "id": "HytqswPCDMz-"
      }
    },
    {
      "cell_type": "code",
      "source": [
        "album_year=1983\n",
        "if(album_year>1979)and(album_year<1990):\n",
        "  print(\"The album was made in the 80's\")\n"
      ],
      "metadata": {
        "colab": {
          "base_uri": "https://localhost:8080/"
        },
        "id": "XMwo9TCJDZcu",
        "outputId": "191bdd6e-ae7c-49d4-cf0a-60ec26e0e233"
      },
      "execution_count": 43,
      "outputs": [
        {
          "output_type": "stream",
          "name": "stdout",
          "text": [
            "The album was made in the 80's\n"
          ]
        }
      ]
    },
    {
      "cell_type": "markdown",
      "source": [
        "# **Loops**"
      ],
      "metadata": {
        "id": "4dy-R3RgGSes"
      }
    },
    {
      "cell_type": "markdown",
      "source": [
        "**Range function**\n",
        "\n",
        "Imprime una secuencia ordenada como una lista, si el input es un número positivo, la salida es una secuencia que contendrá el mismo número de elementos que el input, pero empezará en cero."
      ],
      "metadata": {
        "id": "lHEC3Ozxs6lU"
      }
    },
    {
      "cell_type": "code",
      "source": [
        "# [0,1,2]\n",
        "range(3)"
      ],
      "metadata": {
        "colab": {
          "base_uri": "https://localhost:8080/"
        },
        "id": "IKuAVwUBtRuS",
        "outputId": "4d862fb0-5e7b-435d-f232-7e3cf6840be3"
      },
      "execution_count": 1,
      "outputs": [
        {
          "output_type": "execute_result",
          "data": {
            "text/plain": [
              "range(0, 3)"
            ]
          },
          "metadata": {},
          "execution_count": 1
        }
      ]
    },
    {
      "cell_type": "code",
      "source": [
        "# [10,11,12,13,14]\n",
        "range(10,15)"
      ],
      "metadata": {
        "colab": {
          "base_uri": "https://localhost:8080/"
        },
        "id": "M7b5KzWTuK0y",
        "outputId": "b52e07d8-2270-4fcf-999b-e074964f5c64"
      },
      "execution_count": 2,
      "outputs": [
        {
          "output_type": "execute_result",
          "data": {
            "text/plain": [
              "range(10, 15)"
            ]
          },
          "metadata": {},
          "execution_count": 2
        }
      ]
    },
    {
      "cell_type": "markdown",
      "source": [
        "**for loops**"
      ],
      "metadata": {
        "id": "EOINPmFXuZ5R"
      }
    },
    {
      "cell_type": "code",
      "source": [
        "squares=[\"red\",\"yellow\",\"green\",\"purple\",\"blue\"]\n",
        "#variable igual a la longitud de la lista squares\n",
        "length=len(squares)\n",
        "#for tradicional con index, de 0 a la longitud de la lista\n",
        "for i in range(0,length):\n",
        "  squares[i]=\"white\"\n",
        "\n",
        "squares"
      ],
      "metadata": {
        "colab": {
          "base_uri": "https://localhost:8080/"
        },
        "id": "S0t9Fj5mureL",
        "outputId": "625efffc-7dd0-4fcc-9068-4696542ce959"
      },
      "execution_count": 41,
      "outputs": [
        {
          "output_type": "execute_result",
          "data": {
            "text/plain": [
              "['white', 'white', 'white', 'white', 'white']"
            ]
          },
          "metadata": {},
          "execution_count": 41
        }
      ]
    },
    {
      "cell_type": "code",
      "source": [
        "squares=[\"red\",\"yellow\",\"green\"]\n",
        "#forEach sirve en tuplas y listas\n",
        "for square in squares:\n",
        "  print(square)\n"
      ],
      "metadata": {
        "colab": {
          "base_uri": "https://localhost:8080/"
        },
        "id": "PWpR494gvjHs",
        "outputId": "d660ae93-ed4c-4cc4-d725-178672bf831b"
      },
      "execution_count": 17,
      "outputs": [
        {
          "output_type": "stream",
          "name": "stdout",
          "text": [
            "red\n",
            "yellow\n",
            "green\n"
          ]
        }
      ]
    },
    {
      "cell_type": "code",
      "source": [
        "#enumerate, sirve para obtener el index y el elemento en la lista\n",
        "squares=[\"red\",\"yellow\",\"green\"]\n",
        "for i, square in enumerate(squares):\n",
        "  print(square)\n",
        "  print(i)"
      ],
      "metadata": {
        "colab": {
          "base_uri": "https://localhost:8080/"
        },
        "id": "kiW4hO2lwx5K",
        "outputId": "170225e1-7fb3-4ef3-99e0-71b62b9eb06d"
      },
      "execution_count": 23,
      "outputs": [
        {
          "output_type": "stream",
          "name": "stdout",
          "text": [
            "red\n",
            "0\n",
            "yellow\n",
            "1\n",
            "green\n",
            "2\n"
          ]
        }
      ]
    },
    {
      "cell_type": "markdown",
      "source": [
        "**while loops**\n",
        "\n",
        "Solo se correrá mientras se cumpla una condición "
      ],
      "metadata": {
        "id": "IOwztgm8xZXb"
      }
    },
    {
      "cell_type": "code",
      "source": [
        "squares=[\"orange\",\"orange\",\"yellow\",\"green\"]\n",
        "Newsquares=[]\n",
        "i=0\n",
        "#solo se ejecuta hasta que squares deje de ser orange\n",
        "while(squares[i]=='orange'):\n",
        "  Newsquares.append(squares[i])\n",
        "\n",
        "  i=i+1\n",
        "\n",
        "\n",
        "Newsquares"
      ],
      "metadata": {
        "colab": {
          "base_uri": "https://localhost:8080/"
        },
        "id": "Azy0SQXYxlX3",
        "outputId": "50bf9c93-1b4e-44f6-f7e1-105528c2e6f2"
      },
      "execution_count": 30,
      "outputs": [
        {
          "output_type": "execute_result",
          "data": {
            "text/plain": [
              "['orange', 'orange']"
            ]
          },
          "metadata": {},
          "execution_count": 30
        }
      ]
    },
    {
      "cell_type": "code",
      "source": [
        "x=3\n",
        "y=1\n",
        "while(y!=x):\n",
        "  print(y)\n",
        "  y=y+1"
      ],
      "metadata": {
        "colab": {
          "base_uri": "https://localhost:8080/"
        },
        "id": "mlc6lEX1zpug",
        "outputId": "78f7481e-5661-42a3-858c-64d62c78303a"
      },
      "execution_count": 43,
      "outputs": [
        {
          "output_type": "stream",
          "name": "stdout",
          "text": [
            "1\n",
            "2\n"
          ]
        }
      ]
    }
  ]
}